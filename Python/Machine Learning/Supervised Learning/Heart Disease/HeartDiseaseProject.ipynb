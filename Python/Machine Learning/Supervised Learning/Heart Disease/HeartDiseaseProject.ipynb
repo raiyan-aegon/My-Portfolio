{
 "cells": [
  {
   "cell_type": "markdown",
   "id": "e8f20347-e968-4b64-a70c-f9cd5aaf5940",
   "metadata": {},
   "source": [
    "# End to End Project - Predicting Heart Disease using machine learning \n",
    "\n",
    "This notebook looks into using Python based machine learning and Data Science \n",
    "libraries in an attempt to build a machine learning model capable of predicting whether nr not\n",
    "someone has heart disease, based on their medical history.\n",
    "\n",
    "We are going to take the following approach:\n",
    "\n",
    "1. Problem Definition\n",
    "2. Data \n",
    "3. Evaluation\n",
    "4. Fetaures\n",
    "5. Modelling\n",
    "6. Experimentation\n",
    "\n",
    "\n",
    "## 1. Problem Defintion\n",
    "\n",
    "> Given a patients medical history can we predict whether or not a patient has heart disease ?\n",
    "\n",
    "\n",
    "## 2. Data\n",
    "\n",
    "This database contains 76 attributes, but all published experiments refer to using a subset of 14 of them. In particular, the Cleveland database is the only one that has been used by ML researchers to\n",
    "this date. The \"goal\" field refers to the presence of heart disease in the patient. It is integer valued from 0 (no presence) to 4. Experiments with the Cleveland database have concentrated on simply attempting to distinguish presence (values 1,2,3,4) from absence (value 0).\n",
    "\n",
    "\n",
    "## 3. Evaluation\n",
    "\n",
    "> If we cam reach 95% accuracy at predicting whether or not patient has heart disease \n",
    "during the proof of concept.\n",
    "\n",
    "## 4. Features\n",
    "\n",
    "> Information of about each feature in the data set.\n",
    "\n",
    "**Create data dictionary**\n",
    "\n",
    "* age - age in years\n",
    "* sex - (1 = male; 0 = female)\n",
    "* cp - chest pain type\n",
    "    * 0: Typical angina: chest pain related decrease blood supply to the heart\n",
    "    * 1: Atypical angina: chest pain not related to heart\n",
    "    * 2: Non-anginal pain: typically esophageal spasms (non heart related)\n",
    "    * 3: Asymptomatic: chest pain not showing signs of disease\n",
    "* trestbps - resting blood pressure (in mm Hg on admission to the hospital) anything above 130-140 is typically cause for concern\n",
    "* chol - serum cholestoral in mg/dl\n",
    "     * serum = LDL + HDL + .2 * triglycerides\n",
    "     * above 200 is cause for concern\n",
    "* fbs - (fasting blood sugar > 120 mg/dl) (1 = true; 0 = false)\n",
    "     * '>126' mg/dL signals diabetes\n",
    "* restecg - resting electrocardiographic results\n",
    "     * 0: Nothing to note\n",
    "     * 1: ST-T Wave abnormality \n",
    "          * can range from mild symptoms to severe problems.\n",
    "          * signals non-normal heart beat.\n",
    "     * 2: Possible or definite left ventricular hypertrophy\n",
    "       * Enlarged heart's main pumping chamber.\n",
    "* thalach - maximum heart rate achieved\n",
    "* exang - exercise induced angina (1 = yes; 0 = no)\n",
    "* oldpeak - ST depression induced by exercise relative to rest looks at stress of heart during excercise unhealthy heart will stress more\n",
    "* slope - the slope of the peak exercise ST segment\n",
    "    * 0: Upsloping: better heart rate with excercise (uncommon)\n",
    "    * 1: Flatsloping: minimal change (typical healthy heart)\n",
    "    * 2: Downslopins: signs of unhealthy heart\n",
    "* ca - number of major vessels (0-3) colored by flourosopy\n",
    "    * colored vessel means the doctor can see the blood passing through\n",
    "    * the more blood movement the better (no clots)\n",
    "* thal - thalium stress result\n",
    "    * 1,3: normal\n",
    "    * 6: fixed defect: used to be defect but ok now\n",
    "    * 7: reversable defect: no proper blood movement when excercising\n",
    "* target - have disease or not (1=yes, 0=no) (= the predicted attribute)"
   ]
  },
  {
   "cell_type": "markdown",
   "id": "389a6615-65d8-43ae-a516-d2312ab3d29d",
   "metadata": {},
   "source": [
    "## Tools\n",
    "\n",
    "* Using libraries:\n",
    "    * Pandas \n",
    "    * Numpy\n",
    "    * Matplotlib\n",
    "    * Seaborn\n",
    "    * Sckit-learn"
   ]
  },
  {
   "cell_type": "code",
   "execution_count": 347,
   "id": "5e461aa6-7a6e-434c-a08d-647e881f1642",
   "metadata": {},
   "outputs": [],
   "source": [
    "# import all the tools we need\n",
    "\n",
    "import numpy as np \n",
    "import pandas as pd\n",
    "import matplotlib.pyplot as plt\n",
    "import seaborn as sns\n",
    "\n",
    "# import models\n",
    "from sklearn.linear_model import LogisticRegression\n",
    "from sklearn.neighbors import KNeighborsClassifier\n",
    "from sklearn.ensemble import RandomForestClassifier\n",
    "from sklearn.naive_bayes import GaussianNB\n",
    "\n",
    "#import evaluations\n",
    "from sklearn.model_selection import train_test_split,cross_val_score\n",
    "from sklearn.model_selection import RandomizedSearchCV,GridSearchCV\n",
    "from sklearn.metrics import confusion_matrix,classification_report\n",
    "from sklearn.metrics import precision_score,recall_score,f1_score\n",
    "from sklearn.metrics import plot_roc_curve\n",
    "\n",
    "# import preprocessing \n",
    "from sklearn.preprocessing import StandardScaler"
   ]
  },
  {
   "cell_type": "markdown",
   "id": "1bd96b83-7edc-4d76-9f80-76198686ca6c",
   "metadata": {},
   "source": [
    "# Exploratory Data Analysis"
   ]
  },
  {
   "cell_type": "code",
   "execution_count": 248,
   "id": "7b86cc3c-bf97-4f08-9cb5-24bc788a648f",
   "metadata": {},
   "outputs": [],
   "source": [
    "sns.set_style('darkgrid')"
   ]
  },
  {
   "cell_type": "markdown",
   "id": "53fec6e7-b304-4137-983c-606873475c62",
   "metadata": {},
   "source": [
    "### Load and Read data"
   ]
  },
  {
   "cell_type": "code",
   "execution_count": 5,
   "id": "4e2e6dec-8f1b-4578-a894-72bf13802031",
   "metadata": {},
   "outputs": [],
   "source": [
    "df = pd.read_csv('heart-disease.csv')"
   ]
  },
  {
   "cell_type": "code",
   "execution_count": 191,
   "id": "463f3cb7-cae6-4234-9844-546091897488",
   "metadata": {},
   "outputs": [],
   "source": [
    "data = df.copy()"
   ]
  },
  {
   "cell_type": "code",
   "execution_count": 193,
   "id": "820871bf-0939-44d8-b24e-8f5b461345f8",
   "metadata": {},
   "outputs": [
    {
     "data": {
      "text/html": [
       "<div>\n",
       "<style scoped>\n",
       "    .dataframe tbody tr th:only-of-type {\n",
       "        vertical-align: middle;\n",
       "    }\n",
       "\n",
       "    .dataframe tbody tr th {\n",
       "        vertical-align: top;\n",
       "    }\n",
       "\n",
       "    .dataframe thead th {\n",
       "        text-align: right;\n",
       "    }\n",
       "</style>\n",
       "<table border=\"1\" class=\"dataframe\">\n",
       "  <thead>\n",
       "    <tr style=\"text-align: right;\">\n",
       "      <th></th>\n",
       "      <th>age</th>\n",
       "      <th>sex</th>\n",
       "      <th>cp</th>\n",
       "      <th>trestbps</th>\n",
       "      <th>chol</th>\n",
       "      <th>fbs</th>\n",
       "      <th>restecg</th>\n",
       "      <th>thalach</th>\n",
       "      <th>exang</th>\n",
       "      <th>oldpeak</th>\n",
       "      <th>slope</th>\n",
       "      <th>ca</th>\n",
       "      <th>thal</th>\n",
       "      <th>target</th>\n",
       "    </tr>\n",
       "  </thead>\n",
       "  <tbody>\n",
       "    <tr>\n",
       "      <th>147</th>\n",
       "      <td>60</td>\n",
       "      <td>0</td>\n",
       "      <td>3</td>\n",
       "      <td>150</td>\n",
       "      <td>240</td>\n",
       "      <td>0</td>\n",
       "      <td>1</td>\n",
       "      <td>171</td>\n",
       "      <td>0</td>\n",
       "      <td>0.9</td>\n",
       "      <td>2</td>\n",
       "      <td>0</td>\n",
       "      <td>2</td>\n",
       "      <td>1</td>\n",
       "    </tr>\n",
       "    <tr>\n",
       "      <th>214</th>\n",
       "      <td>56</td>\n",
       "      <td>1</td>\n",
       "      <td>0</td>\n",
       "      <td>125</td>\n",
       "      <td>249</td>\n",
       "      <td>1</td>\n",
       "      <td>0</td>\n",
       "      <td>144</td>\n",
       "      <td>1</td>\n",
       "      <td>1.2</td>\n",
       "      <td>1</td>\n",
       "      <td>1</td>\n",
       "      <td>2</td>\n",
       "      <td>0</td>\n",
       "    </tr>\n",
       "    <tr>\n",
       "      <th>223</th>\n",
       "      <td>56</td>\n",
       "      <td>0</td>\n",
       "      <td>0</td>\n",
       "      <td>200</td>\n",
       "      <td>288</td>\n",
       "      <td>1</td>\n",
       "      <td>0</td>\n",
       "      <td>133</td>\n",
       "      <td>1</td>\n",
       "      <td>4.0</td>\n",
       "      <td>0</td>\n",
       "      <td>2</td>\n",
       "      <td>3</td>\n",
       "      <td>0</td>\n",
       "    </tr>\n",
       "    <tr>\n",
       "      <th>96</th>\n",
       "      <td>62</td>\n",
       "      <td>0</td>\n",
       "      <td>0</td>\n",
       "      <td>140</td>\n",
       "      <td>394</td>\n",
       "      <td>0</td>\n",
       "      <td>0</td>\n",
       "      <td>157</td>\n",
       "      <td>0</td>\n",
       "      <td>1.2</td>\n",
       "      <td>1</td>\n",
       "      <td>0</td>\n",
       "      <td>2</td>\n",
       "      <td>1</td>\n",
       "    </tr>\n",
       "    <tr>\n",
       "      <th>266</th>\n",
       "      <td>55</td>\n",
       "      <td>0</td>\n",
       "      <td>0</td>\n",
       "      <td>180</td>\n",
       "      <td>327</td>\n",
       "      <td>0</td>\n",
       "      <td>2</td>\n",
       "      <td>117</td>\n",
       "      <td>1</td>\n",
       "      <td>3.4</td>\n",
       "      <td>1</td>\n",
       "      <td>0</td>\n",
       "      <td>2</td>\n",
       "      <td>0</td>\n",
       "    </tr>\n",
       "  </tbody>\n",
       "</table>\n",
       "</div>"
      ],
      "text/plain": [
       "     age  sex  cp  trestbps  chol  fbs  restecg  thalach  exang  oldpeak  \\\n",
       "147   60    0   3       150   240    0        1      171      0      0.9   \n",
       "214   56    1   0       125   249    1        0      144      1      1.2   \n",
       "223   56    0   0       200   288    1        0      133      1      4.0   \n",
       "96    62    0   0       140   394    0        0      157      0      1.2   \n",
       "266   55    0   0       180   327    0        2      117      1      3.4   \n",
       "\n",
       "     slope  ca  thal  target  \n",
       "147      2   0     2       1  \n",
       "214      1   1     2       0  \n",
       "223      0   2     3       0  \n",
       "96       1   0     2       1  \n",
       "266      1   0     2       0  "
      ]
     },
     "execution_count": 193,
     "metadata": {},
     "output_type": "execute_result"
    }
   ],
   "source": [
    "data.sample(5)"
   ]
  },
  {
   "cell_type": "markdown",
   "id": "063ac570-1814-4e00-8715-9f05b7b1a72d",
   "metadata": {},
   "source": [
    "### Features "
   ]
  },
  {
   "cell_type": "code",
   "execution_count": 194,
   "id": "3b90c5b6-ef41-4f63-9e4d-f2fcdaea27f5",
   "metadata": {},
   "outputs": [
    {
     "name": "stdout",
     "output_type": "stream",
     "text": [
      "<class 'pandas.core.frame.DataFrame'>\n",
      "RangeIndex: 303 entries, 0 to 302\n",
      "Data columns (total 14 columns):\n",
      " #   Column    Non-Null Count  Dtype  \n",
      "---  ------    --------------  -----  \n",
      " 0   age       303 non-null    int64  \n",
      " 1   sex       303 non-null    int64  \n",
      " 2   cp        303 non-null    int64  \n",
      " 3   trestbps  303 non-null    int64  \n",
      " 4   chol      303 non-null    int64  \n",
      " 5   fbs       303 non-null    int64  \n",
      " 6   restecg   303 non-null    int64  \n",
      " 7   thalach   303 non-null    int64  \n",
      " 8   exang     303 non-null    int64  \n",
      " 9   oldpeak   303 non-null    float64\n",
      " 10  slope     303 non-null    int64  \n",
      " 11  ca        303 non-null    int64  \n",
      " 12  thal      303 non-null    int64  \n",
      " 13  target    303 non-null    int64  \n",
      "dtypes: float64(1), int64(13)\n",
      "memory usage: 33.3 KB\n"
     ]
    }
   ],
   "source": [
    "data.info()"
   ]
  },
  {
   "cell_type": "markdown",
   "id": "21159d5f-e387-4d25-8662-625f6d6b9c61",
   "metadata": {},
   "source": [
    "> No missing values in the data set"
   ]
  },
  {
   "cell_type": "markdown",
   "id": "978d3a52-7d1a-4e29-9a44-99b4d61ed691",
   "metadata": {},
   "source": [
    "### Checking Features of various attribute"
   ]
  },
  {
   "cell_type": "markdown",
   "id": "d18d50a3-897f-4059-80fe-076c61e72724",
   "metadata": {},
   "source": [
    "#### Sex \n",
    "#### `Male : 1 and Female : 0`"
   ]
  },
  {
   "cell_type": "code",
   "execution_count": 195,
   "id": "75abd8d0-d473-4dfe-9892-16aea8b4cc6a",
   "metadata": {},
   "outputs": [],
   "source": [
    "sex_plot = data.groupby(['target','sex']).size().reset_index().pivot(columns='target',index='sex',values=0)"
   ]
  },
  {
   "cell_type": "code",
   "execution_count": 196,
   "id": "9e10c7ae-0256-429d-b1fb-c11d6ac09aff",
   "metadata": {},
   "outputs": [
    {
     "data": {
      "text/html": [
       "<div>\n",
       "<style scoped>\n",
       "    .dataframe tbody tr th:only-of-type {\n",
       "        vertical-align: middle;\n",
       "    }\n",
       "\n",
       "    .dataframe tbody tr th {\n",
       "        vertical-align: top;\n",
       "    }\n",
       "\n",
       "    .dataframe thead th {\n",
       "        text-align: right;\n",
       "    }\n",
       "</style>\n",
       "<table border=\"1\" class=\"dataframe\">\n",
       "  <thead>\n",
       "    <tr style=\"text-align: right;\">\n",
       "      <th>target</th>\n",
       "      <th>0</th>\n",
       "      <th>1</th>\n",
       "    </tr>\n",
       "    <tr>\n",
       "      <th>sex</th>\n",
       "      <th></th>\n",
       "      <th></th>\n",
       "    </tr>\n",
       "  </thead>\n",
       "  <tbody>\n",
       "    <tr>\n",
       "      <th>0</th>\n",
       "      <td>24</td>\n",
       "      <td>72</td>\n",
       "    </tr>\n",
       "    <tr>\n",
       "      <th>1</th>\n",
       "      <td>114</td>\n",
       "      <td>93</td>\n",
       "    </tr>\n",
       "  </tbody>\n",
       "</table>\n",
       "</div>"
      ],
      "text/plain": [
       "target    0   1\n",
       "sex            \n",
       "0        24  72\n",
       "1       114  93"
      ]
     },
     "execution_count": 196,
     "metadata": {},
     "output_type": "execute_result"
    }
   ],
   "source": [
    "sex_plot"
   ]
  },
  {
   "cell_type": "code",
   "execution_count": 197,
   "id": "2189ff63-731d-440c-adb1-5f7d34e349a9",
   "metadata": {},
   "outputs": [],
   "source": [
    "sex_plot.rename(columns={0:'NoHeartDisease',1:'HeartDisease'},inplace=True)\n",
    "sex_plot.rename(index={0:'Female',1:'Male'},inplace=True)"
   ]
  },
  {
   "cell_type": "code",
   "execution_count": 198,
   "id": "b95310a1-5991-4985-a66b-4a03446fe688",
   "metadata": {},
   "outputs": [
    {
     "data": {
      "text/html": [
       "<div>\n",
       "<style scoped>\n",
       "    .dataframe tbody tr th:only-of-type {\n",
       "        vertical-align: middle;\n",
       "    }\n",
       "\n",
       "    .dataframe tbody tr th {\n",
       "        vertical-align: top;\n",
       "    }\n",
       "\n",
       "    .dataframe thead th {\n",
       "        text-align: right;\n",
       "    }\n",
       "</style>\n",
       "<table border=\"1\" class=\"dataframe\">\n",
       "  <thead>\n",
       "    <tr style=\"text-align: right;\">\n",
       "      <th>target</th>\n",
       "      <th>NoHeartDisease</th>\n",
       "      <th>HeartDisease</th>\n",
       "    </tr>\n",
       "    <tr>\n",
       "      <th>sex</th>\n",
       "      <th></th>\n",
       "      <th></th>\n",
       "    </tr>\n",
       "  </thead>\n",
       "  <tbody>\n",
       "    <tr>\n",
       "      <th>Female</th>\n",
       "      <td>24</td>\n",
       "      <td>72</td>\n",
       "    </tr>\n",
       "    <tr>\n",
       "      <th>Male</th>\n",
       "      <td>114</td>\n",
       "      <td>93</td>\n",
       "    </tr>\n",
       "  </tbody>\n",
       "</table>\n",
       "</div>"
      ],
      "text/plain": [
       "target  NoHeartDisease  HeartDisease\n",
       "sex                                 \n",
       "Female              24            72\n",
       "Male               114            93"
      ]
     },
     "execution_count": 198,
     "metadata": {},
     "output_type": "execute_result"
    }
   ],
   "source": [
    "sex_plot"
   ]
  },
  {
   "cell_type": "code",
   "execution_count": 249,
   "id": "fd53acad-fbef-4dbc-81d8-ec9607afd6b5",
   "metadata": {},
   "outputs": [
    {
     "data": {
      "text/plain": [
       "<AxesSubplot:xlabel='sex'>"
      ]
     },
     "execution_count": 249,
     "metadata": {},
     "output_type": "execute_result"
    },
    {
     "data": {
      "image/png": "[encoded data removed]",
      "text/plain": [
       "<Figure size 864x432 with 1 Axes>"
      ]
     },
     "metadata": {},
     "output_type": "display_data"
    }
   ],
   "source": [
    "fig,ax= plt.subplots(figsize=(12,6))\n",
    "sex_plot.plot(kind='bar',stacked=True,color=['skyblue','pink'],rot=45,ax=ax)"
   ]
  },
  {
   "cell_type": "code",
   "execution_count": 201,
   "id": "dbbc5880-0361-4d01-9f83-209c9ad16b12",
   "metadata": {},
   "outputs": [
    {
     "name": "stdout",
     "output_type": "stream",
     "text": [
      "Percentage of Female Patients with heart disease: 75.00%\n",
      "Percentage of Male Patients with heart disease: 44.93%\n"
     ]
    }
   ],
   "source": [
    "print(\"Percentage of Female Patients with heart disease: {:.2f}%\".format((sex_plot['HeartDisease']['Female']) / (sex_plot['NoHeartDisease']['Female']+ sex_plot['HeartDisease']['Female'])*100))\n",
    "print(\"Percentage of Male Patients with heart disease: {:.2f}%\".format((sex_plot['HeartDisease']['Male']) / (sex_plot['NoHeartDisease']['Male']+ sex_plot['HeartDisease']['Male'])*100))\n"
   ]
  },
  {
   "cell_type": "code",
   "execution_count": 202,
   "id": "d66b1a00-507c-48dc-96e4-678951fcc03f",
   "metadata": {},
   "outputs": [],
   "source": [
    "## Generally \n",
    "gen_prob  = (75 + 45)/2"
   ]
  },
  {
   "cell_type": "code",
   "execution_count": 203,
   "id": "6383a124-631b-4b77-bfcf-39457fc792e6",
   "metadata": {},
   "outputs": [
    {
     "data": {
      "text/plain": [
       "60.0"
      ]
     },
     "execution_count": 203,
     "metadata": {},
     "output_type": "execute_result"
    }
   ],
   "source": [
    "gen_prob"
   ]
  },
  {
   "cell_type": "markdown",
   "id": "c9b48813-ae79-46bd-9fe7-a3a6512eb209",
   "metadata": {},
   "source": [
    "> ##### Based on the existing dataset there's a 75% chance a Female has a heart disease ,44% chance when a patient is male and Generally theres a 60% chance a patient has a heart disease."
   ]
  },
  {
   "cell_type": "markdown",
   "id": "50c88ce6-9abf-4e81-adb2-152638f56389",
   "metadata": {},
   "source": [
    "#### Chest Pain \n",
    "\n",
    "* cp - chest pain type\n",
    "    * 0: Typical angina: chest pain related decrease blood supply to the heart\n",
    "    * 1: Atypical angina: chest pain not related to heart\n",
    "    * 2: Non-anginal pain: typically esophageal spasms (non heart related)\n",
    "    * 3: Asymptomatic: chest pain not showing signs of disease"
   ]
  },
  {
   "cell_type": "code",
   "execution_count": 204,
   "id": "ff4eeb87-9714-415f-984a-74cb5d1afc1b",
   "metadata": {},
   "outputs": [],
   "source": [
    "cp_plot = data.groupby(['cp','target']).size().reset_index().pivot(columns='target',index='cp',values=0)"
   ]
  },
  {
   "cell_type": "code",
   "execution_count": 205,
   "id": "aceb6477-9d8d-4102-9ce0-bc5938866632",
   "metadata": {},
   "outputs": [
    {
     "data": {
      "text/html": [
       "<div>\n",
       "<style scoped>\n",
       "    .dataframe tbody tr th:only-of-type {\n",
       "        vertical-align: middle;\n",
       "    }\n",
       "\n",
       "    .dataframe tbody tr th {\n",
       "        vertical-align: top;\n",
       "    }\n",
       "\n",
       "    .dataframe thead th {\n",
       "        text-align: right;\n",
       "    }\n",
       "</style>\n",
       "<table border=\"1\" class=\"dataframe\">\n",
       "  <thead>\n",
       "    <tr style=\"text-align: right;\">\n",
       "      <th>target</th>\n",
       "      <th>0</th>\n",
       "      <th>1</th>\n",
       "    </tr>\n",
       "    <tr>\n",
       "      <th>cp</th>\n",
       "      <th></th>\n",
       "      <th></th>\n",
       "    </tr>\n",
       "  </thead>\n",
       "  <tbody>\n",
       "    <tr>\n",
       "      <th>0</th>\n",
       "      <td>104</td>\n",
       "      <td>39</td>\n",
       "    </tr>\n",
       "    <tr>\n",
       "      <th>1</th>\n",
       "      <td>9</td>\n",
       "      <td>41</td>\n",
       "    </tr>\n",
       "    <tr>\n",
       "      <th>2</th>\n",
       "      <td>18</td>\n",
       "      <td>69</td>\n",
       "    </tr>\n",
       "    <tr>\n",
       "      <th>3</th>\n",
       "      <td>7</td>\n",
       "      <td>16</td>\n",
       "    </tr>\n",
       "  </tbody>\n",
       "</table>\n",
       "</div>"
      ],
      "text/plain": [
       "target    0   1\n",
       "cp             \n",
       "0       104  39\n",
       "1         9  41\n",
       "2        18  69\n",
       "3         7  16"
      ]
     },
     "execution_count": 205,
     "metadata": {},
     "output_type": "execute_result"
    }
   ],
   "source": [
    "cp_plot"
   ]
  },
  {
   "cell_type": "code",
   "execution_count": 206,
   "id": "bdcbebcd-af8b-40a1-bf0c-0a9f45bc9ca8",
   "metadata": {},
   "outputs": [],
   "source": [
    "cp_plot.rename(columns={0:'NoHeartDisease',1:'HeartDisease'},inplace=True)\n",
    "cp_plot.rename(index={0:'Typical Angina',1:'Atypical Angina',2:'Non-anginal pain',3:'Asymptomatic pain'},inplace=True)"
   ]
  },
  {
   "cell_type": "code",
   "execution_count": 207,
   "id": "9f3a06d1-c4a7-448b-be62-d8398db44ede",
   "metadata": {},
   "outputs": [
    {
     "data": {
      "text/html": [
       "<div>\n",
       "<style scoped>\n",
       "    .dataframe tbody tr th:only-of-type {\n",
       "        vertical-align: middle;\n",
       "    }\n",
       "\n",
       "    .dataframe tbody tr th {\n",
       "        vertical-align: top;\n",
       "    }\n",
       "\n",
       "    .dataframe thead th {\n",
       "        text-align: right;\n",
       "    }\n",
       "</style>\n",
       "<table border=\"1\" class=\"dataframe\">\n",
       "  <thead>\n",
       "    <tr style=\"text-align: right;\">\n",
       "      <th>target</th>\n",
       "      <th>NoHeartDisease</th>\n",
       "      <th>HeartDisease</th>\n",
       "    </tr>\n",
       "    <tr>\n",
       "      <th>cp</th>\n",
       "      <th></th>\n",
       "      <th></th>\n",
       "    </tr>\n",
       "  </thead>\n",
       "  <tbody>\n",
       "    <tr>\n",
       "      <th>Typical Angina</th>\n",
       "      <td>104</td>\n",
       "      <td>39</td>\n",
       "    </tr>\n",
       "    <tr>\n",
       "      <th>Atypical Angina</th>\n",
       "      <td>9</td>\n",
       "      <td>41</td>\n",
       "    </tr>\n",
       "    <tr>\n",
       "      <th>Non-anginal pain</th>\n",
       "      <td>18</td>\n",
       "      <td>69</td>\n",
       "    </tr>\n",
       "    <tr>\n",
       "      <th>Asymptomatic pain</th>\n",
       "      <td>7</td>\n",
       "      <td>16</td>\n",
       "    </tr>\n",
       "  </tbody>\n",
       "</table>\n",
       "</div>"
      ],
      "text/plain": [
       "target             NoHeartDisease  HeartDisease\n",
       "cp                                             \n",
       "Typical Angina                104            39\n",
       "Atypical Angina                 9            41\n",
       "Non-anginal pain               18            69\n",
       "Asymptomatic pain               7            16"
      ]
     },
     "execution_count": 207,
     "metadata": {},
     "output_type": "execute_result"
    }
   ],
   "source": [
    "cp_plot"
   ]
  },
  {
   "cell_type": "code",
   "execution_count": 250,
   "id": "b04b3115-3255-4c9d-8dae-2864e1e18bd4",
   "metadata": {},
   "outputs": [
    {
     "data": {
      "image/png": "[encoded data removed]",
      "text/plain": [
       "<Figure size 864x360 with 1 Axes>"
      ]
     },
     "metadata": {},
     "output_type": "display_data"
    }
   ],
   "source": [
    "fig,ax= plt.subplots(figsize=(12,5))\n",
    "cp_plot.plot(kind='bar',stacked=True,color=['palegreen','deepskyblue'],rot=45,ax=ax);"
   ]
  },
  {
   "cell_type": "code",
   "execution_count": 217,
   "id": "f53dc1be-41e6-4efd-9606-c3d2977b9aec",
   "metadata": {},
   "outputs": [
    {
     "name": "stdout",
     "output_type": "stream",
     "text": [
      "Percentage of Typical angina patients with heart disease : 27.27%\n",
      "Percentage of Atypical angina patients with heart disease : 82.00%\n",
      "Percentage of Non-anginal pain patients with heart disease : 79.31%\n",
      "Percentage of Asymptomatic angina patients with heart disease : 69.57%\n"
     ]
    }
   ],
   "source": [
    "print(\"Percentage of Typical angina patients with heart disease : {:.2f}%\".format((cp_plot['HeartDisease']['Typical Angina']) / (cp_plot['HeartDisease']['Typical Angina']+cp_plot['NoHeartDisease']['Typical Angina'])*100))\n",
    "print(\"Percentage of Atypical angina patients with heart disease : {:.2f}%\".format((cp_plot['HeartDisease']['Atypical Angina']) / (cp_plot['HeartDisease']['Atypical Angina']+cp_plot['NoHeartDisease']['Atypical Angina'])*100))\n",
    "print(\"Percentage of Non-anginal pain patients with heart disease : {:.2f}%\".format((cp_plot['HeartDisease']['Non-anginal pain']) / (cp_plot['HeartDisease']['Non-anginal pain']+cp_plot['NoHeartDisease']['Non-anginal pain'])*100))\n",
    "print(\"Percentage of Asymptomatic angina patients with heart disease : {:.2f}%\".format((cp_plot['HeartDisease']['Asymptomatic pain']) / (cp_plot['HeartDisease']['Asymptomatic pain']+cp_plot['NoHeartDisease']['Asymptomatic pain'])*100))"
   ]
  },
  {
   "cell_type": "markdown",
   "id": "a03f6a76-3d0c-4697-835e-220968866fb4",
   "metadata": {},
   "source": [
    "##### `Chest pain related to Sex`"
   ]
  },
  {
   "cell_type": "code",
   "execution_count": 218,
   "id": "3b9ae542-2cca-47a1-a83e-ba9047a74ecc",
   "metadata": {},
   "outputs": [],
   "source": [
    "cp_sex_plot = data.groupby(['sex','cp']).size().reset_index().pivot(columns='sex',index='cp',values=0)"
   ]
  },
  {
   "cell_type": "code",
   "execution_count": 219,
   "id": "b6a9cc67-2b5a-4a7f-a0e3-08ba2aaadf08",
   "metadata": {},
   "outputs": [
    {
     "data": {
      "text/html": [
       "<div>\n",
       "<style scoped>\n",
       "    .dataframe tbody tr th:only-of-type {\n",
       "        vertical-align: middle;\n",
       "    }\n",
       "\n",
       "    .dataframe tbody tr th {\n",
       "        vertical-align: top;\n",
       "    }\n",
       "\n",
       "    .dataframe thead th {\n",
       "        text-align: right;\n",
       "    }\n",
       "</style>\n",
       "<table border=\"1\" class=\"dataframe\">\n",
       "  <thead>\n",
       "    <tr style=\"text-align: right;\">\n",
       "      <th>sex</th>\n",
       "      <th>0</th>\n",
       "      <th>1</th>\n",
       "    </tr>\n",
       "    <tr>\n",
       "      <th>cp</th>\n",
       "      <th></th>\n",
       "      <th></th>\n",
       "    </tr>\n",
       "  </thead>\n",
       "  <tbody>\n",
       "    <tr>\n",
       "      <th>0</th>\n",
       "      <td>39</td>\n",
       "      <td>104</td>\n",
       "    </tr>\n",
       "    <tr>\n",
       "      <th>1</th>\n",
       "      <td>18</td>\n",
       "      <td>32</td>\n",
       "    </tr>\n",
       "    <tr>\n",
       "      <th>2</th>\n",
       "      <td>35</td>\n",
       "      <td>52</td>\n",
       "    </tr>\n",
       "    <tr>\n",
       "      <th>3</th>\n",
       "      <td>4</td>\n",
       "      <td>19</td>\n",
       "    </tr>\n",
       "  </tbody>\n",
       "</table>\n",
       "</div>"
      ],
      "text/plain": [
       "sex   0    1\n",
       "cp          \n",
       "0    39  104\n",
       "1    18   32\n",
       "2    35   52\n",
       "3     4   19"
      ]
     },
     "execution_count": 219,
     "metadata": {},
     "output_type": "execute_result"
    }
   ],
   "source": [
    "cp_sex_plot"
   ]
  },
  {
   "cell_type": "code",
   "execution_count": 222,
   "id": "531a6575-7e69-4d4b-9188-e8a22f3dc222",
   "metadata": {},
   "outputs": [],
   "source": [
    "cp_sex_plot.rename(columns={0:'Female',1:'Male'},inplace=True)\n",
    "cp_sex_plot.rename(index={0:'Typical Angina',1:'Atypical Angina',2:'Non-anginal pain',3:'Asymptomatic pain'},inplace=True)"
   ]
  },
  {
   "cell_type": "code",
   "execution_count": 223,
   "id": "9b4868fe-1d61-492a-af99-fda28f006895",
   "metadata": {},
   "outputs": [
    {
     "data": {
      "text/html": [
       "<div>\n",
       "<style scoped>\n",
       "    .dataframe tbody tr th:only-of-type {\n",
       "        vertical-align: middle;\n",
       "    }\n",
       "\n",
       "    .dataframe tbody tr th {\n",
       "        vertical-align: top;\n",
       "    }\n",
       "\n",
       "    .dataframe thead th {\n",
       "        text-align: right;\n",
       "    }\n",
       "</style>\n",
       "<table border=\"1\" class=\"dataframe\">\n",
       "  <thead>\n",
       "    <tr style=\"text-align: right;\">\n",
       "      <th>sex</th>\n",
       "      <th>Female</th>\n",
       "      <th>Male</th>\n",
       "    </tr>\n",
       "    <tr>\n",
       "      <th>cp</th>\n",
       "      <th></th>\n",
       "      <th></th>\n",
       "    </tr>\n",
       "  </thead>\n",
       "  <tbody>\n",
       "    <tr>\n",
       "      <th>Typical Angina</th>\n",
       "      <td>39</td>\n",
       "      <td>104</td>\n",
       "    </tr>\n",
       "    <tr>\n",
       "      <th>Atypical Angina</th>\n",
       "      <td>18</td>\n",
       "      <td>32</td>\n",
       "    </tr>\n",
       "    <tr>\n",
       "      <th>Non-anginal pain</th>\n",
       "      <td>35</td>\n",
       "      <td>52</td>\n",
       "    </tr>\n",
       "    <tr>\n",
       "      <th>Asymptomatic pain</th>\n",
       "      <td>4</td>\n",
       "      <td>19</td>\n",
       "    </tr>\n",
       "  </tbody>\n",
       "</table>\n",
       "</div>"
      ],
      "text/plain": [
       "sex                Female  Male\n",
       "cp                             \n",
       "Typical Angina         39   104\n",
       "Atypical Angina        18    32\n",
       "Non-anginal pain       35    52\n",
       "Asymptomatic pain       4    19"
      ]
     },
     "execution_count": 223,
     "metadata": {},
     "output_type": "execute_result"
    }
   ],
   "source": [
    "cp_sex_plot"
   ]
  },
  {
   "cell_type": "code",
   "execution_count": 251,
   "id": "4d08f142-0671-47c0-a226-59c40a4d0271",
   "metadata": {},
   "outputs": [
    {
     "data": {
      "image/png": "[encoded data removed]",
      "text/plain": [
       "<Figure size 864x360 with 1 Axes>"
      ]
     },
     "metadata": {},
     "output_type": "display_data"
    }
   ],
   "source": [
    "fig,ax= plt.subplots(figsize=(12,5))\n",
    "cp_sex_plot.plot(kind='bar',stacked=True,color=['olive','skyblue'],rot=45,ax=ax);"
   ]
  },
  {
   "cell_type": "code",
   "execution_count": 225,
   "id": "a308789d-6fd9-4610-8548-71023acca098",
   "metadata": {},
   "outputs": [
    {
     "name": "stdout",
     "output_type": "stream",
     "text": [
      "Percentage of Typical angina male patients : 50.24%\n",
      "Percentage of Typical angina female patients  : 40.62%\n"
     ]
    }
   ],
   "source": [
    "print(\"Percentage of Typical angina male patients : {:.2f}%\".format((cp_sex_plot['Male']['Typical Angina']) / (cp_sex_plot['Male'].sum())*100))\n",
    "print(\"Percentage of Typical angina female patients  : {:.2f}%\".format((cp_sex_plot['Female']['Typical Angina']) / (cp_sex_plot['Female'].sum())*100))\n"
   ]
  },
  {
   "cell_type": "markdown",
   "id": "7f7a86e3-32ba-4eff-aab2-caffff3fb20a",
   "metadata": {},
   "source": [
    "#### Age "
   ]
  },
  {
   "cell_type": "code",
   "execution_count": 252,
   "id": "ff6695a6-f879-4c8d-bed4-e2ef78de784e",
   "metadata": {},
   "outputs": [
    {
     "data": {
      "image/png": "[encoded data removed]",
      "text/plain": [
       "<Figure size 1440x576 with 1 Axes>"
      ]
     },
     "metadata": {},
     "output_type": "display_data"
    }
   ],
   "source": [
    "fig,ax = plt.subplots(figsize=(20,8))\n",
    "sns.countplot(data=data,x='age',hue='target',palette='GnBu',ax=ax)\n",
    "ax.legend(['No HeartDisease','HeartDisease'],loc='upper right');"
   ]
  },
  {
   "cell_type": "markdown",
   "id": "7bb4ad74-3aaf-4977-bf69-31c198580129",
   "metadata": {},
   "source": [
    "##### `Age vs Maximum heart rate`"
   ]
  },
  {
   "cell_type": "code",
   "execution_count": 253,
   "id": "c5812559-d0ba-48eb-9a27-f256d83d832b",
   "metadata": {},
   "outputs": [
    {
     "data": {
      "text/plain": [
       "<matplotlib.legend.Legend at 0x14dcc38cd90>"
      ]
     },
     "execution_count": 253,
     "metadata": {},
     "output_type": "execute_result"
    },
    {
     "data": {
      "image/png": "[encoded data removed]",
      "text/plain": [
       "<Figure size 720x360 with 1 Axes>"
      ]
     },
     "metadata": {},
     "output_type": "display_data"
    }
   ],
   "source": [
    "fig,ax = plt.subplots(figsize=(10,5))\n",
    "\n",
    "sns.scatterplot(data=data,x=data.age,\n",
    "               y=data.thalach,hue='target',ax=ax)\n",
    "\n",
    "ax.set_ylabel('Maximum Heart Rate')\n",
    "ax.set_title('Age v Maximum heart rate')\n",
    "ax.legend(['Heart Disease','No Heart Disease'])"
   ]
  },
  {
   "cell_type": "code",
   "execution_count": 283,
   "id": "811a7553-be91-4b03-930a-3d7a6f947234",
   "metadata": {},
   "outputs": [
    {
     "data": {
      "image/png": "[encoded data removed]",
      "text/plain": [
       "<Figure size 1080x576 with 1 Axes>"
      ]
     },
     "metadata": {},
     "output_type": "display_data"
    }
   ],
   "source": [
    "## Check distribution of age\n",
    "fig,ax = plt.subplots(figsize=(15,8))\n",
    "sns.histplot(x=data['age'],kde=True,ax=ax)\n",
    "ax.set_title('Age Distribution')\n",
    "plt.show()"
   ]
  },
  {
   "cell_type": "markdown",
   "id": "dc6528ab-9605-464d-81af-ccccd7aa2c58",
   "metadata": {},
   "source": [
    "#### Exang\n",
    "`exang - exercise induced angina (1 = yes; 0 = no)`"
   ]
  },
  {
   "cell_type": "code",
   "execution_count": 311,
   "id": "aa32f4d2-3005-4951-9fdc-433ab71ca232",
   "metadata": {},
   "outputs": [],
   "source": [
    "exang_plt=pd.crosstab(data.exang,data.target)"
   ]
  },
  {
   "cell_type": "code",
   "execution_count": 312,
   "id": "566fcff8-440d-4d87-ae15-00d6c101101f",
   "metadata": {},
   "outputs": [
    {
     "data": {
      "text/html": [
       "<div>\n",
       "<style scoped>\n",
       "    .dataframe tbody tr th:only-of-type {\n",
       "        vertical-align: middle;\n",
       "    }\n",
       "\n",
       "    .dataframe tbody tr th {\n",
       "        vertical-align: top;\n",
       "    }\n",
       "\n",
       "    .dataframe thead th {\n",
       "        text-align: right;\n",
       "    }\n",
       "</style>\n",
       "<table border=\"1\" class=\"dataframe\">\n",
       "  <thead>\n",
       "    <tr style=\"text-align: right;\">\n",
       "      <th>target</th>\n",
       "      <th>0</th>\n",
       "      <th>1</th>\n",
       "    </tr>\n",
       "    <tr>\n",
       "      <th>exang</th>\n",
       "      <th></th>\n",
       "      <th></th>\n",
       "    </tr>\n",
       "  </thead>\n",
       "  <tbody>\n",
       "    <tr>\n",
       "      <th>0</th>\n",
       "      <td>62</td>\n",
       "      <td>142</td>\n",
       "    </tr>\n",
       "    <tr>\n",
       "      <th>1</th>\n",
       "      <td>76</td>\n",
       "      <td>23</td>\n",
       "    </tr>\n",
       "  </tbody>\n",
       "</table>\n",
       "</div>"
      ],
      "text/plain": [
       "target   0    1\n",
       "exang          \n",
       "0       62  142\n",
       "1       76   23"
      ]
     },
     "execution_count": 312,
     "metadata": {},
     "output_type": "execute_result"
    }
   ],
   "source": [
    "exang_plt"
   ]
  },
  {
   "cell_type": "code",
   "execution_count": 313,
   "id": "c07765f7-b3ff-404d-a3d5-5e8d07424684",
   "metadata": {},
   "outputs": [],
   "source": [
    "exang_plt.rename(columns={0:'NoHeartDisease',1:'HeartDisease'},inplace=True)\n",
    "exang_plt.rename(index={0:'NoInduced Angina',1:'Exercise Induced Angina'},inplace=True)"
   ]
  },
  {
   "cell_type": "code",
   "execution_count": 314,
   "id": "ea3f298a-1faa-46ac-a335-e5b4f49481eb",
   "metadata": {},
   "outputs": [
    {
     "data": {
      "text/html": [
       "<div>\n",
       "<style scoped>\n",
       "    .dataframe tbody tr th:only-of-type {\n",
       "        vertical-align: middle;\n",
       "    }\n",
       "\n",
       "    .dataframe tbody tr th {\n",
       "        vertical-align: top;\n",
       "    }\n",
       "\n",
       "    .dataframe thead th {\n",
       "        text-align: right;\n",
       "    }\n",
       "</style>\n",
       "<table border=\"1\" class=\"dataframe\">\n",
       "  <thead>\n",
       "    <tr style=\"text-align: right;\">\n",
       "      <th>target</th>\n",
       "      <th>NoHeartDisease</th>\n",
       "      <th>HeartDisease</th>\n",
       "    </tr>\n",
       "    <tr>\n",
       "      <th>exang</th>\n",
       "      <th></th>\n",
       "      <th></th>\n",
       "    </tr>\n",
       "  </thead>\n",
       "  <tbody>\n",
       "    <tr>\n",
       "      <th>NoInduced Angina</th>\n",
       "      <td>62</td>\n",
       "      <td>142</td>\n",
       "    </tr>\n",
       "    <tr>\n",
       "      <th>Exercise Induced Angina</th>\n",
       "      <td>76</td>\n",
       "      <td>23</td>\n",
       "    </tr>\n",
       "  </tbody>\n",
       "</table>\n",
       "</div>"
      ],
      "text/plain": [
       "target                   NoHeartDisease  HeartDisease\n",
       "exang                                                \n",
       "NoInduced Angina                     62           142\n",
       "Exercise Induced Angina              76            23"
      ]
     },
     "execution_count": 314,
     "metadata": {},
     "output_type": "execute_result"
    }
   ],
   "source": [
    "exang_plt"
   ]
  },
  {
   "cell_type": "code",
   "execution_count": 320,
   "id": "919a9a72-a2ec-4b60-9f28-64ba08f48544",
   "metadata": {},
   "outputs": [
    {
     "data": {
      "text/plain": [
       "<AxesSubplot:xlabel='exang'>"
      ]
     },
     "execution_count": 320,
     "metadata": {},
     "output_type": "execute_result"
    },
    {
     "data": {
      "image/png": "[encoded data removed]",
      "text/plain": [
       "<Figure size 864x432 with 1 Axes>"
      ]
     },
     "metadata": {},
     "output_type": "display_data"
    }
   ],
   "source": [
    "fig,ax= plt.subplots(figsize=(12,6))\n",
    "exang_plt.plot(kind='bar',stacked=True,color=['deepskyblue','pink'],rot=45,ax=ax)"
   ]
  },
  {
   "cell_type": "code",
   "execution_count": 324,
   "id": "27f6d0e7-2ada-424e-8c2c-2226da93533d",
   "metadata": {},
   "outputs": [
    {
     "data": {
      "text/plain": [
       "142"
      ]
     },
     "execution_count": 324,
     "metadata": {},
     "output_type": "execute_result"
    }
   ],
   "source": [
    "exang_plt['HeartDisease']['NoInduced Angina']"
   ]
  },
  {
   "cell_type": "code",
   "execution_count": 331,
   "id": "89457fcf-4d98-41b4-aa7d-ea8fd041ff22",
   "metadata": {},
   "outputs": [],
   "source": [
    "non_induced_angina=exang_plt['HeartDisease']['NoInduced Angina'] / (exang_plt['HeartDisease']['NoInduced Angina']+exang_plt['NoHeartDisease']['NoInduced Angina'])*100\n",
    "exercised_induced_angina= exang_plt['HeartDisease']['Exercise Induced Angina'] / (exang_plt['HeartDisease']['Exercise Induced Angina']+exang_plt['NoHeartDisease']['Exercise Induced Angina'])*100"
   ]
  },
  {
   "cell_type": "code",
   "execution_count": 334,
   "id": "38bde9f9-caa3-49d2-b632-e434ea837690",
   "metadata": {},
   "outputs": [
    {
     "name": "stdout",
     "output_type": "stream",
     "text": [
      "23.23% of heart disease patients had exercised Induced Angina\n",
      "69.61% of heart disease patients had No exercise Induced Angina\n"
     ]
    }
   ],
   "source": [
    "print(\"{:.2f}% of heart disease patients had exercised Induced Angina\".format(exercised_induced_angina))\n",
    "print(\"{:.2f}% of heart disease patients had No exercise Induced Angina\".format(non_induced_angina))"
   ]
  },
  {
   "cell_type": "markdown",
   "id": "c3c12429-ca0c-49db-9720-5962dd2654eb",
   "metadata": {},
   "source": [
    "#### Correlation of all features"
   ]
  },
  {
   "cell_type": "code",
   "execution_count": 294,
   "id": "78995e63-6364-4b16-9b6a-eedef9b9ecff",
   "metadata": {},
   "outputs": [],
   "source": [
    "corr_plt = data.corr()"
   ]
  },
  {
   "cell_type": "code",
   "execution_count": 295,
   "id": "47427e10-3e2e-4bb2-a9f2-e23db74c478e",
   "metadata": {},
   "outputs": [
    {
     "data": {
      "text/html": [
       "<div>\n",
       "<style scoped>\n",
       "    .dataframe tbody tr th:only-of-type {\n",
       "        vertical-align: middle;\n",
       "    }\n",
       "\n",
       "    .dataframe tbody tr th {\n",
       "        vertical-align: top;\n",
       "    }\n",
       "\n",
       "    .dataframe thead th {\n",
       "        text-align: right;\n",
       "    }\n",
       "</style>\n",
       "<table border=\"1\" class=\"dataframe\">\n",
       "  <thead>\n",
       "    <tr style=\"text-align: right;\">\n",
       "      <th></th>\n",
       "      <th>age</th>\n",
       "      <th>sex</th>\n",
       "      <th>cp</th>\n",
       "      <th>trestbps</th>\n",
       "      <th>chol</th>\n",
       "      <th>fbs</th>\n",
       "      <th>restecg</th>\n",
       "      <th>thalach</th>\n",
       "      <th>exang</th>\n",
       "      <th>oldpeak</th>\n",
       "      <th>slope</th>\n",
       "      <th>ca</th>\n",
       "      <th>thal</th>\n",
       "      <th>target</th>\n",
       "    </tr>\n",
       "  </thead>\n",
       "  <tbody>\n",
       "    <tr>\n",
       "      <th>age</th>\n",
       "      <td>1.000000</td>\n",
       "      <td>-0.098447</td>\n",
       "      <td>-0.068653</td>\n",
       "      <td>0.279351</td>\n",
       "      <td>0.213678</td>\n",
       "      <td>0.121308</td>\n",
       "      <td>-0.116211</td>\n",
       "      <td>-0.398522</td>\n",
       "      <td>0.096801</td>\n",
       "      <td>0.210013</td>\n",
       "      <td>-0.168814</td>\n",
       "      <td>0.276326</td>\n",
       "      <td>0.068001</td>\n",
       "      <td>-0.225439</td>\n",
       "    </tr>\n",
       "    <tr>\n",
       "      <th>sex</th>\n",
       "      <td>-0.098447</td>\n",
       "      <td>1.000000</td>\n",
       "      <td>-0.049353</td>\n",
       "      <td>-0.056769</td>\n",
       "      <td>-0.197912</td>\n",
       "      <td>0.045032</td>\n",
       "      <td>-0.058196</td>\n",
       "      <td>-0.044020</td>\n",
       "      <td>0.141664</td>\n",
       "      <td>0.096093</td>\n",
       "      <td>-0.030711</td>\n",
       "      <td>0.118261</td>\n",
       "      <td>0.210041</td>\n",
       "      <td>-0.280937</td>\n",
       "    </tr>\n",
       "    <tr>\n",
       "      <th>cp</th>\n",
       "      <td>-0.068653</td>\n",
       "      <td>-0.049353</td>\n",
       "      <td>1.000000</td>\n",
       "      <td>0.047608</td>\n",
       "      <td>-0.076904</td>\n",
       "      <td>0.094444</td>\n",
       "      <td>0.044421</td>\n",
       "      <td>0.295762</td>\n",
       "      <td>-0.394280</td>\n",
       "      <td>-0.149230</td>\n",
       "      <td>0.119717</td>\n",
       "      <td>-0.181053</td>\n",
       "      <td>-0.161736</td>\n",
       "      <td>0.433798</td>\n",
       "    </tr>\n",
       "    <tr>\n",
       "      <th>trestbps</th>\n",
       "      <td>0.279351</td>\n",
       "      <td>-0.056769</td>\n",
       "      <td>0.047608</td>\n",
       "      <td>1.000000</td>\n",
       "      <td>0.123174</td>\n",
       "      <td>0.177531</td>\n",
       "      <td>-0.114103</td>\n",
       "      <td>-0.046698</td>\n",
       "      <td>0.067616</td>\n",
       "      <td>0.193216</td>\n",
       "      <td>-0.121475</td>\n",
       "      <td>0.101389</td>\n",
       "      <td>0.062210</td>\n",
       "      <td>-0.144931</td>\n",
       "    </tr>\n",
       "    <tr>\n",
       "      <th>chol</th>\n",
       "      <td>0.213678</td>\n",
       "      <td>-0.197912</td>\n",
       "      <td>-0.076904</td>\n",
       "      <td>0.123174</td>\n",
       "      <td>1.000000</td>\n",
       "      <td>0.013294</td>\n",
       "      <td>-0.151040</td>\n",
       "      <td>-0.009940</td>\n",
       "      <td>0.067023</td>\n",
       "      <td>0.053952</td>\n",
       "      <td>-0.004038</td>\n",
       "      <td>0.070511</td>\n",
       "      <td>0.098803</td>\n",
       "      <td>-0.085239</td>\n",
       "    </tr>\n",
       "    <tr>\n",
       "      <th>fbs</th>\n",
       "      <td>0.121308</td>\n",
       "      <td>0.045032</td>\n",
       "      <td>0.094444</td>\n",
       "      <td>0.177531</td>\n",
       "      <td>0.013294</td>\n",
       "      <td>1.000000</td>\n",
       "      <td>-0.084189</td>\n",
       "      <td>-0.008567</td>\n",
       "      <td>0.025665</td>\n",
       "      <td>0.005747</td>\n",
       "      <td>-0.059894</td>\n",
       "      <td>0.137979</td>\n",
       "      <td>-0.032019</td>\n",
       "      <td>-0.028046</td>\n",
       "    </tr>\n",
       "    <tr>\n",
       "      <th>restecg</th>\n",
       "      <td>-0.116211</td>\n",
       "      <td>-0.058196</td>\n",
       "      <td>0.044421</td>\n",
       "      <td>-0.114103</td>\n",
       "      <td>-0.151040</td>\n",
       "      <td>-0.084189</td>\n",
       "      <td>1.000000</td>\n",
       "      <td>0.044123</td>\n",
       "      <td>-0.070733</td>\n",
       "      <td>-0.058770</td>\n",
       "      <td>0.093045</td>\n",
       "      <td>-0.072042</td>\n",
       "      <td>-0.011981</td>\n",
       "      <td>0.137230</td>\n",
       "    </tr>\n",
       "    <tr>\n",
       "      <th>thalach</th>\n",
       "      <td>-0.398522</td>\n",
       "      <td>-0.044020</td>\n",
       "      <td>0.295762</td>\n",
       "      <td>-0.046698</td>\n",
       "      <td>-0.009940</td>\n",
       "      <td>-0.008567</td>\n",
       "      <td>0.044123</td>\n",
       "      <td>1.000000</td>\n",
       "      <td>-0.378812</td>\n",
       "      <td>-0.344187</td>\n",
       "      <td>0.386784</td>\n",
       "      <td>-0.213177</td>\n",
       "      <td>-0.096439</td>\n",
       "      <td>0.421741</td>\n",
       "    </tr>\n",
       "    <tr>\n",
       "      <th>exang</th>\n",
       "      <td>0.096801</td>\n",
       "      <td>0.141664</td>\n",
       "      <td>-0.394280</td>\n",
       "      <td>0.067616</td>\n",
       "      <td>0.067023</td>\n",
       "      <td>0.025665</td>\n",
       "      <td>-0.070733</td>\n",
       "      <td>-0.378812</td>\n",
       "      <td>1.000000</td>\n",
       "      <td>0.288223</td>\n",
       "      <td>-0.257748</td>\n",
       "      <td>0.115739</td>\n",
       "      <td>0.206754</td>\n",
       "      <td>-0.436757</td>\n",
       "    </tr>\n",
       "    <tr>\n",
       "      <th>oldpeak</th>\n",
       "      <td>0.210013</td>\n",
       "      <td>0.096093</td>\n",
       "      <td>-0.149230</td>\n",
       "      <td>0.193216</td>\n",
       "      <td>0.053952</td>\n",
       "      <td>0.005747</td>\n",
       "      <td>-0.058770</td>\n",
       "      <td>-0.344187</td>\n",
       "      <td>0.288223</td>\n",
       "      <td>1.000000</td>\n",
       "      <td>-0.577537</td>\n",
       "      <td>0.222682</td>\n",
       "      <td>0.210244</td>\n",
       "      <td>-0.430696</td>\n",
       "    </tr>\n",
       "    <tr>\n",
       "      <th>slope</th>\n",
       "      <td>-0.168814</td>\n",
       "      <td>-0.030711</td>\n",
       "      <td>0.119717</td>\n",
       "      <td>-0.121475</td>\n",
       "      <td>-0.004038</td>\n",
       "      <td>-0.059894</td>\n",
       "      <td>0.093045</td>\n",
       "      <td>0.386784</td>\n",
       "      <td>-0.257748</td>\n",
       "      <td>-0.577537</td>\n",
       "      <td>1.000000</td>\n",
       "      <td>-0.080155</td>\n",
       "      <td>-0.104764</td>\n",
       "      <td>0.345877</td>\n",
       "    </tr>\n",
       "    <tr>\n",
       "      <th>ca</th>\n",
       "      <td>0.276326</td>\n",
       "      <td>0.118261</td>\n",
       "      <td>-0.181053</td>\n",
       "      <td>0.101389</td>\n",
       "      <td>0.070511</td>\n",
       "      <td>0.137979</td>\n",
       "      <td>-0.072042</td>\n",
       "      <td>-0.213177</td>\n",
       "      <td>0.115739</td>\n",
       "      <td>0.222682</td>\n",
       "      <td>-0.080155</td>\n",
       "      <td>1.000000</td>\n",
       "      <td>0.151832</td>\n",
       "      <td>-0.391724</td>\n",
       "    </tr>\n",
       "    <tr>\n",
       "      <th>thal</th>\n",
       "      <td>0.068001</td>\n",
       "      <td>0.210041</td>\n",
       "      <td>-0.161736</td>\n",
       "      <td>0.062210</td>\n",
       "      <td>0.098803</td>\n",
       "      <td>-0.032019</td>\n",
       "      <td>-0.011981</td>\n",
       "      <td>-0.096439</td>\n",
       "      <td>0.206754</td>\n",
       "      <td>0.210244</td>\n",
       "      <td>-0.104764</td>\n",
       "      <td>0.151832</td>\n",
       "      <td>1.000000</td>\n",
       "      <td>-0.344029</td>\n",
       "    </tr>\n",
       "    <tr>\n",
       "      <th>target</th>\n",
       "      <td>-0.225439</td>\n",
       "      <td>-0.280937</td>\n",
       "      <td>0.433798</td>\n",
       "      <td>-0.144931</td>\n",
       "      <td>-0.085239</td>\n",
       "      <td>-0.028046</td>\n",
       "      <td>0.137230</td>\n",
       "      <td>0.421741</td>\n",
       "      <td>-0.436757</td>\n",
       "      <td>-0.430696</td>\n",
       "      <td>0.345877</td>\n",
       "      <td>-0.391724</td>\n",
       "      <td>-0.344029</td>\n",
       "      <td>1.000000</td>\n",
       "    </tr>\n",
       "  </tbody>\n",
       "</table>\n",
       "</div>"
      ],
      "text/plain": [
       "               age       sex        cp  trestbps      chol       fbs  \\\n",
       "age       1.000000 -0.098447 -0.068653  0.279351  0.213678  0.121308   \n",
       "sex      -0.098447  1.000000 -0.049353 -0.056769 -0.197912  0.045032   \n",
       "cp       -0.068653 -0.049353  1.000000  0.047608 -0.076904  0.094444   \n",
       "trestbps  0.279351 -0.056769  0.047608  1.000000  0.123174  0.177531   \n",
       "chol      0.213678 -0.197912 -0.076904  0.123174  1.000000  0.013294   \n",
       "fbs       0.121308  0.045032  0.094444  0.177531  0.013294  1.000000   \n",
       "restecg  -0.116211 -0.058196  0.044421 -0.114103 -0.151040 -0.084189   \n",
       "thalach  -0.398522 -0.044020  0.295762 -0.046698 -0.009940 -0.008567   \n",
       "exang     0.096801  0.141664 -0.394280  0.067616  0.067023  0.025665   \n",
       "oldpeak   0.210013  0.096093 -0.149230  0.193216  0.053952  0.005747   \n",
       "slope    -0.168814 -0.030711  0.119717 -0.121475 -0.004038 -0.059894   \n",
       "ca        0.276326  0.118261 -0.181053  0.101389  0.070511  0.137979   \n",
       "thal      0.068001  0.210041 -0.161736  0.062210  0.098803 -0.032019   \n",
       "target   -0.225439 -0.280937  0.433798 -0.144931 -0.085239 -0.028046   \n",
       "\n",
       "           restecg   thalach     exang   oldpeak     slope        ca  \\\n",
       "age      -0.116211 -0.398522  0.096801  0.210013 -0.168814  0.276326   \n",
       "sex      -0.058196 -0.044020  0.141664  0.096093 -0.030711  0.118261   \n",
       "cp        0.044421  0.295762 -0.394280 -0.149230  0.119717 -0.181053   \n",
       "trestbps -0.114103 -0.046698  0.067616  0.193216 -0.121475  0.101389   \n",
       "chol     -0.151040 -0.009940  0.067023  0.053952 -0.004038  0.070511   \n",
       "fbs      -0.084189 -0.008567  0.025665  0.005747 -0.059894  0.137979   \n",
       "restecg   1.000000  0.044123 -0.070733 -0.058770  0.093045 -0.072042   \n",
       "thalach   0.044123  1.000000 -0.378812 -0.344187  0.386784 -0.213177   \n",
       "exang    -0.070733 -0.378812  1.000000  0.288223 -0.257748  0.115739   \n",
       "oldpeak  -0.058770 -0.344187  0.288223  1.000000 -0.577537  0.222682   \n",
       "slope     0.093045  0.386784 -0.257748 -0.577537  1.000000 -0.080155   \n",
       "ca       -0.072042 -0.213177  0.115739  0.222682 -0.080155  1.000000   \n",
       "thal     -0.011981 -0.096439  0.206754  0.210244 -0.104764  0.151832   \n",
       "target    0.137230  0.421741 -0.436757 -0.430696  0.345877 -0.391724   \n",
       "\n",
       "              thal    target  \n",
       "age       0.068001 -0.225439  \n",
       "sex       0.210041 -0.280937  \n",
       "cp       -0.161736  0.433798  \n",
       "trestbps  0.062210 -0.144931  \n",
       "chol      0.098803 -0.085239  \n",
       "fbs      -0.032019 -0.028046  \n",
       "restecg  -0.011981  0.137230  \n",
       "thalach  -0.096439  0.421741  \n",
       "exang     0.206754 -0.436757  \n",
       "oldpeak   0.210244 -0.430696  \n",
       "slope    -0.104764  0.345877  \n",
       "ca        0.151832 -0.391724  \n",
       "thal      1.000000 -0.344029  \n",
       "target   -0.344029  1.000000  "
      ]
     },
     "execution_count": 295,
     "metadata": {},
     "output_type": "execute_result"
    }
   ],
   "source": [
    "corr_plt"
   ]
  },
  {
   "cell_type": "code",
   "execution_count": 351,
   "id": "00eb2245-6d0b-41ba-94ce-4a4be88113bd",
   "metadata": {},
   "outputs": [
    {
     "data": {
      "image/png": "[encoded data removed]",
      "text/plain": [
       "<Figure size 1080x720 with 2 Axes>"
      ]
     },
     "metadata": {},
     "output_type": "display_data"
    }
   ],
   "source": [
    "## Plot our corr matrix\n",
    "fig,ax = plt.subplots(figsize=(15,10))\n",
    "ax = sns.heatmap(corr_plt,\n",
    "                annot=True,\n",
    "                linewidths=.50,\n",
    "                fmt='.2f',\n",
    "                cmap='YlGnBu');"
   ]
  },
  {
   "cell_type": "markdown",
   "id": "f91783f6-6ccf-4fd3-84d0-ff82e6afc6b2",
   "metadata": {},
   "source": [
    "# Modeling\n",
    "* Estimators used :\n",
    "    * Logistic Regression\n",
    "    * KNN \n",
    "    * Random Forest\n",
    "    * Naive Bayes"
   ]
  },
  {
   "cell_type": "markdown",
   "id": "40260409-7312-416a-9e4c-66960b8c056a",
   "metadata": {},
   "source": [
    "#### Split Data into train and test set\n"
   ]
  },
  {
   "cell_type": "code",
   "execution_count": 371,
   "id": "fcb23d71-737a-467c-9c46-2d747519c104",
   "metadata": {},
   "outputs": [],
   "source": [
    "x = data.drop('target',axis=1)\n",
    "\n",
    "y = data['target']"
   ]
  },
  {
   "cell_type": "code",
   "execution_count": 372,
   "id": "c8d7d6b8-b101-4adb-9305-fcad19742e8c",
   "metadata": {},
   "outputs": [],
   "source": [
    "np.random.seed(42)\n",
    "\n",
    "X_train,X_test,y_train,y_test = train_test_split(x,y,test_size=.20)"
   ]
  },
  {
   "cell_type": "markdown",
   "id": "66b5bb31-d54a-4f50-9b6b-2f5e8db63d87",
   "metadata": {},
   "source": [
    "#### Data Preprocessing \n",
    "`Scaling the features`"
   ]
  },
  {
   "cell_type": "code",
   "execution_count": 373,
   "id": "5e2232fe-ceea-4f8e-b5c3-8831a18c2df6",
   "metadata": {},
   "outputs": [],
   "source": [
    "scaler = StandardScaler()\n",
    "scaler.fit(X_train)\n",
    "\n",
    "x_train = scaler.transform(X_train)\n",
    "x_test = scaler.transform(X_test)"
   ]
  },
  {
   "cell_type": "markdown",
   "id": "2d1559b9-2679-42ea-bb3b-416e42c563d7",
   "metadata": {},
   "source": [
    "#### Base Models"
   ]
  },
  {
   "cell_type": "code",
   "execution_count": 388,
   "id": "db1ec2e4-95e6-407e-9bf7-7ab88fafce0c",
   "metadata": {},
   "outputs": [],
   "source": [
    "## models in dictionary\n",
    "models = {'Logistic Regression': LogisticRegression(),\n",
    "         'KNN': KNeighborsClassifier(),\n",
    "         'RandomForest': RandomForestClassifier(),\n",
    "         'Naive Bayes': GaussianNB() }\n",
    "\n",
    "# helper function to fit and score models\n",
    "def fit_score(models,X_train,X_test,y_train,y_test):\n",
    "    \"\"\"\n",
    "    Fits and evaluate a given machine learning model\n",
    "    \n",
    "    models : a dict of sckit-learn ml models\n",
    "    X_train : training data \n",
    "    X_test : testing data\n",
    "    y_train : training labels\n",
    "    y_test : testing labels\n",
    "    \n",
    "    \"\"\"\n",
    "    np.random.seed(42)\n",
    "    \n",
    "    # Make a dict to keep model scores\n",
    "    model_scores = {}\n",
    "    \n",
    "    #Loop through models\n",
    "    for name,model in models.items():\n",
    "        \n",
    "        #Fit the model to the data\n",
    "        model.fit(X_train,y_train)\n",
    "        \n",
    "        #Evaluating the models and save in the models score dict\n",
    "        model_scores[name] = np.round(model.score(X_test,y_test)*100)\n",
    "    return model_scores\n",
    "    "
   ]
  },
  {
   "cell_type": "code",
   "execution_count": 389,
   "id": "e1ad794a-f0d8-4496-b83a-05493b15450b",
   "metadata": {},
   "outputs": [],
   "source": [
    "model_scores = fit_score(models=models,\n",
    "                         X_train=x_train,\n",
    "                         X_test=x_test,\n",
    "                         y_train=y_train,\n",
    "                         y_test=y_test)"
   ]
  },
  {
   "cell_type": "code",
   "execution_count": 390,
   "id": "399bd400-dfae-494e-86fa-6dc725b15c44",
   "metadata": {},
   "outputs": [
    {
     "data": {
      "text/plain": [
       "{'Logistic Regression': 85.0,\n",
       " 'KNN': 90.0,\n",
       " 'RandomForest': 84.0,\n",
       " 'Naive Bayes': 87.0}"
      ]
     },
     "execution_count": 390,
     "metadata": {},
     "output_type": "execute_result"
    }
   ],
   "source": [
    "model_scores"
   ]
  },
  {
   "cell_type": "markdown",
   "id": "4c8e3bde-dd1a-4097-aa38-78efd798443e",
   "metadata": {},
   "source": [
    "#### Model Comparison"
   ]
  },
  {
   "cell_type": "code",
   "execution_count": 391,
   "id": "af517bbd-717e-433f-9b21-7bc660c8a5b2",
   "metadata": {},
   "outputs": [
    {
     "data": {
      "text/html": [
       "<div>\n",
       "<style scoped>\n",
       "    .dataframe tbody tr th:only-of-type {\n",
       "        vertical-align: middle;\n",
       "    }\n",
       "\n",
       "    .dataframe tbody tr th {\n",
       "        vertical-align: top;\n",
       "    }\n",
       "\n",
       "    .dataframe thead th {\n",
       "        text-align: right;\n",
       "    }\n",
       "</style>\n",
       "<table border=\"1\" class=\"dataframe\">\n",
       "  <thead>\n",
       "    <tr style=\"text-align: right;\">\n",
       "      <th></th>\n",
       "      <th>Logistic Regression</th>\n",
       "      <th>KNN</th>\n",
       "      <th>RandomForest</th>\n",
       "      <th>Naive Bayes</th>\n",
       "    </tr>\n",
       "  </thead>\n",
       "  <tbody>\n",
       "    <tr>\n",
       "      <th>accuracy</th>\n",
       "      <td>85.0</td>\n",
       "      <td>90.0</td>\n",
       "      <td>84.0</td>\n",
       "      <td>87.0</td>\n",
       "    </tr>\n",
       "  </tbody>\n",
       "</table>\n",
       "</div>"
      ],
      "text/plain": [
       "          Logistic Regression   KNN  RandomForest  Naive Bayes\n",
       "accuracy                 85.0  90.0          84.0         87.0"
      ]
     },
     "execution_count": 391,
     "metadata": {},
     "output_type": "execute_result"
    }
   ],
   "source": [
    "models_df = pd.DataFrame(model_scores,index=['accuracy'])\n",
    "models_df"
   ]
  },
  {
   "cell_type": "code",
   "execution_count": 395,
   "id": "7818b806-c17f-4479-8d75-9c7758f232b1",
   "metadata": {},
   "outputs": [
    {
     "data": {
      "text/plain": [
       "<AxesSubplot:>"
      ]
     },
     "execution_count": 395,
     "metadata": {},
     "output_type": "execute_result"
    },
    {
     "data": {
      "image/png": "[encoded data removed]",
      "text/plain": [
       "<Figure size 720x360 with 1 Axes>"
      ]
     },
     "metadata": {},
     "output_type": "display_data"
    }
   ],
   "source": [
    "plt.figure(figsize=(10,5))\n",
    "sns.barplot(data=models_df)"
   ]
  },
  {
   "cell_type": "markdown",
   "id": "2dcdf43a-f7d5-4cdd-a6dd-daf652680225",
   "metadata": {},
   "source": [
    "> ` With our base models K-Nearest Neighbor model has the Highest Accuracy score of 90%'"
   ]
  },
  {
   "cell_type": "code",
   "execution_count": null,
   "id": "a33b9059-bdd5-4f22-b811-8cdb4d0d5d6f",
   "metadata": {},
   "outputs": [],
   "source": []
  }
 ],
 "metadata": {
  "kernelspec": {
   "display_name": "Python 3",
   "language": "python",
   "name": "python3"
  },
  "language_info": {
   "codemirror_mode": {
    "name": "ipython",
    "version": 3
   },
   "file_extension": ".py",
   "mimetype": "text/x-python",
   "name": "python",
   "nbconvert_exporter": "python",
   "pygments_lexer": "ipython3",
   "version": "3.8.8"
  }
 },
 "nbformat": 4,
 "nbformat_minor": 5
}
