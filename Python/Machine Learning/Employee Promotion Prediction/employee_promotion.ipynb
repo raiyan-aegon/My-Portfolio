{
 "cells": [
  {
   "cell_type": "markdown",
   "id": "6eeff277-127c-4376-8dff-f75659654884",
   "metadata": {},
   "source": [
    "# Employee Promotion Prediction \n",
    "\n",
    "*What we are covering:*\n",
    "1. Problem definition\n",
    "2. Data \n",
    "3. Evaluation\n",
    "4. Features\n",
    "5. Modeling \n",
    "6. Experimentation\n",
    "\n",
    "## 1. Problem Definition\n",
    ">A large MNC have 9 broad verticals across the organisation. One of the problem is identifying the right people for promotion (only for manager position and below) and prepare them in time.\n",
    "The final promotions are only announced after the evaluation and this leads to delay in transition to new roles. Hence, company needs help in identifying the eligible candidates at a particular checkpoint so that they can expedite the entire promotion cycle.\n",
    "\n",
    "\n",
    "## 2. Data\n",
    ">Multiple attributes have been provided around Employee's past and current performance along with demographics.\n",
    "https://www.kaggle.com/arashnic/hr-ana\n",
    "\n",
    "\n",
    "## 3. Evaluation\n",
    "> if we can reach 95% accuracy at predicting whether an employee should be promoted or not \n",
    "during the evaluation process.\n",
    "\n",
    "## 4. Features\n",
    "\n",
    "\n",
    "* employee_id: Unique ID for employee\n",
    "* department: Department of employee\n",
    "* region: Region of employment (unordered)\n",
    "* education: Education Level\n",
    "* gender: Gender of Employee\n",
    "* recruitment_channel: Channel of recruitment for employee\n",
    "* no_ of_ trainings: no of other trainings completed in previous year on soft skills, technical skills etc.\n",
    "* age: Age of Employee\n",
    "* previous_ year_ rating: Employee Rating for the previous year\n",
    "* length_ of_ service: Length of service in years\n",
    "* awards_ won?: if awards won during previous year then 1 else 0\n",
    "* avg_ training_ score: Average score in current training evaluations\n",
    "* is_promoted: (Target) Recommended for promotion"
   ]
  },
  {
   "cell_type": "markdown",
   "id": "8e3cf197-43a8-4b8b-bcb1-1f1e4268521d",
   "metadata": {},
   "source": [
    "## Preparing the tools"
   ]
  },
  {
   "cell_type": "markdown",
   "id": "d1095964-4c73-44f7-be6a-e6082eb40955",
   "metadata": {},
   "source": [
    "* Import pandas,matplotlib and seaborn for Data Analysis and Visualization\n",
    "* Import ipwidgets,Sweetviz,ppscore for Exploratory Data Analysis\n",
    "* import Sklearn,imblearn for Machine Learning Modeling"
   ]
  },
  {
   "cell_type": "code",
   "execution_count": 33,
   "id": "a5f1ce02-4cb5-42a0-8538-6cae0f80073e",
   "metadata": {},
   "outputs": [],
   "source": [
    "## import all libraries\n",
    "\n",
    "#for data manipulations\n",
    "import pandas as pd\n",
    "import numpy as np\n",
    "\n",
    "#for data visualization\n",
    "import matplotlib.pyplot as plt\n",
    "import seaborn as sns\n",
    "\n",
    "#for Modeling\n",
    "from sklearn.model_selection import train_test_split\n",
    "import imblearn\n",
    "\n",
    "#setting up the size of figures\n",
    "plt.rcParams['figure.figsize']=(16,5)\n",
    "\n",
    "#setting up the style of plots\n",
    "plt.style.use('bmh')\n",
    "\n"
   ]
  },
  {
   "cell_type": "code",
   "execution_count": 22,
   "id": "b9943812-1e7d-493c-a67a-eac3bb691320",
   "metadata": {},
   "outputs": [
    {
     "data": {
      "text/plain": [
       "['Solarize_Light2',\n",
       " '_classic_test_patch',\n",
       " 'bmh',\n",
       " 'classic',\n",
       " 'dark_background',\n",
       " 'fast',\n",
       " 'fivethirtyeight',\n",
       " 'ggplot',\n",
       " 'grayscale',\n",
       " 'seaborn',\n",
       " 'seaborn-bright',\n",
       " 'seaborn-colorblind',\n",
       " 'seaborn-dark',\n",
       " 'seaborn-dark-palette',\n",
       " 'seaborn-darkgrid',\n",
       " 'seaborn-deep',\n",
       " 'seaborn-muted',\n",
       " 'seaborn-notebook',\n",
       " 'seaborn-paper',\n",
       " 'seaborn-pastel',\n",
       " 'seaborn-poster',\n",
       " 'seaborn-talk',\n",
       " 'seaborn-ticks',\n",
       " 'seaborn-white',\n",
       " 'seaborn-whitegrid',\n",
       " 'tableau-colorblind10']"
      ]
     },
     "execution_count": 22,
     "metadata": {},
     "output_type": "execute_result"
    }
   ],
   "source": [
    "plt.style.available"
   ]
  },
  {
   "cell_type": "markdown",
   "id": "fa37c549-4001-4868-8002-51e404cbc08c",
   "metadata": {},
   "source": [
    "## Load Data\n",
    "> We load the train and test data.\n",
    "* Train data - used to train the models\n",
    "* Test data -  used to make predictions"
   ]
  },
  {
   "cell_type": "code",
   "execution_count": 96,
   "id": "9665c69f-3f0b-491c-9707-7794149a4171",
   "metadata": {},
   "outputs": [],
   "source": [
    "## load data \n",
    "train_df = pd.read_csv('train.csv')\n",
    "test_df = pd.read_csv('test.csv')"
   ]
  },
  {
   "cell_type": "code",
   "execution_count": 97,
   "id": "0ebd2e8e-6fc9-48d4-8620-3c125c613259",
   "metadata": {},
   "outputs": [
    {
     "name": "stdout",
     "output_type": "stream",
     "text": [
      "Shape of Training data: (54808, 13)\n",
      "Shape of Test data: (23490, 12)\n"
     ]
    }
   ],
   "source": [
    "## we check the shape of both datasets\n",
    "print('Shape of Training data:',train_df.shape)\n",
    "print('Shape of Test data:',test_df.shape)"
   ]
  },
  {
   "cell_type": "code",
   "execution_count": 5,
   "id": "c474f801-8ea4-403a-a9dc-8db28b783c79",
   "metadata": {},
   "outputs": [
    {
     "data": {
      "text/plain": [
       "Index(['employee_id', 'department', 'region', 'education', 'gender',\n",
       "       'recruitment_channel', 'no_of_trainings', 'age', 'previous_year_rating',\n",
       "       'length_of_service', 'awards_won?', 'avg_training_score',\n",
       "       'is_promoted'],\n",
       "      dtype='object')"
      ]
     },
     "execution_count": 5,
     "metadata": {},
     "output_type": "execute_result"
    }
   ],
   "source": [
    "## columns in training data\n",
    "train_df.columns"
   ]
  },
  {
   "cell_type": "code",
   "execution_count": 7,
   "id": "c2379d47-2b74-44a0-a02e-ff2c7db1380b",
   "metadata": {},
   "outputs": [
    {
     "data": {
      "text/plain": [
       "Index(['employee_id', 'department', 'region', 'education', 'gender',\n",
       "       'recruitment_channel', 'no_of_trainings', 'age', 'previous_year_rating',\n",
       "       'length_of_service', 'awards_won?', 'avg_training_score'],\n",
       "      dtype='object')"
      ]
     },
     "execution_count": 7,
     "metadata": {},
     "output_type": "execute_result"
    }
   ],
   "source": [
    "## columns in test data\n",
    "test_df.columns"
   ]
  },
  {
   "cell_type": "code",
   "execution_count": 77,
   "id": "3071be87-ba85-444b-8de9-76d09a333a56",
   "metadata": {},
   "outputs": [
    {
     "data": {
      "text/html": [
       "<div>\n",
       "<style scoped>\n",
       "    .dataframe tbody tr th:only-of-type {\n",
       "        vertical-align: middle;\n",
       "    }\n",
       "\n",
       "    .dataframe tbody tr th {\n",
       "        vertical-align: top;\n",
       "    }\n",
       "\n",
       "    .dataframe thead th {\n",
       "        text-align: right;\n",
       "    }\n",
       "</style>\n",
       "<table border=\"1\" class=\"dataframe\">\n",
       "  <thead>\n",
       "    <tr style=\"text-align: right;\">\n",
       "      <th></th>\n",
       "      <th>employee_id</th>\n",
       "      <th>department</th>\n",
       "      <th>region</th>\n",
       "      <th>education</th>\n",
       "      <th>gender</th>\n",
       "      <th>recruitment_channel</th>\n",
       "      <th>no_of_trainings</th>\n",
       "      <th>age</th>\n",
       "      <th>previous_year_rating</th>\n",
       "      <th>length_of_service</th>\n",
       "      <th>awards_won?</th>\n",
       "      <th>avg_training_score</th>\n",
       "      <th>is_promoted</th>\n",
       "    </tr>\n",
       "  </thead>\n",
       "  <tbody>\n",
       "    <tr>\n",
       "      <th>0</th>\n",
       "      <td>65438</td>\n",
       "      <td>Sales &amp; Marketing</td>\n",
       "      <td>region_7</td>\n",
       "      <td>Master's &amp; above</td>\n",
       "      <td>f</td>\n",
       "      <td>sourcing</td>\n",
       "      <td>1</td>\n",
       "      <td>35</td>\n",
       "      <td>5.0</td>\n",
       "      <td>8</td>\n",
       "      <td>0</td>\n",
       "      <td>49</td>\n",
       "      <td>0</td>\n",
       "    </tr>\n",
       "    <tr>\n",
       "      <th>1</th>\n",
       "      <td>65141</td>\n",
       "      <td>Operations</td>\n",
       "      <td>region_22</td>\n",
       "      <td>Bachelor's</td>\n",
       "      <td>m</td>\n",
       "      <td>other</td>\n",
       "      <td>1</td>\n",
       "      <td>30</td>\n",
       "      <td>5.0</td>\n",
       "      <td>4</td>\n",
       "      <td>0</td>\n",
       "      <td>60</td>\n",
       "      <td>0</td>\n",
       "    </tr>\n",
       "    <tr>\n",
       "      <th>2</th>\n",
       "      <td>7513</td>\n",
       "      <td>Sales &amp; Marketing</td>\n",
       "      <td>region_19</td>\n",
       "      <td>Bachelor's</td>\n",
       "      <td>m</td>\n",
       "      <td>sourcing</td>\n",
       "      <td>1</td>\n",
       "      <td>34</td>\n",
       "      <td>3.0</td>\n",
       "      <td>7</td>\n",
       "      <td>0</td>\n",
       "      <td>50</td>\n",
       "      <td>0</td>\n",
       "    </tr>\n",
       "    <tr>\n",
       "      <th>3</th>\n",
       "      <td>2542</td>\n",
       "      <td>Sales &amp; Marketing</td>\n",
       "      <td>region_23</td>\n",
       "      <td>Bachelor's</td>\n",
       "      <td>m</td>\n",
       "      <td>other</td>\n",
       "      <td>2</td>\n",
       "      <td>39</td>\n",
       "      <td>1.0</td>\n",
       "      <td>10</td>\n",
       "      <td>0</td>\n",
       "      <td>50</td>\n",
       "      <td>0</td>\n",
       "    </tr>\n",
       "    <tr>\n",
       "      <th>4</th>\n",
       "      <td>48945</td>\n",
       "      <td>Technology</td>\n",
       "      <td>region_26</td>\n",
       "      <td>Bachelor's</td>\n",
       "      <td>m</td>\n",
       "      <td>other</td>\n",
       "      <td>1</td>\n",
       "      <td>45</td>\n",
       "      <td>3.0</td>\n",
       "      <td>2</td>\n",
       "      <td>0</td>\n",
       "      <td>73</td>\n",
       "      <td>0</td>\n",
       "    </tr>\n",
       "  </tbody>\n",
       "</table>\n",
       "</div>"
      ],
      "text/plain": [
       "   employee_id         department     region         education gender  \\\n",
       "0        65438  Sales & Marketing   region_7  Master's & above      f   \n",
       "1        65141         Operations  region_22        Bachelor's      m   \n",
       "2         7513  Sales & Marketing  region_19        Bachelor's      m   \n",
       "3         2542  Sales & Marketing  region_23        Bachelor's      m   \n",
       "4        48945         Technology  region_26        Bachelor's      m   \n",
       "\n",
       "  recruitment_channel  no_of_trainings  age  previous_year_rating  \\\n",
       "0            sourcing                1   35                   5.0   \n",
       "1               other                1   30                   5.0   \n",
       "2            sourcing                1   34                   3.0   \n",
       "3               other                2   39                   1.0   \n",
       "4               other                1   45                   3.0   \n",
       "\n",
       "   length_of_service  awards_won?  avg_training_score  is_promoted  \n",
       "0                  8            0                  49            0  \n",
       "1                  4            0                  60            0  \n",
       "2                  7            0                  50            0  \n",
       "3                 10            0                  50            0  \n",
       "4                  2            0                  73            0  "
      ]
     },
     "execution_count": 77,
     "metadata": {},
     "output_type": "execute_result"
    }
   ],
   "source": [
    "train_df.head()"
   ]
  },
  {
   "cell_type": "markdown",
   "id": "b753d2bc-035c-4f0f-93c3-9a2bd0126bc9",
   "metadata": {},
   "source": [
    "`Observations`\n",
    "* Employee ID , Region and Recruitment channel are not really important in predicting if and employee need to promoted or not"
   ]
  },
  {
   "cell_type": "markdown",
   "id": "c1516527-5db8-4f02-ab31-159706566ee9",
   "metadata": {},
   "source": [
    "## Performing Descriptive Statistics\n",
    "* Continous columns\n",
    "* Categorical columns"
   ]
  },
  {
   "cell_type": "markdown",
   "id": "157f5974-f7b6-4fc0-8b82-bdd6cb4c06c6",
   "metadata": {},
   "source": [
    "#### Continous(Numerical) columns"
   ]
  },
  {
   "cell_type": "code",
   "execution_count": 63,
   "id": "14954f13-f299-404b-bb10-b0f9ed624a7b",
   "metadata": {},
   "outputs": [
    {
     "data": {
      "text/html": [
       "<style  type=\"text/css\" >\n",
       "#T_927e8_row0_col0{\n",
       "            background-color:  #187cb6;\n",
       "            color:  #000000;\n",
       "        }#T_927e8_row0_col1,#T_927e8_row0_col2,#T_927e8_row0_col3,#T_927e8_row0_col4,#T_927e8_row0_col5,#T_927e8_row0_col6,#T_927e8_row0_col7,#T_927e8_row7_col0{\n",
       "            background-color:  #023858;\n",
       "            color:  #f1f1f1;\n",
       "        }#T_927e8_row1_col0,#T_927e8_row5_col0{\n",
       "            background-color:  #73a9cf;\n",
       "            color:  #000000;\n",
       "        }#T_927e8_row1_col1,#T_927e8_row1_col2,#T_927e8_row1_col3,#T_927e8_row1_col4,#T_927e8_row1_col5,#T_927e8_row1_col6,#T_927e8_row1_col7,#T_927e8_row2_col1,#T_927e8_row2_col2,#T_927e8_row2_col3,#T_927e8_row2_col4,#T_927e8_row2_col5,#T_927e8_row2_col6,#T_927e8_row2_col7,#T_927e8_row3_col0,#T_927e8_row3_col1,#T_927e8_row3_col2,#T_927e8_row3_col3,#T_927e8_row3_col4,#T_927e8_row3_col5,#T_927e8_row3_col6,#T_927e8_row3_col7,#T_927e8_row4_col1,#T_927e8_row4_col2,#T_927e8_row4_col3,#T_927e8_row4_col4,#T_927e8_row4_col5,#T_927e8_row4_col6,#T_927e8_row4_col7,#T_927e8_row5_col1,#T_927e8_row5_col2,#T_927e8_row5_col3,#T_927e8_row5_col4,#T_927e8_row5_col5,#T_927e8_row5_col6,#T_927e8_row5_col7,#T_927e8_row6_col1,#T_927e8_row6_col2,#T_927e8_row6_col3,#T_927e8_row6_col4,#T_927e8_row6_col5,#T_927e8_row6_col6,#T_927e8_row6_col7,#T_927e8_row7_col1,#T_927e8_row7_col2,#T_927e8_row7_col3,#T_927e8_row7_col4,#T_927e8_row7_col5,#T_927e8_row7_col6,#T_927e8_row7_col7{\n",
       "            background-color:  #fff7fb;\n",
       "            color:  #000000;\n",
       "        }#T_927e8_row2_col0{\n",
       "            background-color:  #c4cbe3;\n",
       "            color:  #000000;\n",
       "        }#T_927e8_row4_col0{\n",
       "            background-color:  #d0d1e6;\n",
       "            color:  #000000;\n",
       "        }#T_927e8_row6_col0{\n",
       "            background-color:  #056faf;\n",
       "            color:  #f1f1f1;\n",
       "        }</style><table id=\"T_927e8_\" ><thead>    <tr>        <th class=\"blank level0\" ></th>        <th class=\"col_heading level0 col0\" >employee_id</th>        <th class=\"col_heading level0 col1\" >no_of_trainings</th>        <th class=\"col_heading level0 col2\" >age</th>        <th class=\"col_heading level0 col3\" >previous_year_rating</th>        <th class=\"col_heading level0 col4\" >length_of_service</th>        <th class=\"col_heading level0 col5\" >awards_won?</th>        <th class=\"col_heading level0 col6\" >avg_training_score</th>        <th class=\"col_heading level0 col7\" >is_promoted</th>    </tr></thead><tbody>\n",
       "                <tr>\n",
       "                        <th id=\"T_927e8_level0_row0\" class=\"row_heading level0 row0\" >count</th>\n",
       "                        <td id=\"T_927e8_row0_col0\" class=\"data row0 col0\" >54808.000000</td>\n",
       "                        <td id=\"T_927e8_row0_col1\" class=\"data row0 col1\" >54808.000000</td>\n",
       "                        <td id=\"T_927e8_row0_col2\" class=\"data row0 col2\" >54808.000000</td>\n",
       "                        <td id=\"T_927e8_row0_col3\" class=\"data row0 col3\" >50684.000000</td>\n",
       "                        <td id=\"T_927e8_row0_col4\" class=\"data row0 col4\" >54808.000000</td>\n",
       "                        <td id=\"T_927e8_row0_col5\" class=\"data row0 col5\" >54808.000000</td>\n",
       "                        <td id=\"T_927e8_row0_col6\" class=\"data row0 col6\" >54808.000000</td>\n",
       "                        <td id=\"T_927e8_row0_col7\" class=\"data row0 col7\" >54808.000000</td>\n",
       "            </tr>\n",
       "            <tr>\n",
       "                        <th id=\"T_927e8_level0_row1\" class=\"row_heading level0 row1\" >mean</th>\n",
       "                        <td id=\"T_927e8_row1_col0\" class=\"data row1 col0\" >39195.830627</td>\n",
       "                        <td id=\"T_927e8_row1_col1\" class=\"data row1 col1\" >1.253011</td>\n",
       "                        <td id=\"T_927e8_row1_col2\" class=\"data row1 col2\" >34.803915</td>\n",
       "                        <td id=\"T_927e8_row1_col3\" class=\"data row1 col3\" >3.329256</td>\n",
       "                        <td id=\"T_927e8_row1_col4\" class=\"data row1 col4\" >5.865512</td>\n",
       "                        <td id=\"T_927e8_row1_col5\" class=\"data row1 col5\" >0.023172</td>\n",
       "                        <td id=\"T_927e8_row1_col6\" class=\"data row1 col6\" >63.386750</td>\n",
       "                        <td id=\"T_927e8_row1_col7\" class=\"data row1 col7\" >0.085170</td>\n",
       "            </tr>\n",
       "            <tr>\n",
       "                        <th id=\"T_927e8_level0_row2\" class=\"row_heading level0 row2\" >std</th>\n",
       "                        <td id=\"T_927e8_row2_col0\" class=\"data row2 col0\" >22586.581449</td>\n",
       "                        <td id=\"T_927e8_row2_col1\" class=\"data row2 col1\" >0.609264</td>\n",
       "                        <td id=\"T_927e8_row2_col2\" class=\"data row2 col2\" >7.660169</td>\n",
       "                        <td id=\"T_927e8_row2_col3\" class=\"data row2 col3\" >1.259993</td>\n",
       "                        <td id=\"T_927e8_row2_col4\" class=\"data row2 col4\" >4.265094</td>\n",
       "                        <td id=\"T_927e8_row2_col5\" class=\"data row2 col5\" >0.150450</td>\n",
       "                        <td id=\"T_927e8_row2_col6\" class=\"data row2 col6\" >13.371559</td>\n",
       "                        <td id=\"T_927e8_row2_col7\" class=\"data row2 col7\" >0.279137</td>\n",
       "            </tr>\n",
       "            <tr>\n",
       "                        <th id=\"T_927e8_level0_row3\" class=\"row_heading level0 row3\" >min</th>\n",
       "                        <td id=\"T_927e8_row3_col0\" class=\"data row3 col0\" >1.000000</td>\n",
       "                        <td id=\"T_927e8_row3_col1\" class=\"data row3 col1\" >1.000000</td>\n",
       "                        <td id=\"T_927e8_row3_col2\" class=\"data row3 col2\" >20.000000</td>\n",
       "                        <td id=\"T_927e8_row3_col3\" class=\"data row3 col3\" >1.000000</td>\n",
       "                        <td id=\"T_927e8_row3_col4\" class=\"data row3 col4\" >1.000000</td>\n",
       "                        <td id=\"T_927e8_row3_col5\" class=\"data row3 col5\" >0.000000</td>\n",
       "                        <td id=\"T_927e8_row3_col6\" class=\"data row3 col6\" >39.000000</td>\n",
       "                        <td id=\"T_927e8_row3_col7\" class=\"data row3 col7\" >0.000000</td>\n",
       "            </tr>\n",
       "            <tr>\n",
       "                        <th id=\"T_927e8_level0_row4\" class=\"row_heading level0 row4\" >25%</th>\n",
       "                        <td id=\"T_927e8_row4_col0\" class=\"data row4 col0\" >19669.750000</td>\n",
       "                        <td id=\"T_927e8_row4_col1\" class=\"data row4 col1\" >1.000000</td>\n",
       "                        <td id=\"T_927e8_row4_col2\" class=\"data row4 col2\" >29.000000</td>\n",
       "                        <td id=\"T_927e8_row4_col3\" class=\"data row4 col3\" >3.000000</td>\n",
       "                        <td id=\"T_927e8_row4_col4\" class=\"data row4 col4\" >3.000000</td>\n",
       "                        <td id=\"T_927e8_row4_col5\" class=\"data row4 col5\" >0.000000</td>\n",
       "                        <td id=\"T_927e8_row4_col6\" class=\"data row4 col6\" >51.000000</td>\n",
       "                        <td id=\"T_927e8_row4_col7\" class=\"data row4 col7\" >0.000000</td>\n",
       "            </tr>\n",
       "            <tr>\n",
       "                        <th id=\"T_927e8_level0_row5\" class=\"row_heading level0 row5\" >50%</th>\n",
       "                        <td id=\"T_927e8_row5_col0\" class=\"data row5 col0\" >39225.500000</td>\n",
       "                        <td id=\"T_927e8_row5_col1\" class=\"data row5 col1\" >1.000000</td>\n",
       "                        <td id=\"T_927e8_row5_col2\" class=\"data row5 col2\" >33.000000</td>\n",
       "                        <td id=\"T_927e8_row5_col3\" class=\"data row5 col3\" >3.000000</td>\n",
       "                        <td id=\"T_927e8_row5_col4\" class=\"data row5 col4\" >5.000000</td>\n",
       "                        <td id=\"T_927e8_row5_col5\" class=\"data row5 col5\" >0.000000</td>\n",
       "                        <td id=\"T_927e8_row5_col6\" class=\"data row5 col6\" >60.000000</td>\n",
       "                        <td id=\"T_927e8_row5_col7\" class=\"data row5 col7\" >0.000000</td>\n",
       "            </tr>\n",
       "            <tr>\n",
       "                        <th id=\"T_927e8_level0_row6\" class=\"row_heading level0 row6\" >75%</th>\n",
       "                        <td id=\"T_927e8_row6_col0\" class=\"data row6 col0\" >58730.500000</td>\n",
       "                        <td id=\"T_927e8_row6_col1\" class=\"data row6 col1\" >1.000000</td>\n",
       "                        <td id=\"T_927e8_row6_col2\" class=\"data row6 col2\" >39.000000</td>\n",
       "                        <td id=\"T_927e8_row6_col3\" class=\"data row6 col3\" >4.000000</td>\n",
       "                        <td id=\"T_927e8_row6_col4\" class=\"data row6 col4\" >7.000000</td>\n",
       "                        <td id=\"T_927e8_row6_col5\" class=\"data row6 col5\" >0.000000</td>\n",
       "                        <td id=\"T_927e8_row6_col6\" class=\"data row6 col6\" >76.000000</td>\n",
       "                        <td id=\"T_927e8_row6_col7\" class=\"data row6 col7\" >0.000000</td>\n",
       "            </tr>\n",
       "            <tr>\n",
       "                        <th id=\"T_927e8_level0_row7\" class=\"row_heading level0 row7\" >max</th>\n",
       "                        <td id=\"T_927e8_row7_col0\" class=\"data row7 col0\" >78298.000000</td>\n",
       "                        <td id=\"T_927e8_row7_col1\" class=\"data row7 col1\" >10.000000</td>\n",
       "                        <td id=\"T_927e8_row7_col2\" class=\"data row7 col2\" >60.000000</td>\n",
       "                        <td id=\"T_927e8_row7_col3\" class=\"data row7 col3\" >5.000000</td>\n",
       "                        <td id=\"T_927e8_row7_col4\" class=\"data row7 col4\" >37.000000</td>\n",
       "                        <td id=\"T_927e8_row7_col5\" class=\"data row7 col5\" >1.000000</td>\n",
       "                        <td id=\"T_927e8_row7_col6\" class=\"data row7 col6\" >99.000000</td>\n",
       "                        <td id=\"T_927e8_row7_col7\" class=\"data row7 col7\" >1.000000</td>\n",
       "            </tr>\n",
       "    </tbody></table>"
      ],
      "text/plain": [
       "<pandas.io.formats.style.Styler at 0x275137c3850>"
      ]
     },
     "execution_count": 63,
     "metadata": {},
     "output_type": "execute_result"
    }
   ],
   "source": [
    "train_df.describe().style.background_gradient()\n"
   ]
  },
  {
   "cell_type": "markdown",
   "id": "6c11fa09-7698-4b9c-b169-eaf00f86b2a9",
   "metadata": {},
   "source": [
    "##### `Obersevations:`\n",
    "    \n",
    "* No_of_training is right skewed , the mean is 1.25 > most of the values which are 1.00 \n",
    "* previous_year_rating has a normal distribution , max value is 5 and min value is 1 and mean is 3.3\n",
    "* length of service is right skewed \n",
    "* average_training_Score lies between 40 to 100 , which is good distribution"
   ]
  },
  {
   "cell_type": "markdown",
   "id": "944ab0e9-5957-440f-bb7a-cd9ed7d93d1d",
   "metadata": {},
   "source": [
    "#### Categorical columns"
   ]
  },
  {
   "cell_type": "code",
   "execution_count": 15,
   "id": "d9450989-e0ab-4845-8049-0b3cb2616778",
   "metadata": {},
   "outputs": [
    {
     "data": {
      "text/html": [
       "<div>\n",
       "<style scoped>\n",
       "    .dataframe tbody tr th:only-of-type {\n",
       "        vertical-align: middle;\n",
       "    }\n",
       "\n",
       "    .dataframe tbody tr th {\n",
       "        vertical-align: top;\n",
       "    }\n",
       "\n",
       "    .dataframe thead th {\n",
       "        text-align: right;\n",
       "    }\n",
       "</style>\n",
       "<table border=\"1\" class=\"dataframe\">\n",
       "  <thead>\n",
       "    <tr style=\"text-align: right;\">\n",
       "      <th></th>\n",
       "      <th>department</th>\n",
       "      <th>region</th>\n",
       "      <th>education</th>\n",
       "      <th>gender</th>\n",
       "      <th>recruitment_channel</th>\n",
       "    </tr>\n",
       "  </thead>\n",
       "  <tbody>\n",
       "    <tr>\n",
       "      <th>count</th>\n",
       "      <td>54808</td>\n",
       "      <td>54808</td>\n",
       "      <td>52399</td>\n",
       "      <td>54808</td>\n",
       "      <td>54808</td>\n",
       "    </tr>\n",
       "    <tr>\n",
       "      <th>unique</th>\n",
       "      <td>9</td>\n",
       "      <td>34</td>\n",
       "      <td>3</td>\n",
       "      <td>2</td>\n",
       "      <td>3</td>\n",
       "    </tr>\n",
       "    <tr>\n",
       "      <th>top</th>\n",
       "      <td>Sales &amp; Marketing</td>\n",
       "      <td>region_2</td>\n",
       "      <td>Bachelor's</td>\n",
       "      <td>m</td>\n",
       "      <td>other</td>\n",
       "    </tr>\n",
       "    <tr>\n",
       "      <th>freq</th>\n",
       "      <td>16840</td>\n",
       "      <td>12343</td>\n",
       "      <td>36669</td>\n",
       "      <td>38496</td>\n",
       "      <td>30446</td>\n",
       "    </tr>\n",
       "  </tbody>\n",
       "</table>\n",
       "</div>"
      ],
      "text/plain": [
       "               department    region   education gender recruitment_channel\n",
       "count               54808     54808       52399  54808               54808\n",
       "unique                  9        34           3      2                   3\n",
       "top     Sales & Marketing  region_2  Bachelor's      m               other\n",
       "freq                16840     12343       36669  38496               30446"
      ]
     },
     "execution_count": 15,
     "metadata": {},
     "output_type": "execute_result"
    }
   ],
   "source": [
    "train_df.describe(include='object')"
   ]
  },
  {
   "cell_type": "markdown",
   "id": "c280a612-2c14-42f2-b73a-3db78edcc97c",
   "metadata": {},
   "source": [
    "`Observations`\n",
    "\n",
    "* Sales & Marketing is the department with the highest number employees\n",
    "* Most employees have Bachelors degree\n",
    "* Most employees are Male"
   ]
  },
  {
   "cell_type": "markdown",
   "id": "8397797c-67ac-4f2a-9b61-92d7a359a79b",
   "metadata": {},
   "source": [
    "### Imbalanced Dataset"
   ]
  },
  {
   "cell_type": "code",
   "execution_count": 98,
   "id": "ea1f5414-e0c3-4178-ae95-3d7d5a8ff0c1",
   "metadata": {},
   "outputs": [
    {
     "name": "stderr",
     "output_type": "stream",
     "text": [
      "C:\\Users\\Randah\\anaconda3\\lib\\site-packages\\seaborn\\_decorators.py:36: FutureWarning: Pass the following variable as a keyword arg: x. From version 0.12, the only valid positional argument will be `data`, and passing other arguments without an explicit keyword will result in an error or misinterpretation.\n",
      "  warnings.warn(\n"
     ]
    },
    {
     "data": {
      "image/png": "[encoded data removed]",
      "text/plain": [
       "<Figure size 1152x360 with 2 Axes>"
      ]
     },
     "metadata": {},
     "output_type": "display_data"
    }
   ],
   "source": [
    "\n",
    "plt.subplot(1,2,1)\n",
    "\n",
    "sns.countplot(train_df['is_promoted'])\n",
    "\n",
    "plt.xlabel('Promoted or Not?',fontsize=12)\n",
    "\n",
    "#create subplot\n",
    "plt.subplot(1,2,2)\n",
    "train_df['is_promoted'].value_counts().plot(kind='pie',explode=[0,0.2],\n",
    "                                    autopct='%.2f%%',startangle=90,\n",
    "                                    labels=['Promoted','Not Promoted'],\n",
    "                                    shadow=True,pctdistance=.5)\n",
    "plt.axis('off')\n",
    "\n",
    "plt.suptitle('Target Class Balance',fontsize=15)\n",
    "plt.show()"
   ]
  },
  {
   "cell_type": "markdown",
   "id": "edaac5de-2c91-4cb3-a984-fecd0cbd5cd6",
   "metadata": {},
   "source": [
    "`Observations`\n",
    "* from both the charts above it indicates that our dataset is highly imbalanced. ie there are about 91.5% of employees promoted and this will make our models prediction very inaccurate. so we have to rectify this before performing any predictions on this data."
   ]
  },
  {
   "cell_type": "markdown",
   "id": "280cdb67-f7fd-46fc-ba27-96e8c4c05ebf",
   "metadata": {},
   "source": [
    "## Data Cleaning"
   ]
  },
  {
   "cell_type": "markdown",
   "id": "dbd8ab43-e76a-4128-afc3-10f14797b869",
   "metadata": {},
   "source": [
    "#### `Handling Missing Data`"
   ]
  },
  {
   "cell_type": "code",
   "execution_count": 99,
   "id": "e1e5d418-9b29-4b67-abe1-8e2d3ed3e612",
   "metadata": {},
   "outputs": [],
   "source": [
    "## Percentages of missing values\n",
    "\n",
    "num_missing_vals_train = train_df.isnull().sum()\n",
    "num_missing_vals_test = test_df.isnull().sum()\n",
    "\n",
    "perc_train = (train_df.isnull().sum()/train_df.shape[0])*100\n",
    "\n",
    "perc_test = (test_df.isnull().sum()/test_df.shape[0])*100\n",
    "\n",
    "all_data = {'Train_Total':num_missing_vals_train,'Train_Percent %':perc_train,\n",
    "           'Test_Total':num_missing_vals_test,'Test_Percent %':perc_test}\n",
    "df=pd.DataFrame(all_data)"
   ]
  },
  {
   "cell_type": "code",
   "execution_count": 100,
   "id": "377b430b-c4e8-44f5-ab29-37a90f5282e6",
   "metadata": {},
   "outputs": [],
   "source": [
    "## custom styling of Dataframe\n",
    "def highlight_not_zero(s):\n",
    "    '''\n",
    "    highlight yellow is value is greater than mean else red.\n",
    "    '''\n",
    "    is_max = s > 0\n",
    "    return ['background-color: crimson' if i else 'background-color: white' for i in is_max]"
   ]
  },
  {
   "cell_type": "code",
   "execution_count": 101,
   "id": "84246c57-b97f-4521-8012-d041eb622e13",
   "metadata": {},
   "outputs": [
    {
     "data": {
      "text/html": [
       "<style  type=\"text/css\" >\n",
       "#T_2c8a9_row0_col0,#T_2c8a9_row0_col1,#T_2c8a9_row0_col2,#T_2c8a9_row0_col3,#T_2c8a9_row1_col0,#T_2c8a9_row1_col1,#T_2c8a9_row1_col2,#T_2c8a9_row1_col3,#T_2c8a9_row2_col0,#T_2c8a9_row2_col1,#T_2c8a9_row2_col2,#T_2c8a9_row2_col3,#T_2c8a9_row3_col0,#T_2c8a9_row3_col1,#T_2c8a9_row3_col2,#T_2c8a9_row3_col3,#T_2c8a9_row5_col0,#T_2c8a9_row5_col1,#T_2c8a9_row5_col2,#T_2c8a9_row5_col3,#T_2c8a9_row6_col0,#T_2c8a9_row6_col1,#T_2c8a9_row6_col2,#T_2c8a9_row6_col3,#T_2c8a9_row7_col0,#T_2c8a9_row7_col1,#T_2c8a9_row7_col2,#T_2c8a9_row7_col3,#T_2c8a9_row8_col0,#T_2c8a9_row8_col1,#T_2c8a9_row8_col2,#T_2c8a9_row8_col3,#T_2c8a9_row9_col0,#T_2c8a9_row9_col1,#T_2c8a9_row9_col2,#T_2c8a9_row9_col3,#T_2c8a9_row11_col0,#T_2c8a9_row11_col1,#T_2c8a9_row11_col2,#T_2c8a9_row11_col3,#T_2c8a9_row12_col0,#T_2c8a9_row12_col1,#T_2c8a9_row12_col2,#T_2c8a9_row12_col3{\n",
       "            background-color:  white;\n",
       "        }#T_2c8a9_row4_col0,#T_2c8a9_row4_col1,#T_2c8a9_row4_col2,#T_2c8a9_row4_col3,#T_2c8a9_row10_col0,#T_2c8a9_row10_col1,#T_2c8a9_row10_col2,#T_2c8a9_row10_col3{\n",
       "            background-color:  crimson;\n",
       "        }</style><table id=\"T_2c8a9_\" ><thead>    <tr>        <th class=\"blank level0\" ></th>        <th class=\"col_heading level0 col0\" >Train_Total</th>        <th class=\"col_heading level0 col1\" >Train_Percent %</th>        <th class=\"col_heading level0 col2\" >Test_Total</th>        <th class=\"col_heading level0 col3\" >Test_Percent %</th>    </tr></thead><tbody>\n",
       "                <tr>\n",
       "                        <th id=\"T_2c8a9_level0_row0\" class=\"row_heading level0 row0\" >age</th>\n",
       "                        <td id=\"T_2c8a9_row0_col0\" class=\"data row0 col0\" >0</td>\n",
       "                        <td id=\"T_2c8a9_row0_col1\" class=\"data row0 col1\" >0.000000</td>\n",
       "                        <td id=\"T_2c8a9_row0_col2\" class=\"data row0 col2\" >0.000000</td>\n",
       "                        <td id=\"T_2c8a9_row0_col3\" class=\"data row0 col3\" >0.000000</td>\n",
       "            </tr>\n",
       "            <tr>\n",
       "                        <th id=\"T_2c8a9_level0_row1\" class=\"row_heading level0 row1\" >avg_training_score</th>\n",
       "                        <td id=\"T_2c8a9_row1_col0\" class=\"data row1 col0\" >0</td>\n",
       "                        <td id=\"T_2c8a9_row1_col1\" class=\"data row1 col1\" >0.000000</td>\n",
       "                        <td id=\"T_2c8a9_row1_col2\" class=\"data row1 col2\" >0.000000</td>\n",
       "                        <td id=\"T_2c8a9_row1_col3\" class=\"data row1 col3\" >0.000000</td>\n",
       "            </tr>\n",
       "            <tr>\n",
       "                        <th id=\"T_2c8a9_level0_row2\" class=\"row_heading level0 row2\" >awards_won?</th>\n",
       "                        <td id=\"T_2c8a9_row2_col0\" class=\"data row2 col0\" >0</td>\n",
       "                        <td id=\"T_2c8a9_row2_col1\" class=\"data row2 col1\" >0.000000</td>\n",
       "                        <td id=\"T_2c8a9_row2_col2\" class=\"data row2 col2\" >0.000000</td>\n",
       "                        <td id=\"T_2c8a9_row2_col3\" class=\"data row2 col3\" >0.000000</td>\n",
       "            </tr>\n",
       "            <tr>\n",
       "                        <th id=\"T_2c8a9_level0_row3\" class=\"row_heading level0 row3\" >department</th>\n",
       "                        <td id=\"T_2c8a9_row3_col0\" class=\"data row3 col0\" >0</td>\n",
       "                        <td id=\"T_2c8a9_row3_col1\" class=\"data row3 col1\" >0.000000</td>\n",
       "                        <td id=\"T_2c8a9_row3_col2\" class=\"data row3 col2\" >0.000000</td>\n",
       "                        <td id=\"T_2c8a9_row3_col3\" class=\"data row3 col3\" >0.000000</td>\n",
       "            </tr>\n",
       "            <tr>\n",
       "                        <th id=\"T_2c8a9_level0_row4\" class=\"row_heading level0 row4\" >education</th>\n",
       "                        <td id=\"T_2c8a9_row4_col0\" class=\"data row4 col0\" >2409</td>\n",
       "                        <td id=\"T_2c8a9_row4_col1\" class=\"data row4 col1\" >4.395344</td>\n",
       "                        <td id=\"T_2c8a9_row4_col2\" class=\"data row4 col2\" >1034.000000</td>\n",
       "                        <td id=\"T_2c8a9_row4_col3\" class=\"data row4 col3\" >4.401873</td>\n",
       "            </tr>\n",
       "            <tr>\n",
       "                        <th id=\"T_2c8a9_level0_row5\" class=\"row_heading level0 row5\" >employee_id</th>\n",
       "                        <td id=\"T_2c8a9_row5_col0\" class=\"data row5 col0\" >0</td>\n",
       "                        <td id=\"T_2c8a9_row5_col1\" class=\"data row5 col1\" >0.000000</td>\n",
       "                        <td id=\"T_2c8a9_row5_col2\" class=\"data row5 col2\" >0.000000</td>\n",
       "                        <td id=\"T_2c8a9_row5_col3\" class=\"data row5 col3\" >0.000000</td>\n",
       "            </tr>\n",
       "            <tr>\n",
       "                        <th id=\"T_2c8a9_level0_row6\" class=\"row_heading level0 row6\" >gender</th>\n",
       "                        <td id=\"T_2c8a9_row6_col0\" class=\"data row6 col0\" >0</td>\n",
       "                        <td id=\"T_2c8a9_row6_col1\" class=\"data row6 col1\" >0.000000</td>\n",
       "                        <td id=\"T_2c8a9_row6_col2\" class=\"data row6 col2\" >0.000000</td>\n",
       "                        <td id=\"T_2c8a9_row6_col3\" class=\"data row6 col3\" >0.000000</td>\n",
       "            </tr>\n",
       "            <tr>\n",
       "                        <th id=\"T_2c8a9_level0_row7\" class=\"row_heading level0 row7\" >is_promoted</th>\n",
       "                        <td id=\"T_2c8a9_row7_col0\" class=\"data row7 col0\" >0</td>\n",
       "                        <td id=\"T_2c8a9_row7_col1\" class=\"data row7 col1\" >0.000000</td>\n",
       "                        <td id=\"T_2c8a9_row7_col2\" class=\"data row7 col2\" >nan</td>\n",
       "                        <td id=\"T_2c8a9_row7_col3\" class=\"data row7 col3\" >nan</td>\n",
       "            </tr>\n",
       "            <tr>\n",
       "                        <th id=\"T_2c8a9_level0_row8\" class=\"row_heading level0 row8\" >length_of_service</th>\n",
       "                        <td id=\"T_2c8a9_row8_col0\" class=\"data row8 col0\" >0</td>\n",
       "                        <td id=\"T_2c8a9_row8_col1\" class=\"data row8 col1\" >0.000000</td>\n",
       "                        <td id=\"T_2c8a9_row8_col2\" class=\"data row8 col2\" >0.000000</td>\n",
       "                        <td id=\"T_2c8a9_row8_col3\" class=\"data row8 col3\" >0.000000</td>\n",
       "            </tr>\n",
       "            <tr>\n",
       "                        <th id=\"T_2c8a9_level0_row9\" class=\"row_heading level0 row9\" >no_of_trainings</th>\n",
       "                        <td id=\"T_2c8a9_row9_col0\" class=\"data row9 col0\" >0</td>\n",
       "                        <td id=\"T_2c8a9_row9_col1\" class=\"data row9 col1\" >0.000000</td>\n",
       "                        <td id=\"T_2c8a9_row9_col2\" class=\"data row9 col2\" >0.000000</td>\n",
       "                        <td id=\"T_2c8a9_row9_col3\" class=\"data row9 col3\" >0.000000</td>\n",
       "            </tr>\n",
       "            <tr>\n",
       "                        <th id=\"T_2c8a9_level0_row10\" class=\"row_heading level0 row10\" >previous_year_rating</th>\n",
       "                        <td id=\"T_2c8a9_row10_col0\" class=\"data row10 col0\" >4124</td>\n",
       "                        <td id=\"T_2c8a9_row10_col1\" class=\"data row10 col1\" >7.524449</td>\n",
       "                        <td id=\"T_2c8a9_row10_col2\" class=\"data row10 col2\" >1812.000000</td>\n",
       "                        <td id=\"T_2c8a9_row10_col3\" class=\"data row10 col3\" >7.713921</td>\n",
       "            </tr>\n",
       "            <tr>\n",
       "                        <th id=\"T_2c8a9_level0_row11\" class=\"row_heading level0 row11\" >recruitment_channel</th>\n",
       "                        <td id=\"T_2c8a9_row11_col0\" class=\"data row11 col0\" >0</td>\n",
       "                        <td id=\"T_2c8a9_row11_col1\" class=\"data row11 col1\" >0.000000</td>\n",
       "                        <td id=\"T_2c8a9_row11_col2\" class=\"data row11 col2\" >0.000000</td>\n",
       "                        <td id=\"T_2c8a9_row11_col3\" class=\"data row11 col3\" >0.000000</td>\n",
       "            </tr>\n",
       "            <tr>\n",
       "                        <th id=\"T_2c8a9_level0_row12\" class=\"row_heading level0 row12\" >region</th>\n",
       "                        <td id=\"T_2c8a9_row12_col0\" class=\"data row12 col0\" >0</td>\n",
       "                        <td id=\"T_2c8a9_row12_col1\" class=\"data row12 col1\" >0.000000</td>\n",
       "                        <td id=\"T_2c8a9_row12_col2\" class=\"data row12 col2\" >0.000000</td>\n",
       "                        <td id=\"T_2c8a9_row12_col3\" class=\"data row12 col3\" >0.000000</td>\n",
       "            </tr>\n",
       "    </tbody></table>"
      ],
      "text/plain": [
       "<pandas.io.formats.style.Styler at 0x275152c4850>"
      ]
     },
     "execution_count": 101,
     "metadata": {},
     "output_type": "execute_result"
    }
   ],
   "source": [
    "df.style.apply(highlight_not_zero)"
   ]
  },
  {
   "cell_type": "markdown",
   "id": "ecbe9c95-2bb7-4d67-8c5f-9b164169d28e",
   "metadata": {},
   "source": [
    "`Observations`\n",
    "\n",
    "* From the above table only Two(2) columns are missing from the train and test datasets.\n",
    "        * Also the percentage of missing values in education is 4 % \n",
    "        * Percentage of missing vales in previous_year_rating is 7% in both datasets.\n",
    "* Since theres a small percentage of data missing we can simply impute the values using either the mean,\n",
    "mode or median \n"
   ]
  },
  {
   "cell_type": "code",
   "execution_count": 102,
   "id": "a733d557-be99-4dfd-bef8-ec99228d9fe5",
   "metadata": {},
   "outputs": [
    {
     "name": "stdout",
     "output_type": "stream",
     "text": [
      "Number of missing values is Training dataset 0\n"
     ]
    }
   ],
   "source": [
    "### Imputing the missing values\n",
    "\n",
    "train_df['education'] = train_df['education'].fillna(train_df['education'].mode()[0])\n",
    "train_df['previous_year_rating'] = train_df['previous_year_rating'].fillna(train_df['no_of_trainings'].mode()[0])\n",
    "\n",
    "#lets check if theres still any missing data\n",
    "print('Number of missing values is Training dataset',train_df.isnull().sum().sum())"
   ]
  },
  {
   "cell_type": "code",
   "execution_count": 103,
   "id": "ba5147de-03c6-4669-bcd5-9dd7f9a63baf",
   "metadata": {},
   "outputs": [
    {
     "name": "stdout",
     "output_type": "stream",
     "text": [
      "Number of missing values is Test dataset 0\n"
     ]
    }
   ],
   "source": [
    "test_df['education'] = test_df['education'].fillna(test_df['education'].mode()[0])\n",
    "test_df['previous_year_rating'] = test_df['previous_year_rating'].fillna(test_df['no_of_trainings'].mode()[0])\n",
    "\n",
    "#lets check if theres still any missing data\n",
    "print('Number of missing values is Test dataset',train_df.isnull().sum().sum())"
   ]
  },
  {
   "cell_type": "markdown",
   "id": "041e6de2-11b3-4f3a-9e3f-3e2888e42023",
   "metadata": {},
   "source": [
    "#### `Handling Outliers`"
   ]
  },
  {
   "cell_type": "code",
   "execution_count": 104,
   "id": "448734df-3e8d-4449-8374-b86182f3846d",
   "metadata": {},
   "outputs": [
    {
     "data": {
      "text/html": [
       "<div>\n",
       "<style scoped>\n",
       "    .dataframe tbody tr th:only-of-type {\n",
       "        vertical-align: middle;\n",
       "    }\n",
       "\n",
       "    .dataframe tbody tr th {\n",
       "        vertical-align: top;\n",
       "    }\n",
       "\n",
       "    .dataframe thead th {\n",
       "        text-align: right;\n",
       "    }\n",
       "</style>\n",
       "<table border=\"1\" class=\"dataframe\">\n",
       "  <thead>\n",
       "    <tr style=\"text-align: right;\">\n",
       "      <th></th>\n",
       "      <th>employee_id</th>\n",
       "      <th>no_of_trainings</th>\n",
       "      <th>age</th>\n",
       "      <th>previous_year_rating</th>\n",
       "      <th>length_of_service</th>\n",
       "      <th>awards_won?</th>\n",
       "      <th>avg_training_score</th>\n",
       "      <th>is_promoted</th>\n",
       "    </tr>\n",
       "  </thead>\n",
       "  <tbody>\n",
       "    <tr>\n",
       "      <th>0</th>\n",
       "      <td>65438</td>\n",
       "      <td>1</td>\n",
       "      <td>35</td>\n",
       "      <td>5.0</td>\n",
       "      <td>8</td>\n",
       "      <td>0</td>\n",
       "      <td>49</td>\n",
       "      <td>0</td>\n",
       "    </tr>\n",
       "    <tr>\n",
       "      <th>1</th>\n",
       "      <td>65141</td>\n",
       "      <td>1</td>\n",
       "      <td>30</td>\n",
       "      <td>5.0</td>\n",
       "      <td>4</td>\n",
       "      <td>0</td>\n",
       "      <td>60</td>\n",
       "      <td>0</td>\n",
       "    </tr>\n",
       "    <tr>\n",
       "      <th>2</th>\n",
       "      <td>7513</td>\n",
       "      <td>1</td>\n",
       "      <td>34</td>\n",
       "      <td>3.0</td>\n",
       "      <td>7</td>\n",
       "      <td>0</td>\n",
       "      <td>50</td>\n",
       "      <td>0</td>\n",
       "    </tr>\n",
       "    <tr>\n",
       "      <th>3</th>\n",
       "      <td>2542</td>\n",
       "      <td>2</td>\n",
       "      <td>39</td>\n",
       "      <td>1.0</td>\n",
       "      <td>10</td>\n",
       "      <td>0</td>\n",
       "      <td>50</td>\n",
       "      <td>0</td>\n",
       "    </tr>\n",
       "    <tr>\n",
       "      <th>4</th>\n",
       "      <td>48945</td>\n",
       "      <td>1</td>\n",
       "      <td>45</td>\n",
       "      <td>3.0</td>\n",
       "      <td>2</td>\n",
       "      <td>0</td>\n",
       "      <td>73</td>\n",
       "      <td>0</td>\n",
       "    </tr>\n",
       "  </tbody>\n",
       "</table>\n",
       "</div>"
      ],
      "text/plain": [
       "   employee_id  no_of_trainings  age  previous_year_rating  length_of_service  \\\n",
       "0        65438                1   35                   5.0                  8   \n",
       "1        65141                1   30                   5.0                  4   \n",
       "2         7513                1   34                   3.0                  7   \n",
       "3         2542                2   39                   1.0                 10   \n",
       "4        48945                1   45                   3.0                  2   \n",
       "\n",
       "   awards_won?  avg_training_score  is_promoted  \n",
       "0            0                  49            0  \n",
       "1            0                  60            0  \n",
       "2            0                  50            0  \n",
       "3            0                  50            0  \n",
       "4            0                  73            0  "
      ]
     },
     "execution_count": 104,
     "metadata": {},
     "output_type": "execute_result"
    }
   ],
   "source": [
    "## handle outliers in the numerical columns\n",
    "train_df.select_dtypes('number').head()"
   ]
  },
  {
   "cell_type": "markdown",
   "id": "0de11da4-5965-4feb-b2cc-0a1777ad41a2",
   "metadata": {},
   "source": [
    "`Observations`\n",
    "* length of service and avg_training_score can have outliers since most employees:\n",
    "     * Work in a company for 2-5 years max\n",
    "     * Most employees score an average score of 40-60.\n",
    " \n",
    "* So well check for outliers in these 2 columns"
   ]
  },
  {
   "cell_type": "code",
   "execution_count": 105,
   "id": "dc8600ae-025d-4c11-9489-591161f24100",
   "metadata": {},
   "outputs": [
    {
     "name": "stderr",
     "output_type": "stream",
     "text": [
      "C:\\Users\\Randah\\anaconda3\\lib\\site-packages\\seaborn\\_decorators.py:36: FutureWarning: Pass the following variable as a keyword arg: x. From version 0.12, the only valid positional argument will be `data`, and passing other arguments without an explicit keyword will result in an error or misinterpretation.\n",
      "  warnings.warn(\n",
      "C:\\Users\\Randah\\anaconda3\\lib\\site-packages\\seaborn\\_decorators.py:36: FutureWarning: Pass the following variable as a keyword arg: x. From version 0.12, the only valid positional argument will be `data`, and passing other arguments without an explicit keyword will result in an error or misinterpretation.\n",
      "  warnings.warn(\n"
     ]
    },
    {
     "data": {
      "image/png": "[encoded data removed]",
      "text/plain": [
       "<Figure size 1152x360 with 2 Axes>"
      ]
     },
     "metadata": {},
     "output_type": "display_data"
    }
   ],
   "source": [
    "# boxplot for avg_training_score\n",
    "plt.subplot(1,2,1)\n",
    "sns.boxplot(train_df['avg_training_score'],color='crimson')\n",
    "plt.xlabel('Average Training with no Outliers',fontsize=13)\n",
    "plt.ylabel('Range',fontsize=13)\n",
    "\n",
    "# boxplot for length_of_service\n",
    "plt.subplot(1,2,2)\n",
    "sns.boxplot(train_df['length_of_service'],color='crimson')\n",
    "plt.xlabel('Length of Service with Outliers',fontsize=13)\n",
    "plt.ylabel('Range',fontsize=13)\n",
    "\n",
    "plt.suptitle('Checking for Outliers',fontsize=20)\n",
    "plt.show()"
   ]
  },
  {
   "cell_type": "markdown",
   "id": "f1e10aab-b53b-42e2-807c-d18572a6216f",
   "metadata": {},
   "source": [
    "`Observations`\n",
    "* No outiers are found in the average training column\n",
    "* Some outliers found in the lenght of service column"
   ]
  },
  {
   "cell_type": "code",
   "execution_count": 106,
   "id": "79ce2726-8fed-4f60-9c16-a3c5411d8e1a",
   "metadata": {},
   "outputs": [],
   "source": [
    "## Fix the outliers\n",
    "train_df = train_df[train_df['length_of_service']<13]"
   ]
  },
  {
   "cell_type": "code",
   "execution_count": 111,
   "id": "49854591-9a8e-4825-85d3-486cc3bb63dd",
   "metadata": {},
   "outputs": [
    {
     "name": "stderr",
     "output_type": "stream",
     "text": [
      "C:\\Users\\Randah\\anaconda3\\lib\\site-packages\\seaborn\\_decorators.py:36: FutureWarning: Pass the following variable as a keyword arg: x. From version 0.12, the only valid positional argument will be `data`, and passing other arguments without an explicit keyword will result in an error or misinterpretation.\n",
      "  warnings.warn(\n"
     ]
    },
    {
     "data": {
      "text/plain": [
       "Text(0.5, 0.98, 'After Handling Outliers')"
      ]
     },
     "execution_count": 111,
     "metadata": {},
     "output_type": "execute_result"
    },
    {
     "data": {
      "image/png": "[encoded data removed]",
      "text/plain": [
       "<Figure size 1152x360 with 1 Axes>"
      ]
     },
     "metadata": {},
     "output_type": "display_data"
    }
   ],
   "source": [
    "## lets check after handling\n",
    "sns.boxplot(train_df['length_of_service'],color='crimson')\n",
    "plt.xlabel('Length of Service',fontsize=13)\n",
    "plt.ylabel('Range',fontsize=13)\n",
    "plt.suptitle('After Handling Outliers',fontsize=20)"
   ]
  },
  {
   "cell_type": "code",
   "execution_count": null,
   "id": "df1341c2-9b54-4c06-83ed-95c5471ee2ad",
   "metadata": {},
   "outputs": [],
   "source": []
  }
 ],
 "metadata": {
  "kernelspec": {
   "display_name": "Python 3",
   "language": "python",
   "name": "python3"
  },
  "language_info": {
   "codemirror_mode": {
    "name": "ipython",
    "version": 3
   },
   "file_extension": ".py",
   "mimetype": "text/x-python",
   "name": "python",
   "nbconvert_exporter": "python",
   "pygments_lexer": "ipython3",
   "version": "3.8.8"
  }
 },
 "nbformat": 4,
 "nbformat_minor": 5
}
