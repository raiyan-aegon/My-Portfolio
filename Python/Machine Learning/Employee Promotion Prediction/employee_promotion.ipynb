{
 "cells": [
  {
   "cell_type": "markdown",
   "id": "6eeff277-127c-4376-8dff-f75659654884",
   "metadata": {},
   "source": [
    "# Employee Promotion Prediction \n",
    "\n",
    "*What we are covering:*\n",
    "1. Problem definition\n",
    "2. Data \n",
    "3. Evaluation\n",
    "4. Features\n",
    "5. Modeling \n",
    "6. Experimentation\n",
    "\n",
    "## 1. Problem Definition\n",
    ">A large MNC have 9 broad verticals across the organisation. One of the problem is identifying the right people for promotion (only for manager position and below) and prepare them in time.\n",
    "The final promotions are only announced after the evaluation and this leads to delay in transition to new roles. Hence, company needs help in identifying the eligible candidates at a particular checkpoint so that they can expedite the entire promotion cycle.\n",
    "\n",
    "\n",
    "## 2. Data\n",
    ">Multiple attributes have been provided around Employee's past and current performance along with demographics.\n",
    "https://www.kaggle.com/arashnic/hr-ana\n",
    "\n",
    "\n",
    "## 3. Evaluation\n",
    "> if we can reach 95% accuracy at predicting whether an employee should be promoted or not \n",
    "during the evaluation process.\n",
    "\n",
    "## 4. Features\n",
    "\n",
    "\n",
    "* employee_id: Unique ID for employee\n",
    "* department: Department of employee\n",
    "* region: Region of employment (unordered)\n",
    "* education: Education Level\n",
    "* gender: Gender of Employee\n",
    "* recruitment_channel: Channel of recruitment for employee\n",
    "* no_ of_ trainings: no of other trainings completed in previous year on soft skills, technical skills etc.\n",
    "* age: Age of Employee\n",
    "* previous_ year_ rating: Employee Rating for the previous year\n",
    "* length_ of_ service: Length of service in years\n",
    "* awards_ won?: if awards won during previous year then 1 else 0\n",
    "* avg_ training_ score: Average score in current training evaluations\n",
    "* is_promoted: (Target) Recommended for promotion"
   ]
  },
  {
   "cell_type": "markdown",
   "id": "8e3cf197-43a8-4b8b-bcb1-1f1e4268521d",
   "metadata": {},
   "source": [
    "## Preparing the tools"
   ]
  },
  {
   "cell_type": "markdown",
   "id": "d1095964-4c73-44f7-be6a-e6082eb40955",
   "metadata": {},
   "source": [
    "* Import pandas,matplotlib and seaborn for Data Analysis and Visualization\n",
    "* Import ipwidgets,Sweetviz,ppscore for Exploratory Data Analysis\n",
    "* import Sklearn,imblearn for Machine Learning Modeling"
   ]
  },
  {
   "cell_type": "code",
   "execution_count": 163,
   "id": "a5f1ce02-4cb5-42a0-8538-6cae0f80073e",
   "metadata": {},
   "outputs": [],
   "source": [
    "## import all libraries\n",
    "\n",
    "#for data manipulations\n",
    "import pandas as pd\n",
    "import numpy as np\n",
    "import math \n",
    "\n",
    "#for data visualization\n",
    "import matplotlib.pyplot as plt\n",
    "import seaborn as sns\n",
    "import plotly.express as px\n",
    "\n",
    "#for Modeling\n",
    "from sklearn.model_selection import train_test_split,cross_val_score,GridSearchCV,RandomizedSearchCV\n",
    "from imblearn.over_sampling import SMOTE\n",
    "from sklearn.tree import DecisionTreeClassifier\n",
    "from sklearn.ensemble import RandomForestClassifier\n",
    "from sklearn.linear_model import LogisticRegression\n",
    "from sklearn.svm import SVC\n",
    "\n",
    "# model evaluation\n",
    "from sklearn.metrics import confusion_matrix,roc_auc_score,classification_report\n",
    "\n",
    "#Data preprocessing\n",
    "from sklearn.preprocessing import LabelEncoder,OrdinalEncoder,StandardScaler\n",
    "\n",
    "#setting up the size of figures\n",
    "plt.rcParams['figure.figsize']=(16,5)\n",
    "\n",
    "#setting up the style of plots\n",
    "plt.style.use('bmh')\n",
    "\n",
    "\n",
    "import warnings\n",
    "warnings.filterwarnings('ignore')\n"
   ]
  },
  {
   "cell_type": "code",
   "execution_count": 2,
   "id": "b9943812-1e7d-493c-a67a-eac3bb691320",
   "metadata": {},
   "outputs": [
    {
     "data": {
      "text/plain": [
       "['Solarize_Light2',\n",
       " '_classic_test_patch',\n",
       " 'bmh',\n",
       " 'classic',\n",
       " 'dark_background',\n",
       " 'fast',\n",
       " 'fivethirtyeight',\n",
       " 'ggplot',\n",
       " 'grayscale',\n",
       " 'seaborn',\n",
       " 'seaborn-bright',\n",
       " 'seaborn-colorblind',\n",
       " 'seaborn-dark',\n",
       " 'seaborn-dark-palette',\n",
       " 'seaborn-darkgrid',\n",
       " 'seaborn-deep',\n",
       " 'seaborn-muted',\n",
       " 'seaborn-notebook',\n",
       " 'seaborn-paper',\n",
       " 'seaborn-pastel',\n",
       " 'seaborn-poster',\n",
       " 'seaborn-talk',\n",
       " 'seaborn-ticks',\n",
       " 'seaborn-white',\n",
       " 'seaborn-whitegrid',\n",
       " 'tableau-colorblind10']"
      ]
     },
     "execution_count": 2,
     "metadata": {},
     "output_type": "execute_result"
    }
   ],
   "source": [
    "plt.style.available"
   ]
  },
  {
   "cell_type": "markdown",
   "id": "fa37c549-4001-4868-8002-51e404cbc08c",
   "metadata": {},
   "source": [
    "## Load Data\n",
    "> We load the train and test data.\n",
    "* Train data - used to train the models\n",
    "* Test data -  used to evaluate the model"
   ]
  },
  {
   "cell_type": "code",
   "execution_count": 3,
   "id": "9665c69f-3f0b-491c-9707-7794149a4171",
   "metadata": {},
   "outputs": [],
   "source": [
    "## load data \n",
    "train_df = pd.read_csv('train.csv')\n",
    "test_df = pd.read_csv('test.csv')"
   ]
  },
  {
   "cell_type": "code",
   "execution_count": 4,
   "id": "0ebd2e8e-6fc9-48d4-8620-3c125c613259",
   "metadata": {},
   "outputs": [
    {
     "name": "stdout",
     "output_type": "stream",
     "text": [
      "Shape of Training data: (54808, 13)\n",
      "Shape of Test data: (23490, 12)\n"
     ]
    }
   ],
   "source": [
    "## we check the shape of both datasets\n",
    "print('Shape of Training data:',train_df.shape)\n",
    "print('Shape of Test data:',test_df.shape)"
   ]
  },
  {
   "cell_type": "code",
   "execution_count": 5,
   "id": "c474f801-8ea4-403a-a9dc-8db28b783c79",
   "metadata": {},
   "outputs": [
    {
     "data": {
      "text/plain": [
       "Index(['employee_id', 'department', 'region', 'education', 'gender',\n",
       "       'recruitment_channel', 'no_of_trainings', 'age', 'previous_year_rating',\n",
       "       'length_of_service', 'awards_won?', 'avg_training_score',\n",
       "       'is_promoted'],\n",
       "      dtype='object')"
      ]
     },
     "execution_count": 5,
     "metadata": {},
     "output_type": "execute_result"
    }
   ],
   "source": [
    "## columns in training data\n",
    "train_df.columns"
   ]
  },
  {
   "cell_type": "code",
   "execution_count": 6,
   "id": "c2379d47-2b74-44a0-a02e-ff2c7db1380b",
   "metadata": {},
   "outputs": [
    {
     "data": {
      "text/plain": [
       "Index(['employee_id', 'department', 'region', 'education', 'gender',\n",
       "       'recruitment_channel', 'no_of_trainings', 'age', 'previous_year_rating',\n",
       "       'length_of_service', 'awards_won?', 'avg_training_score'],\n",
       "      dtype='object')"
      ]
     },
     "execution_count": 6,
     "metadata": {},
     "output_type": "execute_result"
    }
   ],
   "source": [
    "## columns in test data\n",
    "test_df.columns"
   ]
  },
  {
   "cell_type": "code",
   "execution_count": 7,
   "id": "3071be87-ba85-444b-8de9-76d09a333a56",
   "metadata": {},
   "outputs": [
    {
     "data": {
      "text/html": [
       "<div>\n",
       "<style scoped>\n",
       "    .dataframe tbody tr th:only-of-type {\n",
       "        vertical-align: middle;\n",
       "    }\n",
       "\n",
       "    .dataframe tbody tr th {\n",
       "        vertical-align: top;\n",
       "    }\n",
       "\n",
       "    .dataframe thead th {\n",
       "        text-align: right;\n",
       "    }\n",
       "</style>\n",
       "<table border=\"1\" class=\"dataframe\">\n",
       "  <thead>\n",
       "    <tr style=\"text-align: right;\">\n",
       "      <th></th>\n",
       "      <th>employee_id</th>\n",
       "      <th>department</th>\n",
       "      <th>region</th>\n",
       "      <th>education</th>\n",
       "      <th>gender</th>\n",
       "      <th>recruitment_channel</th>\n",
       "      <th>no_of_trainings</th>\n",
       "      <th>age</th>\n",
       "      <th>previous_year_rating</th>\n",
       "      <th>length_of_service</th>\n",
       "      <th>awards_won?</th>\n",
       "      <th>avg_training_score</th>\n",
       "      <th>is_promoted</th>\n",
       "    </tr>\n",
       "  </thead>\n",
       "  <tbody>\n",
       "    <tr>\n",
       "      <th>0</th>\n",
       "      <td>65438</td>\n",
       "      <td>Sales &amp; Marketing</td>\n",
       "      <td>region_7</td>\n",
       "      <td>Master's &amp; above</td>\n",
       "      <td>f</td>\n",
       "      <td>sourcing</td>\n",
       "      <td>1</td>\n",
       "      <td>35</td>\n",
       "      <td>5.0</td>\n",
       "      <td>8</td>\n",
       "      <td>0</td>\n",
       "      <td>49</td>\n",
       "      <td>0</td>\n",
       "    </tr>\n",
       "    <tr>\n",
       "      <th>1</th>\n",
       "      <td>65141</td>\n",
       "      <td>Operations</td>\n",
       "      <td>region_22</td>\n",
       "      <td>Bachelor's</td>\n",
       "      <td>m</td>\n",
       "      <td>other</td>\n",
       "      <td>1</td>\n",
       "      <td>30</td>\n",
       "      <td>5.0</td>\n",
       "      <td>4</td>\n",
       "      <td>0</td>\n",
       "      <td>60</td>\n",
       "      <td>0</td>\n",
       "    </tr>\n",
       "    <tr>\n",
       "      <th>2</th>\n",
       "      <td>7513</td>\n",
       "      <td>Sales &amp; Marketing</td>\n",
       "      <td>region_19</td>\n",
       "      <td>Bachelor's</td>\n",
       "      <td>m</td>\n",
       "      <td>sourcing</td>\n",
       "      <td>1</td>\n",
       "      <td>34</td>\n",
       "      <td>3.0</td>\n",
       "      <td>7</td>\n",
       "      <td>0</td>\n",
       "      <td>50</td>\n",
       "      <td>0</td>\n",
       "    </tr>\n",
       "    <tr>\n",
       "      <th>3</th>\n",
       "      <td>2542</td>\n",
       "      <td>Sales &amp; Marketing</td>\n",
       "      <td>region_23</td>\n",
       "      <td>Bachelor's</td>\n",
       "      <td>m</td>\n",
       "      <td>other</td>\n",
       "      <td>2</td>\n",
       "      <td>39</td>\n",
       "      <td>1.0</td>\n",
       "      <td>10</td>\n",
       "      <td>0</td>\n",
       "      <td>50</td>\n",
       "      <td>0</td>\n",
       "    </tr>\n",
       "    <tr>\n",
       "      <th>4</th>\n",
       "      <td>48945</td>\n",
       "      <td>Technology</td>\n",
       "      <td>region_26</td>\n",
       "      <td>Bachelor's</td>\n",
       "      <td>m</td>\n",
       "      <td>other</td>\n",
       "      <td>1</td>\n",
       "      <td>45</td>\n",
       "      <td>3.0</td>\n",
       "      <td>2</td>\n",
       "      <td>0</td>\n",
       "      <td>73</td>\n",
       "      <td>0</td>\n",
       "    </tr>\n",
       "  </tbody>\n",
       "</table>\n",
       "</div>"
      ],
      "text/plain": [
       "   employee_id         department     region         education gender  \\\n",
       "0        65438  Sales & Marketing   region_7  Master's & above      f   \n",
       "1        65141         Operations  region_22        Bachelor's      m   \n",
       "2         7513  Sales & Marketing  region_19        Bachelor's      m   \n",
       "3         2542  Sales & Marketing  region_23        Bachelor's      m   \n",
       "4        48945         Technology  region_26        Bachelor's      m   \n",
       "\n",
       "  recruitment_channel  no_of_trainings  age  previous_year_rating  \\\n",
       "0            sourcing                1   35                   5.0   \n",
       "1               other                1   30                   5.0   \n",
       "2            sourcing                1   34                   3.0   \n",
       "3               other                2   39                   1.0   \n",
       "4               other                1   45                   3.0   \n",
       "\n",
       "   length_of_service  awards_won?  avg_training_score  is_promoted  \n",
       "0                  8            0                  49            0  \n",
       "1                  4            0                  60            0  \n",
       "2                  7            0                  50            0  \n",
       "3                 10            0                  50            0  \n",
       "4                  2            0                  73            0  "
      ]
     },
     "execution_count": 7,
     "metadata": {},
     "output_type": "execute_result"
    }
   ],
   "source": [
    "train_df.head()"
   ]
  },
  {
   "cell_type": "markdown",
   "id": "b753d2bc-035c-4f0f-93c3-9a2bd0126bc9",
   "metadata": {},
   "source": [
    "`Observations`\n",
    "* Employee ID , Region and Recruitment channel are not really important in predicting if and employee need to promoted or not"
   ]
  },
  {
   "cell_type": "markdown",
   "id": "c1516527-5db8-4f02-ab31-159706566ee9",
   "metadata": {},
   "source": [
    "## Performing Descriptive Statistics\n",
    "* Continous columns\n",
    "* Categorical columns"
   ]
  },
  {
   "cell_type": "markdown",
   "id": "157f5974-f7b6-4fc0-8b82-bdd6cb4c06c6",
   "metadata": {},
   "source": [
    "#### Continous(Numerical) columns"
   ]
  },
  {
   "cell_type": "code",
   "execution_count": 8,
   "id": "14954f13-f299-404b-bb10-b0f9ed624a7b",
   "metadata": {},
   "outputs": [
    {
     "data": {
      "text/html": [
       "<style  type=\"text/css\" >\n",
       "#T_31101_row0_col0{\n",
       "            background-color:  #187cb6;\n",
       "            color:  #000000;\n",
       "        }#T_31101_row0_col1,#T_31101_row0_col2,#T_31101_row0_col3,#T_31101_row0_col4,#T_31101_row0_col5,#T_31101_row0_col6,#T_31101_row0_col7,#T_31101_row7_col0{\n",
       "            background-color:  #023858;\n",
       "            color:  #f1f1f1;\n",
       "        }#T_31101_row1_col0,#T_31101_row5_col0{\n",
       "            background-color:  #73a9cf;\n",
       "            color:  #000000;\n",
       "        }#T_31101_row1_col1,#T_31101_row1_col2,#T_31101_row1_col3,#T_31101_row1_col4,#T_31101_row1_col5,#T_31101_row1_col6,#T_31101_row1_col7,#T_31101_row2_col1,#T_31101_row2_col2,#T_31101_row2_col3,#T_31101_row2_col4,#T_31101_row2_col5,#T_31101_row2_col6,#T_31101_row2_col7,#T_31101_row3_col0,#T_31101_row3_col1,#T_31101_row3_col2,#T_31101_row3_col3,#T_31101_row3_col4,#T_31101_row3_col5,#T_31101_row3_col6,#T_31101_row3_col7,#T_31101_row4_col1,#T_31101_row4_col2,#T_31101_row4_col3,#T_31101_row4_col4,#T_31101_row4_col5,#T_31101_row4_col6,#T_31101_row4_col7,#T_31101_row5_col1,#T_31101_row5_col2,#T_31101_row5_col3,#T_31101_row5_col4,#T_31101_row5_col5,#T_31101_row5_col6,#T_31101_row5_col7,#T_31101_row6_col1,#T_31101_row6_col2,#T_31101_row6_col3,#T_31101_row6_col4,#T_31101_row6_col5,#T_31101_row6_col6,#T_31101_row6_col7,#T_31101_row7_col1,#T_31101_row7_col2,#T_31101_row7_col3,#T_31101_row7_col4,#T_31101_row7_col5,#T_31101_row7_col6,#T_31101_row7_col7{\n",
       "            background-color:  #fff7fb;\n",
       "            color:  #000000;\n",
       "        }#T_31101_row2_col0{\n",
       "            background-color:  #c4cbe3;\n",
       "            color:  #000000;\n",
       "        }#T_31101_row4_col0{\n",
       "            background-color:  #d0d1e6;\n",
       "            color:  #000000;\n",
       "        }#T_31101_row6_col0{\n",
       "            background-color:  #056faf;\n",
       "            color:  #f1f1f1;\n",
       "        }</style><table id=\"T_31101_\" ><thead>    <tr>        <th class=\"blank level0\" ></th>        <th class=\"col_heading level0 col0\" >employee_id</th>        <th class=\"col_heading level0 col1\" >no_of_trainings</th>        <th class=\"col_heading level0 col2\" >age</th>        <th class=\"col_heading level0 col3\" >previous_year_rating</th>        <th class=\"col_heading level0 col4\" >length_of_service</th>        <th class=\"col_heading level0 col5\" >awards_won?</th>        <th class=\"col_heading level0 col6\" >avg_training_score</th>        <th class=\"col_heading level0 col7\" >is_promoted</th>    </tr></thead><tbody>\n",
       "                <tr>\n",
       "                        <th id=\"T_31101_level0_row0\" class=\"row_heading level0 row0\" >count</th>\n",
       "                        <td id=\"T_31101_row0_col0\" class=\"data row0 col0\" >54808.000000</td>\n",
       "                        <td id=\"T_31101_row0_col1\" class=\"data row0 col1\" >54808.000000</td>\n",
       "                        <td id=\"T_31101_row0_col2\" class=\"data row0 col2\" >54808.000000</td>\n",
       "                        <td id=\"T_31101_row0_col3\" class=\"data row0 col3\" >50684.000000</td>\n",
       "                        <td id=\"T_31101_row0_col4\" class=\"data row0 col4\" >54808.000000</td>\n",
       "                        <td id=\"T_31101_row0_col5\" class=\"data row0 col5\" >54808.000000</td>\n",
       "                        <td id=\"T_31101_row0_col6\" class=\"data row0 col6\" >54808.000000</td>\n",
       "                        <td id=\"T_31101_row0_col7\" class=\"data row0 col7\" >54808.000000</td>\n",
       "            </tr>\n",
       "            <tr>\n",
       "                        <th id=\"T_31101_level0_row1\" class=\"row_heading level0 row1\" >mean</th>\n",
       "                        <td id=\"T_31101_row1_col0\" class=\"data row1 col0\" >39195.830627</td>\n",
       "                        <td id=\"T_31101_row1_col1\" class=\"data row1 col1\" >1.253011</td>\n",
       "                        <td id=\"T_31101_row1_col2\" class=\"data row1 col2\" >34.803915</td>\n",
       "                        <td id=\"T_31101_row1_col3\" class=\"data row1 col3\" >3.329256</td>\n",
       "                        <td id=\"T_31101_row1_col4\" class=\"data row1 col4\" >5.865512</td>\n",
       "                        <td id=\"T_31101_row1_col5\" class=\"data row1 col5\" >0.023172</td>\n",
       "                        <td id=\"T_31101_row1_col6\" class=\"data row1 col6\" >63.386750</td>\n",
       "                        <td id=\"T_31101_row1_col7\" class=\"data row1 col7\" >0.085170</td>\n",
       "            </tr>\n",
       "            <tr>\n",
       "                        <th id=\"T_31101_level0_row2\" class=\"row_heading level0 row2\" >std</th>\n",
       "                        <td id=\"T_31101_row2_col0\" class=\"data row2 col0\" >22586.581449</td>\n",
       "                        <td id=\"T_31101_row2_col1\" class=\"data row2 col1\" >0.609264</td>\n",
       "                        <td id=\"T_31101_row2_col2\" class=\"data row2 col2\" >7.660169</td>\n",
       "                        <td id=\"T_31101_row2_col3\" class=\"data row2 col3\" >1.259993</td>\n",
       "                        <td id=\"T_31101_row2_col4\" class=\"data row2 col4\" >4.265094</td>\n",
       "                        <td id=\"T_31101_row2_col5\" class=\"data row2 col5\" >0.150450</td>\n",
       "                        <td id=\"T_31101_row2_col6\" class=\"data row2 col6\" >13.371559</td>\n",
       "                        <td id=\"T_31101_row2_col7\" class=\"data row2 col7\" >0.279137</td>\n",
       "            </tr>\n",
       "            <tr>\n",
       "                        <th id=\"T_31101_level0_row3\" class=\"row_heading level0 row3\" >min</th>\n",
       "                        <td id=\"T_31101_row3_col0\" class=\"data row3 col0\" >1.000000</td>\n",
       "                        <td id=\"T_31101_row3_col1\" class=\"data row3 col1\" >1.000000</td>\n",
       "                        <td id=\"T_31101_row3_col2\" class=\"data row3 col2\" >20.000000</td>\n",
       "                        <td id=\"T_31101_row3_col3\" class=\"data row3 col3\" >1.000000</td>\n",
       "                        <td id=\"T_31101_row3_col4\" class=\"data row3 col4\" >1.000000</td>\n",
       "                        <td id=\"T_31101_row3_col5\" class=\"data row3 col5\" >0.000000</td>\n",
       "                        <td id=\"T_31101_row3_col6\" class=\"data row3 col6\" >39.000000</td>\n",
       "                        <td id=\"T_31101_row3_col7\" class=\"data row3 col7\" >0.000000</td>\n",
       "            </tr>\n",
       "            <tr>\n",
       "                        <th id=\"T_31101_level0_row4\" class=\"row_heading level0 row4\" >25%</th>\n",
       "                        <td id=\"T_31101_row4_col0\" class=\"data row4 col0\" >19669.750000</td>\n",
       "                        <td id=\"T_31101_row4_col1\" class=\"data row4 col1\" >1.000000</td>\n",
       "                        <td id=\"T_31101_row4_col2\" class=\"data row4 col2\" >29.000000</td>\n",
       "                        <td id=\"T_31101_row4_col3\" class=\"data row4 col3\" >3.000000</td>\n",
       "                        <td id=\"T_31101_row4_col4\" class=\"data row4 col4\" >3.000000</td>\n",
       "                        <td id=\"T_31101_row4_col5\" class=\"data row4 col5\" >0.000000</td>\n",
       "                        <td id=\"T_31101_row4_col6\" class=\"data row4 col6\" >51.000000</td>\n",
       "                        <td id=\"T_31101_row4_col7\" class=\"data row4 col7\" >0.000000</td>\n",
       "            </tr>\n",
       "            <tr>\n",
       "                        <th id=\"T_31101_level0_row5\" class=\"row_heading level0 row5\" >50%</th>\n",
       "                        <td id=\"T_31101_row5_col0\" class=\"data row5 col0\" >39225.500000</td>\n",
       "                        <td id=\"T_31101_row5_col1\" class=\"data row5 col1\" >1.000000</td>\n",
       "                        <td id=\"T_31101_row5_col2\" class=\"data row5 col2\" >33.000000</td>\n",
       "                        <td id=\"T_31101_row5_col3\" class=\"data row5 col3\" >3.000000</td>\n",
       "                        <td id=\"T_31101_row5_col4\" class=\"data row5 col4\" >5.000000</td>\n",
       "                        <td id=\"T_31101_row5_col5\" class=\"data row5 col5\" >0.000000</td>\n",
       "                        <td id=\"T_31101_row5_col6\" class=\"data row5 col6\" >60.000000</td>\n",
       "                        <td id=\"T_31101_row5_col7\" class=\"data row5 col7\" >0.000000</td>\n",
       "            </tr>\n",
       "            <tr>\n",
       "                        <th id=\"T_31101_level0_row6\" class=\"row_heading level0 row6\" >75%</th>\n",
       "                        <td id=\"T_31101_row6_col0\" class=\"data row6 col0\" >58730.500000</td>\n",
       "                        <td id=\"T_31101_row6_col1\" class=\"data row6 col1\" >1.000000</td>\n",
       "                        <td id=\"T_31101_row6_col2\" class=\"data row6 col2\" >39.000000</td>\n",
       "                        <td id=\"T_31101_row6_col3\" class=\"data row6 col3\" >4.000000</td>\n",
       "                        <td id=\"T_31101_row6_col4\" class=\"data row6 col4\" >7.000000</td>\n",
       "                        <td id=\"T_31101_row6_col5\" class=\"data row6 col5\" >0.000000</td>\n",
       "                        <td id=\"T_31101_row6_col6\" class=\"data row6 col6\" >76.000000</td>\n",
       "                        <td id=\"T_31101_row6_col7\" class=\"data row6 col7\" >0.000000</td>\n",
       "            </tr>\n",
       "            <tr>\n",
       "                        <th id=\"T_31101_level0_row7\" class=\"row_heading level0 row7\" >max</th>\n",
       "                        <td id=\"T_31101_row7_col0\" class=\"data row7 col0\" >78298.000000</td>\n",
       "                        <td id=\"T_31101_row7_col1\" class=\"data row7 col1\" >10.000000</td>\n",
       "                        <td id=\"T_31101_row7_col2\" class=\"data row7 col2\" >60.000000</td>\n",
       "                        <td id=\"T_31101_row7_col3\" class=\"data row7 col3\" >5.000000</td>\n",
       "                        <td id=\"T_31101_row7_col4\" class=\"data row7 col4\" >37.000000</td>\n",
       "                        <td id=\"T_31101_row7_col5\" class=\"data row7 col5\" >1.000000</td>\n",
       "                        <td id=\"T_31101_row7_col6\" class=\"data row7 col6\" >99.000000</td>\n",
       "                        <td id=\"T_31101_row7_col7\" class=\"data row7 col7\" >1.000000</td>\n",
       "            </tr>\n",
       "    </tbody></table>"
      ],
      "text/plain": [
       "<pandas.io.formats.style.Styler at 0x20743efbd90>"
      ]
     },
     "execution_count": 8,
     "metadata": {},
     "output_type": "execute_result"
    }
   ],
   "source": [
    "train_df.describe().style.background_gradient()\n"
   ]
  },
  {
   "cell_type": "markdown",
   "id": "6c11fa09-7698-4b9c-b169-eaf00f86b2a9",
   "metadata": {},
   "source": [
    "##### `Obersevations:`\n",
    "    \n",
    "* No_of_training is right skewed , the mean is 1.25 > most of the values which are 1.00 \n",
    "* previous_year_rating has a normal distribution , max value is 5 and min value is 1 and mean is 3.3\n",
    "* length of service is right skewed \n",
    "* average_training_Score lies between 40 to 100 , which is good distribution"
   ]
  },
  {
   "cell_type": "markdown",
   "id": "944ab0e9-5957-440f-bb7a-cd9ed7d93d1d",
   "metadata": {},
   "source": [
    "#### Categorical columns"
   ]
  },
  {
   "cell_type": "code",
   "execution_count": 9,
   "id": "d9450989-e0ab-4845-8049-0b3cb2616778",
   "metadata": {},
   "outputs": [
    {
     "data": {
      "text/html": [
       "<div>\n",
       "<style scoped>\n",
       "    .dataframe tbody tr th:only-of-type {\n",
       "        vertical-align: middle;\n",
       "    }\n",
       "\n",
       "    .dataframe tbody tr th {\n",
       "        vertical-align: top;\n",
       "    }\n",
       "\n",
       "    .dataframe thead th {\n",
       "        text-align: right;\n",
       "    }\n",
       "</style>\n",
       "<table border=\"1\" class=\"dataframe\">\n",
       "  <thead>\n",
       "    <tr style=\"text-align: right;\">\n",
       "      <th></th>\n",
       "      <th>department</th>\n",
       "      <th>region</th>\n",
       "      <th>education</th>\n",
       "      <th>gender</th>\n",
       "      <th>recruitment_channel</th>\n",
       "    </tr>\n",
       "  </thead>\n",
       "  <tbody>\n",
       "    <tr>\n",
       "      <th>count</th>\n",
       "      <td>54808</td>\n",
       "      <td>54808</td>\n",
       "      <td>52399</td>\n",
       "      <td>54808</td>\n",
       "      <td>54808</td>\n",
       "    </tr>\n",
       "    <tr>\n",
       "      <th>unique</th>\n",
       "      <td>9</td>\n",
       "      <td>34</td>\n",
       "      <td>3</td>\n",
       "      <td>2</td>\n",
       "      <td>3</td>\n",
       "    </tr>\n",
       "    <tr>\n",
       "      <th>top</th>\n",
       "      <td>Sales &amp; Marketing</td>\n",
       "      <td>region_2</td>\n",
       "      <td>Bachelor's</td>\n",
       "      <td>m</td>\n",
       "      <td>other</td>\n",
       "    </tr>\n",
       "    <tr>\n",
       "      <th>freq</th>\n",
       "      <td>16840</td>\n",
       "      <td>12343</td>\n",
       "      <td>36669</td>\n",
       "      <td>38496</td>\n",
       "      <td>30446</td>\n",
       "    </tr>\n",
       "  </tbody>\n",
       "</table>\n",
       "</div>"
      ],
      "text/plain": [
       "               department    region   education gender recruitment_channel\n",
       "count               54808     54808       52399  54808               54808\n",
       "unique                  9        34           3      2                   3\n",
       "top     Sales & Marketing  region_2  Bachelor's      m               other\n",
       "freq                16840     12343       36669  38496               30446"
      ]
     },
     "execution_count": 9,
     "metadata": {},
     "output_type": "execute_result"
    }
   ],
   "source": [
    "train_df.describe(include='object')"
   ]
  },
  {
   "cell_type": "markdown",
   "id": "c280a612-2c14-42f2-b73a-3db78edcc97c",
   "metadata": {},
   "source": [
    "`Observations`\n",
    "\n",
    "* Sales & Marketing is the department with the highest number employees\n",
    "* Most employees have Bachelors degree\n",
    "* Most employees are Male"
   ]
  },
  {
   "cell_type": "markdown",
   "id": "8397797c-67ac-4f2a-9b61-92d7a359a79b",
   "metadata": {},
   "source": [
    "### Imbalanced Dataset"
   ]
  },
  {
   "cell_type": "code",
   "execution_count": 10,
   "id": "ea1f5414-e0c3-4178-ae95-3d7d5a8ff0c1",
   "metadata": {},
   "outputs": [
    {
     "data": {
      "image/png": "[encoded data removed]",
      "text/plain": [
       "<Figure size 1152x360 with 2 Axes>"
      ]
     },
     "metadata": {
      "needs_background": "light"
     },
     "output_type": "display_data"
    }
   ],
   "source": [
    "\n",
    "plt.subplot(1,2,1)\n",
    "\n",
    "sns.countplot(train_df['is_promoted'])\n",
    "\n",
    "plt.xlabel('Promoted or Not?',fontsize=12)\n",
    "\n",
    "#create subplot\n",
    "plt.subplot(1,2,2)\n",
    "train_df['is_promoted'].value_counts().plot(kind='pie',explode=[0,0.2],\n",
    "                                    autopct='%.2f%%',startangle=90,\n",
    "                                    labels=['Promoted','Not Promoted'],\n",
    "                                    shadow=True,pctdistance=.5)\n",
    "plt.axis('off')\n",
    "\n",
    "plt.suptitle('Target Class Balance',fontsize=15)\n",
    "plt.show()"
   ]
  },
  {
   "cell_type": "markdown",
   "id": "edaac5de-2c91-4cb3-a984-fecd0cbd5cd6",
   "metadata": {},
   "source": [
    "`Observations`\n",
    "* from both the charts above it indicates that our dataset is highly imbalanced. ie there are about 91.5% of employees promoted and this will make our models prediction very inaccurate. so we have to rectify this before performing any predictions on this data."
   ]
  },
  {
   "cell_type": "markdown",
   "id": "280cdb67-f7fd-46fc-ba27-96e8c4c05ebf",
   "metadata": {},
   "source": [
    "## Data Cleaning"
   ]
  },
  {
   "cell_type": "markdown",
   "id": "dbd8ab43-e76a-4128-afc3-10f14797b869",
   "metadata": {},
   "source": [
    "#### `Handling Missing Data`"
   ]
  },
  {
   "cell_type": "code",
   "execution_count": 11,
   "id": "e1e5d418-9b29-4b67-abe1-8e2d3ed3e612",
   "metadata": {},
   "outputs": [],
   "source": [
    "## Percentages of missing values\n",
    "\n",
    "num_missing_vals_train = train_df.isnull().sum()\n",
    "num_missing_vals_test = test_df.isnull().sum()\n",
    "\n",
    "perc_train = (train_df.isnull().sum()/train_df.shape[0])*100\n",
    "\n",
    "perc_test = (test_df.isnull().sum()/test_df.shape[0])*100\n",
    "\n",
    "all_data = {'Train_Total':num_missing_vals_train,'Train_Percent %':perc_train,\n",
    "           'Test_Total':num_missing_vals_test,'Test_Percent %':perc_test}\n",
    "df=pd.DataFrame(all_data)"
   ]
  },
  {
   "cell_type": "code",
   "execution_count": 12,
   "id": "377b430b-c4e8-44f5-ab29-37a90f5282e6",
   "metadata": {},
   "outputs": [],
   "source": [
    "## custom styling of Dataframe\n",
    "def highlight_not_zero(s):\n",
    "    '''\n",
    "    highlight yellow is value is greater than mean else red.\n",
    "    '''\n",
    "    is_max = s > 0\n",
    "    return ['background-color: crimson' if i else 'background-color: white' for i in is_max]"
   ]
  },
  {
   "cell_type": "code",
   "execution_count": 13,
   "id": "84246c57-b97f-4521-8012-d041eb622e13",
   "metadata": {},
   "outputs": [
    {
     "data": {
      "text/html": [
       "<style  type=\"text/css\" >\n",
       "#T_22559_row0_col0,#T_22559_row0_col1,#T_22559_row0_col2,#T_22559_row0_col3,#T_22559_row1_col0,#T_22559_row1_col1,#T_22559_row1_col2,#T_22559_row1_col3,#T_22559_row2_col0,#T_22559_row2_col1,#T_22559_row2_col2,#T_22559_row2_col3,#T_22559_row3_col0,#T_22559_row3_col1,#T_22559_row3_col2,#T_22559_row3_col3,#T_22559_row5_col0,#T_22559_row5_col1,#T_22559_row5_col2,#T_22559_row5_col3,#T_22559_row6_col0,#T_22559_row6_col1,#T_22559_row6_col2,#T_22559_row6_col3,#T_22559_row7_col0,#T_22559_row7_col1,#T_22559_row7_col2,#T_22559_row7_col3,#T_22559_row8_col0,#T_22559_row8_col1,#T_22559_row8_col2,#T_22559_row8_col3,#T_22559_row9_col0,#T_22559_row9_col1,#T_22559_row9_col2,#T_22559_row9_col3,#T_22559_row11_col0,#T_22559_row11_col1,#T_22559_row11_col2,#T_22559_row11_col3,#T_22559_row12_col0,#T_22559_row12_col1,#T_22559_row12_col2,#T_22559_row12_col3{\n",
       "            background-color:  white;\n",
       "        }#T_22559_row4_col0,#T_22559_row4_col1,#T_22559_row4_col2,#T_22559_row4_col3,#T_22559_row10_col0,#T_22559_row10_col1,#T_22559_row10_col2,#T_22559_row10_col3{\n",
       "            background-color:  crimson;\n",
       "        }</style><table id=\"T_22559_\" ><thead>    <tr>        <th class=\"blank level0\" ></th>        <th class=\"col_heading level0 col0\" >Train_Total</th>        <th class=\"col_heading level0 col1\" >Train_Percent %</th>        <th class=\"col_heading level0 col2\" >Test_Total</th>        <th class=\"col_heading level0 col3\" >Test_Percent %</th>    </tr></thead><tbody>\n",
       "                <tr>\n",
       "                        <th id=\"T_22559_level0_row0\" class=\"row_heading level0 row0\" >age</th>\n",
       "                        <td id=\"T_22559_row0_col0\" class=\"data row0 col0\" >0</td>\n",
       "                        <td id=\"T_22559_row0_col1\" class=\"data row0 col1\" >0.000000</td>\n",
       "                        <td id=\"T_22559_row0_col2\" class=\"data row0 col2\" >0.000000</td>\n",
       "                        <td id=\"T_22559_row0_col3\" class=\"data row0 col3\" >0.000000</td>\n",
       "            </tr>\n",
       "            <tr>\n",
       "                        <th id=\"T_22559_level0_row1\" class=\"row_heading level0 row1\" >avg_training_score</th>\n",
       "                        <td id=\"T_22559_row1_col0\" class=\"data row1 col0\" >0</td>\n",
       "                        <td id=\"T_22559_row1_col1\" class=\"data row1 col1\" >0.000000</td>\n",
       "                        <td id=\"T_22559_row1_col2\" class=\"data row1 col2\" >0.000000</td>\n",
       "                        <td id=\"T_22559_row1_col3\" class=\"data row1 col3\" >0.000000</td>\n",
       "            </tr>\n",
       "            <tr>\n",
       "                        <th id=\"T_22559_level0_row2\" class=\"row_heading level0 row2\" >awards_won?</th>\n",
       "                        <td id=\"T_22559_row2_col0\" class=\"data row2 col0\" >0</td>\n",
       "                        <td id=\"T_22559_row2_col1\" class=\"data row2 col1\" >0.000000</td>\n",
       "                        <td id=\"T_22559_row2_col2\" class=\"data row2 col2\" >0.000000</td>\n",
       "                        <td id=\"T_22559_row2_col3\" class=\"data row2 col3\" >0.000000</td>\n",
       "            </tr>\n",
       "            <tr>\n",
       "                        <th id=\"T_22559_level0_row3\" class=\"row_heading level0 row3\" >department</th>\n",
       "                        <td id=\"T_22559_row3_col0\" class=\"data row3 col0\" >0</td>\n",
       "                        <td id=\"T_22559_row3_col1\" class=\"data row3 col1\" >0.000000</td>\n",
       "                        <td id=\"T_22559_row3_col2\" class=\"data row3 col2\" >0.000000</td>\n",
       "                        <td id=\"T_22559_row3_col3\" class=\"data row3 col3\" >0.000000</td>\n",
       "            </tr>\n",
       "            <tr>\n",
       "                        <th id=\"T_22559_level0_row4\" class=\"row_heading level0 row4\" >education</th>\n",
       "                        <td id=\"T_22559_row4_col0\" class=\"data row4 col0\" >2409</td>\n",
       "                        <td id=\"T_22559_row4_col1\" class=\"data row4 col1\" >4.395344</td>\n",
       "                        <td id=\"T_22559_row4_col2\" class=\"data row4 col2\" >1034.000000</td>\n",
       "                        <td id=\"T_22559_row4_col3\" class=\"data row4 col3\" >4.401873</td>\n",
       "            </tr>\n",
       "            <tr>\n",
       "                        <th id=\"T_22559_level0_row5\" class=\"row_heading level0 row5\" >employee_id</th>\n",
       "                        <td id=\"T_22559_row5_col0\" class=\"data row5 col0\" >0</td>\n",
       "                        <td id=\"T_22559_row5_col1\" class=\"data row5 col1\" >0.000000</td>\n",
       "                        <td id=\"T_22559_row5_col2\" class=\"data row5 col2\" >0.000000</td>\n",
       "                        <td id=\"T_22559_row5_col3\" class=\"data row5 col3\" >0.000000</td>\n",
       "            </tr>\n",
       "            <tr>\n",
       "                        <th id=\"T_22559_level0_row6\" class=\"row_heading level0 row6\" >gender</th>\n",
       "                        <td id=\"T_22559_row6_col0\" class=\"data row6 col0\" >0</td>\n",
       "                        <td id=\"T_22559_row6_col1\" class=\"data row6 col1\" >0.000000</td>\n",
       "                        <td id=\"T_22559_row6_col2\" class=\"data row6 col2\" >0.000000</td>\n",
       "                        <td id=\"T_22559_row6_col3\" class=\"data row6 col3\" >0.000000</td>\n",
       "            </tr>\n",
       "            <tr>\n",
       "                        <th id=\"T_22559_level0_row7\" class=\"row_heading level0 row7\" >is_promoted</th>\n",
       "                        <td id=\"T_22559_row7_col0\" class=\"data row7 col0\" >0</td>\n",
       "                        <td id=\"T_22559_row7_col1\" class=\"data row7 col1\" >0.000000</td>\n",
       "                        <td id=\"T_22559_row7_col2\" class=\"data row7 col2\" >nan</td>\n",
       "                        <td id=\"T_22559_row7_col3\" class=\"data row7 col3\" >nan</td>\n",
       "            </tr>\n",
       "            <tr>\n",
       "                        <th id=\"T_22559_level0_row8\" class=\"row_heading level0 row8\" >length_of_service</th>\n",
       "                        <td id=\"T_22559_row8_col0\" class=\"data row8 col0\" >0</td>\n",
       "                        <td id=\"T_22559_row8_col1\" class=\"data row8 col1\" >0.000000</td>\n",
       "                        <td id=\"T_22559_row8_col2\" class=\"data row8 col2\" >0.000000</td>\n",
       "                        <td id=\"T_22559_row8_col3\" class=\"data row8 col3\" >0.000000</td>\n",
       "            </tr>\n",
       "            <tr>\n",
       "                        <th id=\"T_22559_level0_row9\" class=\"row_heading level0 row9\" >no_of_trainings</th>\n",
       "                        <td id=\"T_22559_row9_col0\" class=\"data row9 col0\" >0</td>\n",
       "                        <td id=\"T_22559_row9_col1\" class=\"data row9 col1\" >0.000000</td>\n",
       "                        <td id=\"T_22559_row9_col2\" class=\"data row9 col2\" >0.000000</td>\n",
       "                        <td id=\"T_22559_row9_col3\" class=\"data row9 col3\" >0.000000</td>\n",
       "            </tr>\n",
       "            <tr>\n",
       "                        <th id=\"T_22559_level0_row10\" class=\"row_heading level0 row10\" >previous_year_rating</th>\n",
       "                        <td id=\"T_22559_row10_col0\" class=\"data row10 col0\" >4124</td>\n",
       "                        <td id=\"T_22559_row10_col1\" class=\"data row10 col1\" >7.524449</td>\n",
       "                        <td id=\"T_22559_row10_col2\" class=\"data row10 col2\" >1812.000000</td>\n",
       "                        <td id=\"T_22559_row10_col3\" class=\"data row10 col3\" >7.713921</td>\n",
       "            </tr>\n",
       "            <tr>\n",
       "                        <th id=\"T_22559_level0_row11\" class=\"row_heading level0 row11\" >recruitment_channel</th>\n",
       "                        <td id=\"T_22559_row11_col0\" class=\"data row11 col0\" >0</td>\n",
       "                        <td id=\"T_22559_row11_col1\" class=\"data row11 col1\" >0.000000</td>\n",
       "                        <td id=\"T_22559_row11_col2\" class=\"data row11 col2\" >0.000000</td>\n",
       "                        <td id=\"T_22559_row11_col3\" class=\"data row11 col3\" >0.000000</td>\n",
       "            </tr>\n",
       "            <tr>\n",
       "                        <th id=\"T_22559_level0_row12\" class=\"row_heading level0 row12\" >region</th>\n",
       "                        <td id=\"T_22559_row12_col0\" class=\"data row12 col0\" >0</td>\n",
       "                        <td id=\"T_22559_row12_col1\" class=\"data row12 col1\" >0.000000</td>\n",
       "                        <td id=\"T_22559_row12_col2\" class=\"data row12 col2\" >0.000000</td>\n",
       "                        <td id=\"T_22559_row12_col3\" class=\"data row12 col3\" >0.000000</td>\n",
       "            </tr>\n",
       "    </tbody></table>"
      ],
      "text/plain": [
       "<pandas.io.formats.style.Styler at 0x20749ac6c70>"
      ]
     },
     "execution_count": 13,
     "metadata": {},
     "output_type": "execute_result"
    }
   ],
   "source": [
    "df.style.apply(highlight_not_zero)"
   ]
  },
  {
   "cell_type": "markdown",
   "id": "ecbe9c95-2bb7-4d67-8c5f-9b164169d28e",
   "metadata": {},
   "source": [
    "`Observations`\n",
    "\n",
    "* From the above table only Two(2) columns are missing from the train and test datasets.\n",
    "        * Also the percentage of missing values in education is 4 % \n",
    "        * Percentage of missing vales in previous_year_rating is 7% in both datasets.\n",
    "* Since theres a small percentage of data missing we can simply impute the values using either the mean,\n",
    "mode or median \n"
   ]
  },
  {
   "cell_type": "code",
   "execution_count": 14,
   "id": "a733d557-be99-4dfd-bef8-ec99228d9fe5",
   "metadata": {},
   "outputs": [
    {
     "name": "stdout",
     "output_type": "stream",
     "text": [
      "Number of missing values is Training dataset 0\n"
     ]
    }
   ],
   "source": [
    "### Imputing the missing values\n",
    "\n",
    "train_df['education'] = train_df['education'].fillna(train_df['education'].mode()[0])\n",
    "train_df['previous_year_rating'] = train_df['previous_year_rating'].fillna(train_df['no_of_trainings'].mode()[0])\n",
    "\n",
    "#lets check if theres still any missing data\n",
    "print('Number of missing values is Training dataset',train_df.isnull().sum().sum())"
   ]
  },
  {
   "cell_type": "code",
   "execution_count": 15,
   "id": "ba5147de-03c6-4669-bcd5-9dd7f9a63baf",
   "metadata": {},
   "outputs": [
    {
     "name": "stdout",
     "output_type": "stream",
     "text": [
      "Number of missing values is Test dataset 0\n"
     ]
    }
   ],
   "source": [
    "test_df['education'] = test_df['education'].fillna(test_df['education'].mode()[0])\n",
    "test_df['previous_year_rating'] = test_df['previous_year_rating'].fillna(test_df['no_of_trainings'].mode()[0])\n",
    "\n",
    "#lets check if theres still any missing data\n",
    "print('Number of missing values is Test dataset',train_df.isnull().sum().sum())"
   ]
  },
  {
   "cell_type": "markdown",
   "id": "041e6de2-11b3-4f3a-9e3f-3e2888e42023",
   "metadata": {},
   "source": [
    "#### `Handling Outliers`"
   ]
  },
  {
   "cell_type": "code",
   "execution_count": 16,
   "id": "448734df-3e8d-4449-8374-b86182f3846d",
   "metadata": {},
   "outputs": [
    {
     "data": {
      "text/html": [
       "<div>\n",
       "<style scoped>\n",
       "    .dataframe tbody tr th:only-of-type {\n",
       "        vertical-align: middle;\n",
       "    }\n",
       "\n",
       "    .dataframe tbody tr th {\n",
       "        vertical-align: top;\n",
       "    }\n",
       "\n",
       "    .dataframe thead th {\n",
       "        text-align: right;\n",
       "    }\n",
       "</style>\n",
       "<table border=\"1\" class=\"dataframe\">\n",
       "  <thead>\n",
       "    <tr style=\"text-align: right;\">\n",
       "      <th></th>\n",
       "      <th>employee_id</th>\n",
       "      <th>no_of_trainings</th>\n",
       "      <th>age</th>\n",
       "      <th>previous_year_rating</th>\n",
       "      <th>length_of_service</th>\n",
       "      <th>awards_won?</th>\n",
       "      <th>avg_training_score</th>\n",
       "      <th>is_promoted</th>\n",
       "    </tr>\n",
       "  </thead>\n",
       "  <tbody>\n",
       "    <tr>\n",
       "      <th>0</th>\n",
       "      <td>65438</td>\n",
       "      <td>1</td>\n",
       "      <td>35</td>\n",
       "      <td>5.0</td>\n",
       "      <td>8</td>\n",
       "      <td>0</td>\n",
       "      <td>49</td>\n",
       "      <td>0</td>\n",
       "    </tr>\n",
       "    <tr>\n",
       "      <th>1</th>\n",
       "      <td>65141</td>\n",
       "      <td>1</td>\n",
       "      <td>30</td>\n",
       "      <td>5.0</td>\n",
       "      <td>4</td>\n",
       "      <td>0</td>\n",
       "      <td>60</td>\n",
       "      <td>0</td>\n",
       "    </tr>\n",
       "    <tr>\n",
       "      <th>2</th>\n",
       "      <td>7513</td>\n",
       "      <td>1</td>\n",
       "      <td>34</td>\n",
       "      <td>3.0</td>\n",
       "      <td>7</td>\n",
       "      <td>0</td>\n",
       "      <td>50</td>\n",
       "      <td>0</td>\n",
       "    </tr>\n",
       "    <tr>\n",
       "      <th>3</th>\n",
       "      <td>2542</td>\n",
       "      <td>2</td>\n",
       "      <td>39</td>\n",
       "      <td>1.0</td>\n",
       "      <td>10</td>\n",
       "      <td>0</td>\n",
       "      <td>50</td>\n",
       "      <td>0</td>\n",
       "    </tr>\n",
       "    <tr>\n",
       "      <th>4</th>\n",
       "      <td>48945</td>\n",
       "      <td>1</td>\n",
       "      <td>45</td>\n",
       "      <td>3.0</td>\n",
       "      <td>2</td>\n",
       "      <td>0</td>\n",
       "      <td>73</td>\n",
       "      <td>0</td>\n",
       "    </tr>\n",
       "  </tbody>\n",
       "</table>\n",
       "</div>"
      ],
      "text/plain": [
       "   employee_id  no_of_trainings  age  previous_year_rating  length_of_service  \\\n",
       "0        65438                1   35                   5.0                  8   \n",
       "1        65141                1   30                   5.0                  4   \n",
       "2         7513                1   34                   3.0                  7   \n",
       "3         2542                2   39                   1.0                 10   \n",
       "4        48945                1   45                   3.0                  2   \n",
       "\n",
       "   awards_won?  avg_training_score  is_promoted  \n",
       "0            0                  49            0  \n",
       "1            0                  60            0  \n",
       "2            0                  50            0  \n",
       "3            0                  50            0  \n",
       "4            0                  73            0  "
      ]
     },
     "execution_count": 16,
     "metadata": {},
     "output_type": "execute_result"
    }
   ],
   "source": [
    "## handle outliers in the numerical columns\n",
    "train_df.select_dtypes('number').head()"
   ]
  },
  {
   "cell_type": "markdown",
   "id": "0de11da4-5965-4feb-b2cc-0a1777ad41a2",
   "metadata": {},
   "source": [
    "`Observations`\n",
    "* length of service and avg_training_score can have outliers since most employees:\n",
    "     * Work in a company for 2-5 years max\n",
    "     * Most employees score an average score of 40-60.\n",
    " \n",
    "* So well check for outliers in these 2 columns"
   ]
  },
  {
   "cell_type": "code",
   "execution_count": 17,
   "id": "dc8600ae-025d-4c11-9489-591161f24100",
   "metadata": {},
   "outputs": [
    {
     "data": {
      "image/png": "[encoded data removed]",
      "text/plain": [
       "<Figure size 1152x360 with 2 Axes>"
      ]
     },
     "metadata": {
      "needs_background": "light"
     },
     "output_type": "display_data"
    }
   ],
   "source": [
    "# boxplot for avg_training_score\n",
    "plt.subplot(1,2,1)\n",
    "sns.boxplot(train_df['avg_training_score'],color='crimson')\n",
    "plt.xlabel('Average Training with no Outliers',fontsize=13)\n",
    "plt.ylabel('Range',fontsize=13)\n",
    "\n",
    "# boxplot for length_of_service\n",
    "plt.subplot(1,2,2)\n",
    "sns.boxplot(train_df['length_of_service'],color='crimson')\n",
    "plt.xlabel('Length of Service with Outliers',fontsize=13)\n",
    "plt.ylabel('Range',fontsize=13)\n",
    "\n",
    "plt.suptitle('Checking for Outliers',fontsize=20)\n",
    "plt.show()"
   ]
  },
  {
   "cell_type": "markdown",
   "id": "f1e10aab-b53b-42e2-807c-d18572a6216f",
   "metadata": {},
   "source": [
    "`Observations`\n",
    "* No outiers are found in the average training column\n",
    "* Some outliers found in the lenght of service column"
   ]
  },
  {
   "cell_type": "code",
   "execution_count": 18,
   "id": "79ce2726-8fed-4f60-9c16-a3c5411d8e1a",
   "metadata": {},
   "outputs": [],
   "source": [
    "## Fix the outliers\n",
    "train_df = train_df[train_df['length_of_service']<13]"
   ]
  },
  {
   "cell_type": "code",
   "execution_count": 19,
   "id": "49854591-9a8e-4825-85d3-486cc3bb63dd",
   "metadata": {},
   "outputs": [
    {
     "data": {
      "image/png": "[encoded data removed]",
      "text/plain": [
       "<Figure size 1152x360 with 1 Axes>"
      ]
     },
     "metadata": {
      "needs_background": "light"
     },
     "output_type": "display_data"
    }
   ],
   "source": [
    "## lets check after handling\n",
    "sns.boxplot(train_df['length_of_service'],color='crimson')\n",
    "plt.xlabel('Length of Service',fontsize=13)\n",
    "plt.ylabel('Range',fontsize=13)\n",
    "plt.suptitle('After Handling Outliers',fontsize=20)\n",
    "plt.show()"
   ]
  },
  {
   "cell_type": "markdown",
   "id": "53ac9107-6a09-412c-8c8d-d0d29ae03ac7",
   "metadata": {},
   "source": [
    "## Exploratory Data Analysis\n",
    "* Univariate Analysis\n",
    "* Bivariate Analysis"
   ]
  },
  {
   "cell_type": "markdown",
   "id": "6575968a-f098-42bf-92d9-042ea65c3dd9",
   "metadata": {},
   "source": [
    "### `Univariate Analysis`"
   ]
  },
  {
   "cell_type": "code",
   "execution_count": 20,
   "id": "261cf806-53c5-4a21-ab63-d0c6234fab47",
   "metadata": {},
   "outputs": [
    {
     "data": {
      "text/plain": [
       "3.0    16992\n",
       "5.0    10840\n",
       "1.0     9845\n",
       "4.0     9067\n",
       "2.0     3888\n",
       "Name: previous_year_rating, dtype: int64"
      ]
     },
     "execution_count": 20,
     "metadata": {},
     "output_type": "execute_result"
    }
   ],
   "source": [
    "train_df['previous_year_rating'].value_counts()"
   ]
  },
  {
   "cell_type": "code",
   "execution_count": 21,
   "id": "c0765812-1894-4ddf-bd46-730b9178c70f",
   "metadata": {},
   "outputs": [
    {
     "data": {
      "image/png": "[encoded data removed]",
      "text/plain": [
       "<Figure size 1152x360 with 2 Axes>"
      ]
     },
     "metadata": {},
     "output_type": "display_data"
    }
   ],
   "source": [
    "## plotting pie chart for Previous_year_rating\n",
    "plt.subplot(1,2,1)\n",
    "labels = ['1','2','3','4','5']\n",
    "size = train_df['previous_year_rating'].value_counts()\n",
    "explode = [0,0,0,0,0.1]\n",
    "\n",
    "plt.pie(size,labels=labels,explode=explode,shadow=True,startangle=90)\n",
    "plt.title('Previous year Ratings',fontsize=20);\n",
    "\n",
    "## plotting pie chart for award won?\n",
    "plt.subplot(1,2,2)\n",
    "labels = ['0','1']\n",
    "size = train_df['awards_won?'].value_counts()\n",
    "colors = plt.cm.Wistia(np.linspace(0,1,5))\n",
    "explode = [0,0.1]\n",
    "\n",
    "plt.pie(size,labels=labels,explode=explode,shadow=True,startangle=90)\n",
    "plt.title('Awards Won?',fontsize=20);\n",
    "\n",
    "plt.legend()\n",
    "plt.show()"
   ]
  },
  {
   "cell_type": "markdown",
   "id": "46b70fef-136e-4f5e-bcf4-cb76d23c7303",
   "metadata": {},
   "source": [
    "`Observation`\n",
    "* from the pie charts , we can see that most of the employees have a very low rating\n",
    "and very few employees get awards for their works."
   ]
  },
  {
   "cell_type": "code",
   "execution_count": 22,
   "id": "673ea7f3-486d-4b19-9dcd-41c507c8acf6",
   "metadata": {},
   "outputs": [
    {
     "data": {
      "image/png": "[encoded data removed]",
      "text/plain": [
       "<Figure size 1224x288 with 1 Axes>"
      ]
     },
     "metadata": {
      "needs_background": "light"
     },
     "output_type": "display_data"
    }
   ],
   "source": [
    "## we now check the distribution of 'no_of_training' undertaken by employees\n",
    "plt.rcParams['figure.figsize']=(17,4)\n",
    "sns.countplot(train_df['no_of_trainings'],palette='spring')\n",
    "plt.xlabel('No of trainings ',fontsize=14)\n",
    "plt.title('Distribution of Training undertaken by Employees')\n",
    "plt.show()"
   ]
  },
  {
   "cell_type": "markdown",
   "id": "b7f56fe1-124d-4fa5-ab84-2cb4cd5dc570",
   "metadata": {},
   "source": [
    "`Observations`\n",
    "* We can see from the chart that most employees(about 80%) take one training "
   ]
  },
  {
   "cell_type": "code",
   "execution_count": 23,
   "id": "c2a7ad54-fcd7-43fa-a177-e9e27585b3bf",
   "metadata": {},
   "outputs": [
    {
     "data": {
      "image/png": "[encoded data removed]",
      "text/plain": [
       "<Figure size 576x288 with 1 Axes>"
      ]
     },
     "metadata": {
      "needs_background": "light"
     },
     "output_type": "display_data"
    }
   ],
   "source": [
    "## we check the distribution of Age\n",
    "plt.rcParams['figure.figsize']=(8,4)\n",
    "plt.hist(train_df['age'],color='crimson')\n",
    "plt.title('Distribution of Employee Ages.',fontsize=15)\n",
    "plt.xlabel('Age of Employees')\n",
    "plt.show()"
   ]
  },
  {
   "cell_type": "markdown",
   "id": "1e4ed6c1-417d-4878-8f03-05eaaacb84c5",
   "metadata": {},
   "source": [
    "`Observation`\n",
    "* We can see that majority of employees fall between the ages of 25 to 40 years."
   ]
  },
  {
   "cell_type": "code",
   "execution_count": 24,
   "id": "3da3b511-41b7-4669-9172-651b61c0ab16",
   "metadata": {},
   "outputs": [
    {
     "data": {
      "text/plain": [
       "Index(['Sales & Marketing', 'Operations', 'Technology', 'Procurement',\n",
       "       'Analytics', 'Finance', 'HR', 'Legal', 'R&D'],\n",
       "      dtype='object', name='department')"
      ]
     },
     "execution_count": 24,
     "metadata": {},
     "output_type": "execute_result"
    }
   ],
   "source": [
    "largest_to_small_dep= train_df.groupby('department').size().sort_values().index[::-1]\n",
    "largest_to_small_dep"
   ]
  },
  {
   "cell_type": "code",
   "execution_count": 25,
   "id": "5851cec7-ee20-4ac8-ab9c-eb183359f38a",
   "metadata": {},
   "outputs": [
    {
     "data": {
      "image/png": "[encoded data removed]",
      "text/plain": [
       "<Figure size 936x288 with 1 Axes>"
      ]
     },
     "metadata": {
      "needs_background": "light"
     },
     "output_type": "display_data"
    }
   ],
   "source": [
    "## we check the department column\n",
    "## we now check the distribution of 'no_of_training' undertaken by employees\n",
    "plt.rcParams['figure.figsize']=(13,4)\n",
    "sns.countplot(y=train_df['department'],palette='spring',orient='v',order=largest_to_small_dep)\n",
    "plt.xlabel('Departments ',fontsize=14)\n",
    "plt.title('Distribution of Departments of Employees')\n",
    "plt.show()\n"
   ]
  },
  {
   "cell_type": "markdown",
   "id": "7b36fb74-c0e5-42bf-b9b0-f64ce03297b7",
   "metadata": {},
   "source": [
    "`Observations`\n",
    "* The highest number of employees work in Sales & Marketing \n",
    "* The Lowest number of employees are in R&D and Legal"
   ]
  },
  {
   "cell_type": "code",
   "execution_count": 26,
   "id": "aca054e7-100d-48eb-ade5-6b52f5ac9361",
   "metadata": {},
   "outputs": [
    {
     "data": {
      "text/plain": [
       "Index(['region_2', 'region_22', 'region_7', 'region_15', 'region_13',\n",
       "       'region_26', 'region_31', 'region_27', 'region_4', 'region_16',\n",
       "       'region_28', 'region_11', 'region_23', 'region_29', 'region_32',\n",
       "       'region_20', 'region_19', 'region_25', 'region_14', 'region_5',\n",
       "       'region_17', 'region_6', 'region_8', 'region_30', 'region_10',\n",
       "       'region_1', 'region_24', 'region_12', 'region_9', 'region_21',\n",
       "       'region_3', 'region_34', 'region_33', 'region_18'],\n",
       "      dtype='object', name='region')"
      ]
     },
     "execution_count": 26,
     "metadata": {},
     "output_type": "execute_result"
    }
   ],
   "source": [
    "largest_to_small_reg= train_df.groupby('region').size().sort_values().index[::-1]\n",
    "largest_to_small_reg"
   ]
  },
  {
   "cell_type": "code",
   "execution_count": 27,
   "id": "b07dd92f-cf49-474c-bdce-440b7a1371ba",
   "metadata": {},
   "outputs": [
    {
     "data": {
      "image/png": "[encoded data removed]",
      "text/plain": [
       "<Figure size 792x504 with 1 Axes>"
      ]
     },
     "metadata": {
      "needs_background": "light"
     },
     "output_type": "display_data"
    }
   ],
   "source": [
    "plt.rcParams['figure.figsize']=(11,7)\n",
    "sns.countplot(y=train_df['region'],orient='v',order=largest_to_small_reg)\n",
    "plt.show()"
   ]
  },
  {
   "cell_type": "markdown",
   "id": "878afb49-e09f-484f-8632-e6d961963fac",
   "metadata": {},
   "source": [
    "`Observations`\n",
    "* Most employees are from regions 2 , regions 22 and region 7."
   ]
  },
  {
   "cell_type": "code",
   "execution_count": 28,
   "id": "32195958-e1ab-4ae3-96bd-306b14ed9521",
   "metadata": {},
   "outputs": [
    {
     "name": "stdout",
     "output_type": "stream",
     "text": [
      "<class 'pandas.core.frame.DataFrame'>\n",
      "Int64Index: 50632 entries, 0 to 54807\n",
      "Data columns (total 13 columns):\n",
      " #   Column                Non-Null Count  Dtype  \n",
      "---  ------                --------------  -----  \n",
      " 0   employee_id           50632 non-null  int64  \n",
      " 1   department            50632 non-null  object \n",
      " 2   region                50632 non-null  object \n",
      " 3   education             50632 non-null  object \n",
      " 4   gender                50632 non-null  object \n",
      " 5   recruitment_channel   50632 non-null  object \n",
      " 6   no_of_trainings       50632 non-null  int64  \n",
      " 7   age                   50632 non-null  int64  \n",
      " 8   previous_year_rating  50632 non-null  float64\n",
      " 9   length_of_service     50632 non-null  int64  \n",
      " 10  awards_won?           50632 non-null  int64  \n",
      " 11  avg_training_score    50632 non-null  int64  \n",
      " 12  is_promoted           50632 non-null  int64  \n",
      "dtypes: float64(1), int64(7), object(5)\n",
      "memory usage: 7.4+ MB\n"
     ]
    }
   ],
   "source": [
    "train_df.info()"
   ]
  },
  {
   "cell_type": "code",
   "execution_count": 29,
   "id": "b7714323-21e6-4330-9061-d43f7dc26947",
   "metadata": {},
   "outputs": [
    {
     "data": {
      "text/plain": [
       "Bachelor's          36965\n",
       "Master's & above    12862\n",
       "Below Secondary       805\n",
       "Name: education, dtype: int64"
      ]
     },
     "execution_count": 29,
     "metadata": {},
     "output_type": "execute_result"
    }
   ],
   "source": [
    "train_df['education'].value_counts()"
   ]
  },
  {
   "cell_type": "code",
   "execution_count": 30,
   "id": "ce137905-7f6d-4d22-96f7-451d25f93e3b",
   "metadata": {},
   "outputs": [
    {
     "data": {
      "image/png": "[encoded data removed]",
      "text/plain": [
       "<Figure size 792x504 with 3 Axes>"
      ]
     },
     "metadata": {},
     "output_type": "display_data"
    }
   ],
   "source": [
    "## plot a pie chart for Education\n",
    "plt.subplot(1,3,1)\n",
    "labels = ['Bachelors','Masters','Below Secondary']\n",
    "explode = [0,0,0.1]\n",
    "size= train_df['education'].value_counts()\n",
    "plt.pie(size,explode=explode,labels=labels,startangle=90)\n",
    "plt.title('Education',fontsize=20)\n",
    "\n",
    "## plot a pie chart for gender\n",
    "plt.subplot(1,3,2)\n",
    "labels = ['Male','Female']\n",
    "explode = [0,0.1]\n",
    "size= train_df['gender'].value_counts()\n",
    "plt.pie(size,explode=explode,labels=labels,startangle=90)\n",
    "plt.title('Gender',fontsize=20)\n",
    "\n",
    "\n",
    "## plot a pie chart for recruitment channel\n",
    "plt.subplot(1,3,3)\n",
    "labels = ['Others','Sourcing','Referred']\n",
    "explode = [0,0,0.1]\n",
    "size= train_df['recruitment_channel'].value_counts()\n",
    "plt.pie(size,explode=explode,labels=labels,startangle=90,shadow=True)\n",
    "plt.title('Recruitment Channel',fontsize=20)\n",
    "\n",
    "plt.show()"
   ]
  },
  {
   "cell_type": "markdown",
   "id": "9689095b-6f43-467a-8191-a280d6de8362",
   "metadata": {},
   "source": [
    "`Observations`\n",
    "* About 70 of employee or more have had a Bachelors Degree.\n",
    "* Most employees are males\n",
    "* A small number of employees were reffered"
   ]
  },
  {
   "cell_type": "markdown",
   "id": "1705d34c-e944-45ae-8103-d0ed90a60500",
   "metadata": {},
   "source": [
    "### `Bivariate Analysis`"
   ]
  },
  {
   "cell_type": "code",
   "execution_count": 31,
   "id": "7ca1dc05-7821-47d7-b15e-a4269c78dc3c",
   "metadata": {},
   "outputs": [
    {
     "data": {
      "image/png": "[encoded data removed]",
      "text/plain": [
       "<Figure size 1080x216 with 1 Axes>"
      ]
     },
     "metadata": {
      "needs_background": "light"
     },
     "output_type": "display_data"
    }
   ],
   "source": [
    "## we compare the gender gap in promotion\n",
    "\n",
    "plt.rcParams['figure.figsize'] = (15,3)\n",
    "x =pd.crosstab(train_df['gender'],train_df['is_promoted'])\n",
    "## convert figures to float numbers and plot bar chart row-wise\n",
    "x.div(x.sum(1).astype(float),axis=0).plot(kind='bar',stacked=False)\n",
    "plt.title('Effect of Gender on Promotion',fontsize=15)\n",
    "plt.xticks(rotation=360)\n",
    "plt.xlabel(' ')\n",
    "plt.show()\n"
   ]
  },
  {
   "cell_type": "markdown",
   "id": "cc365242-12f3-458d-b441-d4f7d1c47952",
   "metadata": {},
   "source": [
    "`Observation`\n",
    "* from the chart we can see that there no gender gap in promotion of employees"
   ]
  },
  {
   "cell_type": "code",
   "execution_count": 32,
   "id": "32a09ac8-30bf-4304-ad5d-8dca530f97ce",
   "metadata": {},
   "outputs": [
    {
     "data": {
      "image/png": "[encoded data removed]",
      "text/plain": [
       "<Figure size 1080x288 with 1 Axes>"
      ]
     },
     "metadata": {
      "needs_background": "light"
     },
     "output_type": "display_data"
    }
   ],
   "source": [
    "## we compare the departments in promotion\n",
    "\n",
    "plt.rcParams['figure.figsize'] = (15,4)\n",
    "x =pd.crosstab(train_df['department'],train_df['is_promoted'])\n",
    "## convert figures to float numbers and plot bar chart row-wise\n",
    "x.div(x.sum(1).astype(float),axis=0).plot(kind='area',stacked=False)\n",
    "plt.title('Effect of Department on Promotion',fontsize=15)\n",
    "plt.xticks(rotation=360)\n",
    "plt.xlabel(' ')\n",
    "plt.show()\n"
   ]
  },
  {
   "cell_type": "code",
   "execution_count": 33,
   "id": "4ab0a4b1-5257-42e9-bec8-b8540ec5a30b",
   "metadata": {},
   "outputs": [
    {
     "data": {
      "text/html": [
       "<div>\n",
       "<style scoped>\n",
       "    .dataframe tbody tr th:only-of-type {\n",
       "        vertical-align: middle;\n",
       "    }\n",
       "\n",
       "    .dataframe tbody tr th {\n",
       "        vertical-align: top;\n",
       "    }\n",
       "\n",
       "    .dataframe thead th {\n",
       "        text-align: right;\n",
       "    }\n",
       "</style>\n",
       "<table border=\"1\" class=\"dataframe\">\n",
       "  <thead>\n",
       "    <tr style=\"text-align: right;\">\n",
       "      <th>is_promoted</th>\n",
       "      <th>0</th>\n",
       "      <th>1</th>\n",
       "    </tr>\n",
       "    <tr>\n",
       "      <th>department</th>\n",
       "      <th></th>\n",
       "      <th></th>\n",
       "    </tr>\n",
       "  </thead>\n",
       "  <tbody>\n",
       "    <tr>\n",
       "      <th>Analytics</th>\n",
       "      <td>4687</td>\n",
       "      <td>500</td>\n",
       "    </tr>\n",
       "    <tr>\n",
       "      <th>Finance</th>\n",
       "      <td>2244</td>\n",
       "      <td>203</td>\n",
       "    </tr>\n",
       "    <tr>\n",
       "      <th>HR</th>\n",
       "      <td>2100</td>\n",
       "      <td>126</td>\n",
       "    </tr>\n",
       "    <tr>\n",
       "      <th>Legal</th>\n",
       "      <td>939</td>\n",
       "      <td>49</td>\n",
       "    </tr>\n",
       "    <tr>\n",
       "      <th>Operations</th>\n",
       "      <td>9357</td>\n",
       "      <td>940</td>\n",
       "    </tr>\n",
       "    <tr>\n",
       "      <th>Procurement</th>\n",
       "      <td>5828</td>\n",
       "      <td>635</td>\n",
       "    </tr>\n",
       "    <tr>\n",
       "      <th>R&amp;D</th>\n",
       "      <td>917</td>\n",
       "      <td>68</td>\n",
       "    </tr>\n",
       "    <tr>\n",
       "      <th>Sales &amp; Marketing</th>\n",
       "      <td>14381</td>\n",
       "      <td>1138</td>\n",
       "    </tr>\n",
       "    <tr>\n",
       "      <th>Technology</th>\n",
       "      <td>5799</td>\n",
       "      <td>721</td>\n",
       "    </tr>\n",
       "  </tbody>\n",
       "</table>\n",
       "</div>"
      ],
      "text/plain": [
       "is_promoted            0     1\n",
       "department                    \n",
       "Analytics           4687   500\n",
       "Finance             2244   203\n",
       "HR                  2100   126\n",
       "Legal                939    49\n",
       "Operations          9357   940\n",
       "Procurement         5828   635\n",
       "R&D                  917    68\n",
       "Sales & Marketing  14381  1138\n",
       "Technology          5799   721"
      ]
     },
     "execution_count": 33,
     "metadata": {},
     "output_type": "execute_result"
    }
   ],
   "source": [
    "pd.crosstab(train_df['department'],train_df['is_promoted'])"
   ]
  },
  {
   "cell_type": "markdown",
   "id": "3af32f04-d25a-429d-b2e1-57a7e0033589",
   "metadata": {},
   "source": [
    "`Observations`\n",
    "* from the area graph we can conclude that employees from departments such as ; Analytics , Operations, Procurement\n",
    "and Technology get promoted most."
   ]
  },
  {
   "cell_type": "code",
   "execution_count": 34,
   "id": "6e4c7a8d-3bf7-43ba-8f0e-1c7fd53e3a2c",
   "metadata": {},
   "outputs": [
    {
     "data": {
      "image/png": "[encoded data removed]",
      "text/plain": [
       "<Figure size 1080x288 with 1 Axes>"
      ]
     },
     "metadata": {
      "needs_background": "light"
     },
     "output_type": "display_data"
    }
   ],
   "source": [
    "## Effects of age on promotion\n",
    "plt.rcParams['figure.figsize'] = (15,4)\n",
    "sns.boxenplot(train_df['is_promoted'],train_df['age'],palette='PuRd')\n",
    "plt.title('Effects of Age on Promotion',fontsize=15)\n",
    "plt.xlabel('Is the employee promoted?',fontsize=10)\n",
    "plt.ylabel('Age of Employee',fontsize=10)\n",
    "plt.show()"
   ]
  },
  {
   "cell_type": "markdown",
   "id": "42fef108-5c05-4df3-971b-292f729c9e03",
   "metadata": {},
   "source": [
    "`Observations`\n",
    "* We can see from the plot above that most employees who get promoted or not are in the 30 to 40 years range."
   ]
  },
  {
   "cell_type": "code",
   "execution_count": 35,
   "id": "71164c8b-d5c1-4d92-aa84-37dd11b022ac",
   "metadata": {},
   "outputs": [
    {
     "data": {
      "image/png": "[encoded data removed]",
      "text/plain": [
       "<Figure size 1152x504 with 1 Axes>"
      ]
     },
     "metadata": {
      "needs_background": "light"
     },
     "output_type": "display_data"
    }
   ],
   "source": [
    "## Department vs Average Training score\n",
    "\n",
    "plt.rcParams['figure.figsize']=(16,7)\n",
    "sns.boxplot(train_df['department'],train_df['avg_training_score'],palette='PuRd')\n",
    "plt.title('Average Training Scores in each Department',fontsize=15)\n",
    "plt.ylabel('Promoted or not',fontsize=10)\n",
    "plt.xlabel('Departments',fontsize=10)\n",
    "plt.show()"
   ]
  },
  {
   "cell_type": "markdown",
   "id": "d24534f1-ad71-4ea1-9f57-efedcb1bc78e",
   "metadata": {},
   "source": [
    "`Observations`\n",
    "* Most employees from (Technology, Analytics and R&D departments have an average score of atleast 80.\n",
    "* Sales & Marketing and HR department have employees with the lowest scores."
   ]
  },
  {
   "cell_type": "code",
   "execution_count": 36,
   "id": "d080476d-dd8c-4749-b2f2-1fea8d84df2e",
   "metadata": {},
   "outputs": [
    {
     "data": {
      "image/png": "[encoded data removed]",
      "text/plain": [
       "<Figure size 1080x288 with 1 Axes>"
      ]
     },
     "metadata": {
      "needs_background": "light"
     },
     "output_type": "display_data"
    }
   ],
   "source": [
    "## gender vrs average score\n",
    "plt.rcParams['figure.figsize'] = (15,4)\n",
    "sns.boxenplot(train_df['gender'],train_df['avg_training_score'],palette='PuRd')\n",
    "plt.title('Average training scores in Gender',fontsize=15)\n",
    "plt.xlabel('Gender',fontsize=10)\n",
    "plt.ylabel('Average Training scores',fontsize=10)\n",
    "plt.show()"
   ]
  },
  {
   "cell_type": "markdown",
   "id": "bce9896e-e12a-44a0-ac2f-0e80748e3084",
   "metadata": {},
   "source": [
    "`Observations`\n",
    "* Most females have an average training score of 50 - 72 \n",
    "* Most Males have an average training score of 50-75"
   ]
  },
  {
   "cell_type": "code",
   "execution_count": 37,
   "id": "25d02674-b6c4-4986-8ae5-b65272810eb4",
   "metadata": {},
   "outputs": [
    {
     "data": {
      "image/png": "[encoded data removed]",
      "text/plain": [
       "<Figure size 1080x288 with 1 Axes>"
      ]
     },
     "metadata": {
      "needs_background": "light"
     },
     "output_type": "display_data"
    }
   ],
   "source": [
    "## we compare the education in promotion\n",
    "\n",
    "plt.rcParams['figure.figsize'] = (15,4)\n",
    "x =pd.crosstab(train_df['education'],train_df['is_promoted'])\n",
    "## convert figures to float numbers and plot bar chart row-wise\n",
    "x.div(x.sum(1).astype(float),axis=0).plot(kind='bar',stacked=False)\n",
    "plt.title('Effect of Education on Promotion',fontsize=15)\n",
    "plt.xticks(rotation=45)\n",
    "plt.xlabel(' ')\n",
    "plt.show()"
   ]
  },
  {
   "cell_type": "markdown",
   "id": "82c320e3-0803-46a5-92c0-8b75e3434eca",
   "metadata": {},
   "source": [
    "`Observation` \n",
    "* From the graph/chart Education does not influence promotion in any way"
   ]
  },
  {
   "cell_type": "code",
   "execution_count": 38,
   "id": "f82bd4c7-ff1b-462a-b8e7-bf9169d61e50",
   "metadata": {},
   "outputs": [
    {
     "data": {
      "image/png": "[encoded data removed]",
      "text/plain": [
       "<Figure size 1080x360 with 1 Axes>"
      ]
     },
     "metadata": {
      "needs_background": "light"
     },
     "output_type": "display_data"
    }
   ],
   "source": [
    "## we compare the number_training in promotion\n",
    "\n",
    "plt.rcParams['figure.figsize'] = (15,5)\n",
    "x =pd.crosstab(train_df['no_of_trainings'],train_df['is_promoted'])\n",
    "## convert figures to float numbers and plot bar chart row-wise\n",
    "x.div(x.sum(1).astype(float),axis=0).plot(kind='area',stacked=False)\n",
    "plt.title('Effect of Number of training on Promotion',fontsize=15)\n",
    "plt.xlabel(' ')\n",
    "plt.show()"
   ]
  },
  {
   "cell_type": "markdown",
   "id": "a75218ac-a777-4b36-8d84-8cd2901be03f",
   "metadata": {},
   "source": [
    "`Observation`\n",
    "* From the graph we can deducde that; as the number of training increases the lower the chances of getting promoted."
   ]
  },
  {
   "cell_type": "markdown",
   "id": "a3cc04cc-595d-449c-b840-e1c2e0a5058b",
   "metadata": {},
   "source": [
    "### `Multivariate Analysis`"
   ]
  },
  {
   "cell_type": "code",
   "execution_count": 39,
   "id": "de6f7cbf-c8e9-4bca-a85c-26b50f259d45",
   "metadata": {},
   "outputs": [
    {
     "data": {
      "image/png": "[encoded data removed]",
      "text/plain": [
       "<Figure size 1080x576 with 2 Axes>"
      ]
     },
     "metadata": {
      "needs_background": "light"
     },
     "output_type": "display_data"
    }
   ],
   "source": [
    "## We check the heatmap for the Data with respect to correlaton\n",
    "plt.rcParams['figure.figsize']=(15,8)\n",
    "sns.heatmap(train_df.corr(),annot=True,linewidths=.5,cmap='coolwarm')\n",
    "plt.title('Correlation Heat Map',fontsize=15)\n",
    "plt.show()"
   ]
  },
  {
   "cell_type": "markdown",
   "id": "e3caf7fd-f0a3-4e96-b78a-ee158a34ea97",
   "metadata": {},
   "source": [
    "`Observations`\n",
    "* Age and length of service are moderately correlated"
   ]
  },
  {
   "cell_type": "code",
   "execution_count": 40,
   "id": "71d90d82-0325-4f75-a0b0-3feec8f41fe4",
   "metadata": {},
   "outputs": [
    {
     "data": {
      "image/png": "[encoded data removed]",
      "text/plain": [
       "<Figure size 1152x504 with 1 Axes>"
      ]
     },
     "metadata": {
      "needs_background": "light"
     },
     "output_type": "display_data"
    }
   ],
   "source": [
    "## We check the relation of Departments and average_training and whether they are male or female?\n",
    "\n",
    "plt.rcParams['figure.figsize']=(16,7)\n",
    "sns.barplot(train_df['department'],train_df['avg_training_score'],hue=train_df['is_promoted'],palette='flare');\n",
    "plt.title('Chances of Promotion in each Deapartment based on their Average Training',fontsize=15)\n",
    "plt.show()"
   ]
  },
  {
   "cell_type": "markdown",
   "id": "101ce265-913c-4b7c-b887-04e1eb29f40d",
   "metadata": {},
   "source": [
    "`Observations`\n",
    "* In Sales & Marketing , chances of you getting promoted when you have an average training score\n",
    "of greater than 50 is pretty high.\n",
    "* In Operations , chances of you getting promoted when you have an average training score\n",
    "of greater than 60 is moderately high.\n",
    "* But for Technology , Analytics and R&D departments, there are no clear cut average training score that gets you promoted."
   ]
  },
  {
   "cell_type": "markdown",
   "id": "187865d8-7c96-4a34-9e42-e20c76ae13a6",
   "metadata": {},
   "source": [
    "## Feature Engineering"
   ]
  },
  {
   "cell_type": "code",
   "execution_count": 41,
   "id": "6479bf3f-a619-469a-a778-c9bc703bb19a",
   "metadata": {},
   "outputs": [],
   "source": [
    "## we create new features from existing\n",
    "\n",
    "#sum metric column\n",
    "train_df['sum_metric'] = train_df['awards_won?']+train_df['previous_year_rating']\n",
    "test_df['sum_metric'] = test_df['awards_won?']+test_df['previous_year_rating']\n",
    "\n",
    "# total score column\n",
    "train_df['total_score'] = train_df['avg_training_score']*train_df['no_of_trainings']\n",
    "test_df['total_score'] = test_df['avg_training_score']*test_df['no_of_trainings']"
   ]
  },
  {
   "cell_type": "code",
   "execution_count": 42,
   "id": "5f63d6db-6a6a-4dc2-af5a-ce0286644168",
   "metadata": {},
   "outputs": [],
   "source": [
    "## We remove some of the columns which are not useful for the promotion prediction\n",
    "\n",
    "# The Recruittment channel is the least related to the promotion of an employee\n",
    "# region contributes to less when it comes to employee promotion\n",
    "# Employee Id columns too\n",
    "\n",
    "\n",
    "train_df = train_df.drop(['recruitment_channel','region','employee_id'],axis=1)\n",
    "test_df = test_df.drop(['recruitment_channel','region','employee_id'],axis=1)"
   ]
  },
  {
   "cell_type": "code",
   "execution_count": 43,
   "id": "80d0fe97-85f5-42b4-9cae-0e16556a3ccf",
   "metadata": {},
   "outputs": [
    {
     "data": {
      "text/plain": [
       "Index(['department', 'education', 'gender', 'no_of_trainings', 'age',\n",
       "       'previous_year_rating', 'length_of_service', 'awards_won?',\n",
       "       'avg_training_score', 'is_promoted', 'sum_metric', 'total_score'],\n",
       "      dtype='object')"
      ]
     },
     "execution_count": 43,
     "metadata": {},
     "output_type": "execute_result"
    }
   ],
   "source": [
    "train_df.columns"
   ]
  },
  {
   "cell_type": "markdown",
   "id": "10ebd85a-63a9-4282-bb02-d154958165d4",
   "metadata": {},
   "source": [
    "#### `Categorical Encoding`"
   ]
  },
  {
   "cell_type": "code",
   "execution_count": 44,
   "id": "8bcbb629-d469-427d-91af-0f2c2657e25f",
   "metadata": {},
   "outputs": [
    {
     "data": {
      "text/html": [
       "<div>\n",
       "<style scoped>\n",
       "    .dataframe tbody tr th:only-of-type {\n",
       "        vertical-align: middle;\n",
       "    }\n",
       "\n",
       "    .dataframe tbody tr th {\n",
       "        vertical-align: top;\n",
       "    }\n",
       "\n",
       "    .dataframe thead th {\n",
       "        text-align: right;\n",
       "    }\n",
       "</style>\n",
       "<table border=\"1\" class=\"dataframe\">\n",
       "  <thead>\n",
       "    <tr style=\"text-align: right;\">\n",
       "      <th></th>\n",
       "      <th>department</th>\n",
       "      <th>education</th>\n",
       "      <th>gender</th>\n",
       "    </tr>\n",
       "  </thead>\n",
       "  <tbody>\n",
       "    <tr>\n",
       "      <th>0</th>\n",
       "      <td>Sales &amp; Marketing</td>\n",
       "      <td>Master's &amp; above</td>\n",
       "      <td>f</td>\n",
       "    </tr>\n",
       "    <tr>\n",
       "      <th>1</th>\n",
       "      <td>Operations</td>\n",
       "      <td>Bachelor's</td>\n",
       "      <td>m</td>\n",
       "    </tr>\n",
       "    <tr>\n",
       "      <th>2</th>\n",
       "      <td>Sales &amp; Marketing</td>\n",
       "      <td>Bachelor's</td>\n",
       "      <td>m</td>\n",
       "    </tr>\n",
       "    <tr>\n",
       "      <th>3</th>\n",
       "      <td>Sales &amp; Marketing</td>\n",
       "      <td>Bachelor's</td>\n",
       "      <td>m</td>\n",
       "    </tr>\n",
       "    <tr>\n",
       "      <th>4</th>\n",
       "      <td>Technology</td>\n",
       "      <td>Bachelor's</td>\n",
       "      <td>m</td>\n",
       "    </tr>\n",
       "    <tr>\n",
       "      <th>...</th>\n",
       "      <td>...</td>\n",
       "      <td>...</td>\n",
       "      <td>...</td>\n",
       "    </tr>\n",
       "    <tr>\n",
       "      <th>54802</th>\n",
       "      <td>Sales &amp; Marketing</td>\n",
       "      <td>Bachelor's</td>\n",
       "      <td>m</td>\n",
       "    </tr>\n",
       "    <tr>\n",
       "      <th>54804</th>\n",
       "      <td>Operations</td>\n",
       "      <td>Master's &amp; above</td>\n",
       "      <td>f</td>\n",
       "    </tr>\n",
       "    <tr>\n",
       "      <th>54805</th>\n",
       "      <td>Analytics</td>\n",
       "      <td>Bachelor's</td>\n",
       "      <td>m</td>\n",
       "    </tr>\n",
       "    <tr>\n",
       "      <th>54806</th>\n",
       "      <td>Sales &amp; Marketing</td>\n",
       "      <td>Bachelor's</td>\n",
       "      <td>m</td>\n",
       "    </tr>\n",
       "    <tr>\n",
       "      <th>54807</th>\n",
       "      <td>HR</td>\n",
       "      <td>Bachelor's</td>\n",
       "      <td>m</td>\n",
       "    </tr>\n",
       "  </tbody>\n",
       "</table>\n",
       "<p>50632 rows × 3 columns</p>\n",
       "</div>"
      ],
      "text/plain": [
       "              department         education gender\n",
       "0      Sales & Marketing  Master's & above      f\n",
       "1             Operations        Bachelor's      m\n",
       "2      Sales & Marketing        Bachelor's      m\n",
       "3      Sales & Marketing        Bachelor's      m\n",
       "4             Technology        Bachelor's      m\n",
       "...                  ...               ...    ...\n",
       "54802  Sales & Marketing        Bachelor's      m\n",
       "54804         Operations  Master's & above      f\n",
       "54805          Analytics        Bachelor's      m\n",
       "54806  Sales & Marketing        Bachelor's      m\n",
       "54807                 HR        Bachelor's      m\n",
       "\n",
       "[50632 rows x 3 columns]"
      ]
     },
     "execution_count": 44,
     "metadata": {},
     "output_type": "execute_result"
    }
   ],
   "source": [
    "# check columns with object dtypes\n",
    "train_df.select_dtypes('object')"
   ]
  },
  {
   "cell_type": "markdown",
   "id": "c56206ef-a788-4136-b9c4-cd4392263e3f",
   "metadata": {},
   "source": [
    "`Observation`\n",
    "* There 3 categorical columns we need to encode (Department,Education and Gender)"
   ]
  },
  {
   "cell_type": "code",
   "execution_count": 45,
   "id": "08cd8674-5e98-484c-be18-a333a2c4f5bc",
   "metadata": {},
   "outputs": [
    {
     "data": {
      "text/plain": [
       "Sales & Marketing    15519\n",
       "Operations           10297\n",
       "Technology            6520\n",
       "Procurement           6463\n",
       "Analytics             5187\n",
       "Finance               2447\n",
       "HR                    2226\n",
       "Legal                  988\n",
       "R&D                    985\n",
       "Name: department, dtype: int64"
      ]
     },
     "execution_count": 45,
     "metadata": {},
     "output_type": "execute_result"
    }
   ],
   "source": [
    "train_df['department'].value_counts()"
   ]
  },
  {
   "cell_type": "code",
   "execution_count": 46,
   "id": "3f4ad67e-504f-4ebd-80e1-1a28dd2b4b0f",
   "metadata": {},
   "outputs": [],
   "source": [
    "## Using label encoder for department columns\n",
    "\n",
    "#initilaize labelEncoder\n",
    "le = LabelEncoder()\n",
    "\n",
    "#trasforming the column\n",
    "train_df['department'] = le.fit_transform(train_df['department'])\n",
    "test_df['department'] = le.fit_transform(test_df['department'])"
   ]
  },
  {
   "cell_type": "code",
   "execution_count": 47,
   "id": "4d936165-e30d-4bfb-88a2-baf2435c0d9f",
   "metadata": {},
   "outputs": [],
   "source": [
    "## encoding the gender column\n",
    "train_df['gender'] = le.fit_transform(train_df['gender'])\n",
    "test_df['gender'] = le.fit_transform(test_df['gender'])"
   ]
  },
  {
   "cell_type": "markdown",
   "id": "3a3ec49f-6769-4231-8a31-a816ccdd6542",
   "metadata": {},
   "source": [
    "`Observation`\n",
    "* The education columns , there is an order from Below secondary to Masters\n",
    "* We going to use Ordinal Encoding."
   ]
  },
  {
   "cell_type": "code",
   "execution_count": 48,
   "id": "08aaa937-7184-467f-bf22-2d952bf9a1f2",
   "metadata": {},
   "outputs": [],
   "source": [
    "## Ordinal encoding the education column (Since the )\n",
    "\n",
    "\n",
    "train_df['education'] = train_df['education'].replace((\"Master's & above\",\"Bachelor's\",\"Below Secondary\"),\n",
    "                                                     (3,2,1))\n",
    "test_df['education']  = test_df['education'].replace((\"Master's & above\",\"Bachelor's\",\"Below Secondary\"),\n",
    "                                                     (3,2,1))"
   ]
  },
  {
   "cell_type": "code",
   "execution_count": 49,
   "id": "2dc2ecde-48b5-4f45-a80e-456b0c7eaaa1",
   "metadata": {},
   "outputs": [
    {
     "data": {
      "text/html": [
       "<div>\n",
       "<style scoped>\n",
       "    .dataframe tbody tr th:only-of-type {\n",
       "        vertical-align: middle;\n",
       "    }\n",
       "\n",
       "    .dataframe tbody tr th {\n",
       "        vertical-align: top;\n",
       "    }\n",
       "\n",
       "    .dataframe thead th {\n",
       "        text-align: right;\n",
       "    }\n",
       "</style>\n",
       "<table border=\"1\" class=\"dataframe\">\n",
       "  <thead>\n",
       "    <tr style=\"text-align: right;\">\n",
       "      <th></th>\n",
       "      <th>department</th>\n",
       "      <th>education</th>\n",
       "      <th>gender</th>\n",
       "      <th>no_of_trainings</th>\n",
       "      <th>age</th>\n",
       "      <th>previous_year_rating</th>\n",
       "      <th>length_of_service</th>\n",
       "      <th>awards_won?</th>\n",
       "      <th>avg_training_score</th>\n",
       "      <th>is_promoted</th>\n",
       "      <th>sum_metric</th>\n",
       "      <th>total_score</th>\n",
       "    </tr>\n",
       "  </thead>\n",
       "  <tbody>\n",
       "    <tr>\n",
       "      <th>0</th>\n",
       "      <td>7</td>\n",
       "      <td>3</td>\n",
       "      <td>0</td>\n",
       "      <td>1</td>\n",
       "      <td>35</td>\n",
       "      <td>5.0</td>\n",
       "      <td>8</td>\n",
       "      <td>0</td>\n",
       "      <td>49</td>\n",
       "      <td>0</td>\n",
       "      <td>5.0</td>\n",
       "      <td>49</td>\n",
       "    </tr>\n",
       "    <tr>\n",
       "      <th>1</th>\n",
       "      <td>4</td>\n",
       "      <td>2</td>\n",
       "      <td>1</td>\n",
       "      <td>1</td>\n",
       "      <td>30</td>\n",
       "      <td>5.0</td>\n",
       "      <td>4</td>\n",
       "      <td>0</td>\n",
       "      <td>60</td>\n",
       "      <td>0</td>\n",
       "      <td>5.0</td>\n",
       "      <td>60</td>\n",
       "    </tr>\n",
       "    <tr>\n",
       "      <th>2</th>\n",
       "      <td>7</td>\n",
       "      <td>2</td>\n",
       "      <td>1</td>\n",
       "      <td>1</td>\n",
       "      <td>34</td>\n",
       "      <td>3.0</td>\n",
       "      <td>7</td>\n",
       "      <td>0</td>\n",
       "      <td>50</td>\n",
       "      <td>0</td>\n",
       "      <td>3.0</td>\n",
       "      <td>50</td>\n",
       "    </tr>\n",
       "    <tr>\n",
       "      <th>3</th>\n",
       "      <td>7</td>\n",
       "      <td>2</td>\n",
       "      <td>1</td>\n",
       "      <td>2</td>\n",
       "      <td>39</td>\n",
       "      <td>1.0</td>\n",
       "      <td>10</td>\n",
       "      <td>0</td>\n",
       "      <td>50</td>\n",
       "      <td>0</td>\n",
       "      <td>1.0</td>\n",
       "      <td>100</td>\n",
       "    </tr>\n",
       "    <tr>\n",
       "      <th>4</th>\n",
       "      <td>8</td>\n",
       "      <td>2</td>\n",
       "      <td>1</td>\n",
       "      <td>1</td>\n",
       "      <td>45</td>\n",
       "      <td>3.0</td>\n",
       "      <td>2</td>\n",
       "      <td>0</td>\n",
       "      <td>73</td>\n",
       "      <td>0</td>\n",
       "      <td>3.0</td>\n",
       "      <td>73</td>\n",
       "    </tr>\n",
       "  </tbody>\n",
       "</table>\n",
       "</div>"
      ],
      "text/plain": [
       "   department  education  gender  no_of_trainings  age  previous_year_rating  \\\n",
       "0           7          3       0                1   35                   5.0   \n",
       "1           4          2       1                1   30                   5.0   \n",
       "2           7          2       1                1   34                   3.0   \n",
       "3           7          2       1                2   39                   1.0   \n",
       "4           8          2       1                1   45                   3.0   \n",
       "\n",
       "   length_of_service  awards_won?  avg_training_score  is_promoted  \\\n",
       "0                  8            0                  49            0   \n",
       "1                  4            0                  60            0   \n",
       "2                  7            0                  50            0   \n",
       "3                 10            0                  50            0   \n",
       "4                  2            0                  73            0   \n",
       "\n",
       "   sum_metric  total_score  \n",
       "0         5.0           49  \n",
       "1         5.0           60  \n",
       "2         3.0           50  \n",
       "3         1.0          100  \n",
       "4         3.0           73  "
      ]
     },
     "execution_count": 49,
     "metadata": {},
     "output_type": "execute_result"
    }
   ],
   "source": [
    "# we check to see if everything came out as expected\n",
    "train_df.head()"
   ]
  },
  {
   "cell_type": "markdown",
   "id": "aae3b025-c9c5-422c-a29a-6a117431ad53",
   "metadata": {},
   "source": [
    "`Observations`\n",
    "* All categorical data has been succufully encoded."
   ]
  },
  {
   "cell_type": "markdown",
   "id": "a4c6cad5-91d6-45b3-9a9f-03a08c655824",
   "metadata": {},
   "source": [
    "## Data Processing "
   ]
  },
  {
   "cell_type": "code",
   "execution_count": 50,
   "id": "ed1f2a2c-e12a-42d5-8c28-0c6ba06f0b70",
   "metadata": {},
   "outputs": [
    {
     "name": "stdout",
     "output_type": "stream",
     "text": [
      "Shape of x (50632, 11)\n",
      "Shape of y (50632,)\n",
      "Shape of x_test (23490, 11)\n"
     ]
    }
   ],
   "source": [
    "## Split the data \n",
    "y = train_df['is_promoted']\n",
    "x = train_df.drop(['is_promoted'],axis=1)\n",
    "x_test = test_df\n",
    "\n",
    "#shapes of new datasets\n",
    "print('Shape of x',x.shape)\n",
    "print('Shape of y',y.shape)\n",
    "print('Shape of x_test',x_test.shape)\n"
   ]
  },
  {
   "cell_type": "markdown",
   "id": "4a57bbd8-cb77-411b-8672-5ee4a2e12af6",
   "metadata": {},
   "source": [
    "### `Resampling`\n",
    "From the target column we noticed the dataset was highly imbalanced , so we need to perform\n",
    "resampling using the Imblearn libraries(SMOTE Algorithm)"
   ]
  },
  {
   "cell_type": "code",
   "execution_count": 51,
   "id": "07bab503-1be7-4e58-b758-a5c21c92ff3f",
   "metadata": {},
   "outputs": [
    {
     "name": "stdout",
     "output_type": "stream",
     "text": [
      "Shape of x_resampled (92504, 11)\n",
      "Shape of y_resampled (92504,)\n"
     ]
    }
   ],
   "source": [
    "x_resample,y_resample = SMOTE().fit_resample(x,y.values.ravel())\n",
    "\n",
    "## lets check the shapes\n",
    "print('Shape of x_resampled',x_resample.shape)\n",
    "print('Shape of y_resampled',y_resample.shape)"
   ]
  },
  {
   "cell_type": "code",
   "execution_count": 52,
   "id": "b8cefce3-f2c1-43e8-a119-17708a8fc7a3",
   "metadata": {},
   "outputs": [
    {
     "name": "stdout",
     "output_type": "stream",
     "text": [
      "Before Resampling....\n",
      "0    46252\n",
      "1     4380\n",
      "Name: is_promoted, dtype: int64\n",
      "After resampling......\n",
      "0    46252\n",
      "1    46252\n",
      "dtype: int64\n"
     ]
    }
   ],
   "source": [
    "print('Before Resampling....')\n",
    "print(y.value_counts())\n",
    "\n",
    "print('After resampling......')\n",
    "print(pd.DataFrame(y_resample).value_counts())"
   ]
  },
  {
   "cell_type": "markdown",
   "id": "de663b56-3bbd-4836-9f3d-747f64f3a3f1",
   "metadata": {},
   "source": [
    "`Observations`\n",
    "* Now both classes are balanced."
   ]
  },
  {
   "cell_type": "code",
   "execution_count": 53,
   "id": "5a3057f7-22c8-4f26-9c5c-642d13bb038b",
   "metadata": {},
   "outputs": [
    {
     "name": "stdout",
     "output_type": "stream",
     "text": [
      "Shape of x_train (64752, 11)\n",
      "Shape of y_train (64752,)\n",
      "Shape of x_valid (27752, 11)\n",
      "Shape of y_valid (27752,)\n"
     ]
    }
   ],
   "source": [
    "## Lets Split data into validation and train data\n",
    "\n",
    "X_train,X_valid,y_train,y_valid = train_test_split(x_resample,y_resample,test_size=0.3)\n",
    "\n",
    "print('Shape of x_train',X_train.shape)\n",
    "print('Shape of y_train',y_train.shape)\n",
    "print('Shape of x_valid',X_valid.shape)\n",
    "print('Shape of y_valid',y_valid.shape)"
   ]
  },
  {
   "cell_type": "markdown",
   "id": "bd1bff25-18bb-4983-90a5-68e3bda77778",
   "metadata": {},
   "source": [
    "### `Feature Scaling`"
   ]
  },
  {
   "cell_type": "code",
   "execution_count": 54,
   "id": "8095d646-483c-46eb-a74b-4774ef9ed209",
   "metadata": {},
   "outputs": [],
   "source": [
    "## Using the StandardScaler to scale data\n",
    "\n",
    "sc = StandardScaler()\n",
    "\n",
    "X_train = sc.fit_transform(X_train)\n",
    "X_valid = sc.transform(X_valid)\n",
    "x_test = sc.transform(x_test)"
   ]
  },
  {
   "cell_type": "markdown",
   "id": "41259d81-e261-4116-b8e4-b5c73cc4268c",
   "metadata": {},
   "source": [
    "`Note` \n",
    "* We cannot use the fit_transform() on either the validation or test data because we dont want the model to find patterns in those datasets so we just fit on the train dataset and transform validation and test datasets."
   ]
  },
  {
   "cell_type": "markdown",
   "id": "54c2494d-df50-44cd-a641-96a2e6878300",
   "metadata": {},
   "source": [
    "## Predictive Modeling\n",
    "\n",
    "`Models Used:`\n",
    "* Decision Trees\n",
    "* Random Forest \n",
    "* Support Vector Machine\n",
    "* Logistic Regression"
   ]
  },
  {
   "cell_type": "markdown",
   "id": "b0ff63e5-8cc9-48ba-9719-a9297dc21505",
   "metadata": {},
   "source": [
    "### `Decision Tree`"
   ]
  },
  {
   "cell_type": "code",
   "execution_count": 55,
   "id": "9591e9a1-855e-4ffe-9189-6622a0c82abb",
   "metadata": {},
   "outputs": [
    {
     "data": {
      "text/plain": [
       "DecisionTreeClassifier()"
      ]
     },
     "execution_count": 55,
     "metadata": {},
     "output_type": "execute_result"
    }
   ],
   "source": [
    "## Decision Trees\n",
    "dt = DecisionTreeClassifier()\n",
    "dt.fit(X_train,y_train)"
   ]
  },
  {
   "cell_type": "code",
   "execution_count": 66,
   "id": "344ffab7-ca52-4b18-a881-51cc2521b8d4",
   "metadata": {},
   "outputs": [],
   "source": [
    "accuracy_score = {}\n",
    "def display_ev(model,name):\n",
    "    # evaluating the decision tree\n",
    "    accuracy_score[name] =math.ceil(model.score(X_valid,y_valid)*100)\n",
    "    print('Training Accuracy:',math.ceil(model.score(X_train,y_train)*100))\n",
    "    print('Validation Accuracy:',math.ceil(model.score(X_valid,y_valid)*100))\n",
    "\n",
    "    y_pred = model.predict(X_valid)\n",
    "    #confusion matrix on validation set\n",
    "    cm = confusion_matrix(y_valid,y_pred)\n",
    "    plt.rcParams['figure.figsize']=(4,4)\n",
    "    sns.heatmap(cm,annot=True,cmap='coolwarm',fmt='.8g')\n",
    "    plt.xlabel('Predicted Values')\n",
    "    plt.ylabel('Actual Values')\n",
    "    plt.show()\n",
    "    \n",
    "    cr = classification_report(y_valid,y_pred)\n",
    "    print(cr)"
   ]
  },
  {
   "cell_type": "code",
   "execution_count": 67,
   "id": "f34ba5aa-38b3-452a-9bf0-af3658a47bc1",
   "metadata": {},
   "outputs": [
    {
     "name": "stdout",
     "output_type": "stream",
     "text": [
      "Training Accuracy: 98\n",
      "Validation Accuracy: 91\n"
     ]
    },
    {
     "data": {
      "image/png": "[encoded data removed]",
      "text/plain": [
       "<Figure size 288x288 with 2 Axes>"
      ]
     },
     "metadata": {
      "needs_background": "light"
     },
     "output_type": "display_data"
    },
    {
     "name": "stdout",
     "output_type": "stream",
     "text": [
      "              precision    recall  f1-score   support\n",
      "\n",
      "           0       0.92      0.88      0.90     13838\n",
      "           1       0.89      0.93      0.91     13914\n",
      "\n",
      "    accuracy                           0.90     27752\n",
      "   macro avg       0.91      0.90      0.90     27752\n",
      "weighted avg       0.91      0.90      0.90     27752\n",
      "\n"
     ]
    }
   ],
   "source": [
    "display_ev(dt,'Decision Tree')"
   ]
  },
  {
   "cell_type": "markdown",
   "id": "a5f0cc79-3a16-4d41-a30f-2f87f2f58fe9",
   "metadata": {},
   "source": [
    "### `Random Forest`"
   ]
  },
  {
   "cell_type": "code",
   "execution_count": 58,
   "id": "3315ef4c-f0ca-4fef-b856-34270658125c",
   "metadata": {},
   "outputs": [
    {
     "data": {
      "text/plain": [
       "RandomForestClassifier()"
      ]
     },
     "execution_count": 58,
     "metadata": {},
     "output_type": "execute_result"
    }
   ],
   "source": [
    "rf = RandomForestClassifier()\n",
    "rf.fit(X_train,y_train)"
   ]
  },
  {
   "cell_type": "code",
   "execution_count": 68,
   "id": "18c6c023-e35c-4c67-a2ac-58cfbf5dd5c6",
   "metadata": {},
   "outputs": [
    {
     "name": "stdout",
     "output_type": "stream",
     "text": [
      "Training Accuracy: 98\n",
      "Validation Accuracy: 93\n"
     ]
    },
    {
     "data": {
      "image/png": "[encoded data removed]",
      "text/plain": [
       "<Figure size 288x288 with 2 Axes>"
      ]
     },
     "metadata": {
      "needs_background": "light"
     },
     "output_type": "display_data"
    },
    {
     "name": "stdout",
     "output_type": "stream",
     "text": [
      "              precision    recall  f1-score   support\n",
      "\n",
      "           0       0.93      0.92      0.93     13838\n",
      "           1       0.92      0.94      0.93     13914\n",
      "\n",
      "    accuracy                           0.93     27752\n",
      "   macro avg       0.93      0.93      0.93     27752\n",
      "weighted avg       0.93      0.93      0.93     27752\n",
      "\n"
     ]
    }
   ],
   "source": [
    "display_ev(rf,'Random Forest')"
   ]
  },
  {
   "cell_type": "markdown",
   "id": "85287e89-974b-4611-9be7-80703141f2eb",
   "metadata": {},
   "source": [
    "### `Logistic Regression`"
   ]
  },
  {
   "cell_type": "code",
   "execution_count": 60,
   "id": "d001f343-1f35-4cf0-98c8-524f14aba0d3",
   "metadata": {},
   "outputs": [
    {
     "data": {
      "text/plain": [
       "LogisticRegression()"
      ]
     },
     "execution_count": 60,
     "metadata": {},
     "output_type": "execute_result"
    }
   ],
   "source": [
    "lr = LogisticRegression()\n",
    "lr.fit(X_train,y_train)"
   ]
  },
  {
   "cell_type": "code",
   "execution_count": 69,
   "id": "7e7d249a-2d54-453b-a7ff-f31cd6420b83",
   "metadata": {},
   "outputs": [
    {
     "name": "stdout",
     "output_type": "stream",
     "text": [
      "Training Accuracy: 69\n",
      "Validation Accuracy: 69\n"
     ]
    },
    {
     "data": {
      "image/png": "[encoded data removed]",
      "text/plain": [
       "<Figure size 288x288 with 2 Axes>"
      ]
     },
     "metadata": {
      "needs_background": "light"
     },
     "output_type": "display_data"
    },
    {
     "name": "stdout",
     "output_type": "stream",
     "text": [
      "              precision    recall  f1-score   support\n",
      "\n",
      "           0       0.68      0.72      0.70     13838\n",
      "           1       0.70      0.66      0.68     13914\n",
      "\n",
      "    accuracy                           0.69     27752\n",
      "   macro avg       0.69      0.69      0.69     27752\n",
      "weighted avg       0.69      0.69      0.69     27752\n",
      "\n"
     ]
    }
   ],
   "source": [
    "display_ev(lr,'Logistic Regression')"
   ]
  },
  {
   "cell_type": "code",
   "execution_count": 116,
   "id": "3da1bf70-a7b1-4375-99cc-a9d9a4ce1cfa",
   "metadata": {},
   "outputs": [],
   "source": [
    "score_df = pd.melt(pd.DataFrame(data=accuracy_score,index=['scores']),var_name='Models',value_name='scores').sort_values(by='scores',ascending=False)"
   ]
  },
  {
   "cell_type": "code",
   "execution_count": 159,
   "id": "6e7f0b3d-0a8a-4f71-aaa6-d526e2720eed",
   "metadata": {},
   "outputs": [
    {
     "data": {
      "text/html": [
       "<div>\n",
       "<style scoped>\n",
       "    .dataframe tbody tr th:only-of-type {\n",
       "        vertical-align: middle;\n",
       "    }\n",
       "\n",
       "    .dataframe tbody tr th {\n",
       "        vertical-align: top;\n",
       "    }\n",
       "\n",
       "    .dataframe thead th {\n",
       "        text-align: right;\n",
       "    }\n",
       "</style>\n",
       "<table border=\"1\" class=\"dataframe\">\n",
       "  <thead>\n",
       "    <tr style=\"text-align: right;\">\n",
       "      <th></th>\n",
       "      <th>Models</th>\n",
       "      <th>scores</th>\n",
       "    </tr>\n",
       "  </thead>\n",
       "  <tbody>\n",
       "    <tr>\n",
       "      <th>1</th>\n",
       "      <td>Random Forest</td>\n",
       "      <td>93</td>\n",
       "    </tr>\n",
       "    <tr>\n",
       "      <th>0</th>\n",
       "      <td>Decision Tree</td>\n",
       "      <td>91</td>\n",
       "    </tr>\n",
       "    <tr>\n",
       "      <th>2</th>\n",
       "      <td>Logistic Regression</td>\n",
       "      <td>69</td>\n",
       "    </tr>\n",
       "  </tbody>\n",
       "</table>\n",
       "</div>"
      ],
      "text/plain": [
       "                Models  scores\n",
       "1        Random Forest      93\n",
       "0        Decision Tree      91\n",
       "2  Logistic Regression      69"
      ]
     },
     "execution_count": 159,
     "metadata": {},
     "output_type": "execute_result"
    }
   ],
   "source": [
    "score_df"
   ]
  },
  {
   "cell_type": "code",
   "execution_count": 123,
   "id": "ab630651-7696-4361-b5c8-962d58bf4038",
   "metadata": {},
   "outputs": [
    {
     "data": {
      "application/vnd.plotly.v1+json": {
       "config": {
        "plotlyServerURL": "https://plot.ly"
       },
       "data": [
        {
         "alignmentgroup": "True",
         "hovertemplate": "Models=%{x}<br>scores=%{marker.color}<extra></extra>",
         "legendgroup": "",
         "marker": {
          "color": [
           93,
           91,
           69
          ],
          "coloraxis": "coloraxis",
          "pattern": {
           "shape": ""
          }
         },
         "name": "",
         "offsetgroup": "",
         "orientation": "v",
         "showlegend": false,
         "text": [
          93,
          91,
          69
         ],
         "textposition": "auto",
         "type": "bar",
         "x": [
          "Random Forest",
          "Decision Tree",
          "Logistic Regression"
         ],
         "xaxis": "x",
         "y": [
          93,
          91,
          69
         ],
         "yaxis": "y"
        }
       ],
       "layout": {
        "autosize": true,
        "barmode": "relative",
        "coloraxis": {
         "colorbar": {
          "title": {
           "text": "scores"
          }
         },
         "colorscale": [
          [
           0,
           "#0d0887"
          ],
          [
           0.1111111111111111,
           "#46039f"
          ],
          [
           0.2222222222222222,
           "#7201a8"
          ],
          [
           0.3333333333333333,
           "#9c179e"
          ],
          [
           0.4444444444444444,
           "#bd3786"
          ],
          [
           0.5555555555555556,
           "#d8576b"
          ],
          [
           0.6666666666666666,
           "#ed7953"
          ],
          [
           0.7777777777777778,
           "#fb9f3a"
          ],
          [
           0.8888888888888888,
           "#fdca26"
          ],
          [
           1,
           "#f0f921"
          ]
         ]
        },
        "legend": {
         "tracegroupgap": 0
        },
        "margin": {
         "t": 60
        },
        "template": {
         "data": {
          "bar": [
           {
            "error_x": {
             "color": "#2a3f5f"
            },
            "error_y": {
             "color": "#2a3f5f"
            },
            "marker": {
             "line": {
              "color": "#E5ECF6",
              "width": 0.5
             },
             "pattern": {
              "fillmode": "overlay",
              "size": 10,
              "solidity": 0.2
             }
            },
            "type": "bar"
           }
          ],
          "barpolar": [
           {
            "marker": {
             "line": {
              "color": "#E5ECF6",
              "width": 0.5
             },
             "pattern": {
              "fillmode": "overlay",
              "size": 10,
              "solidity": 0.2
             }
            },
            "type": "barpolar"
           }
          ],
          "carpet": [
           {
            "aaxis": {
             "endlinecolor": "#2a3f5f",
             "gridcolor": "white",
             "linecolor": "white",
             "minorgridcolor": "white",
             "startlinecolor": "#2a3f5f"
            },
            "baxis": {
             "endlinecolor": "#2a3f5f",
             "gridcolor": "white",
             "linecolor": "white",
             "minorgridcolor": "white",
             "startlinecolor": "#2a3f5f"
            },
            "type": "carpet"
           }
          ],
          "choropleth": [
           {
            "colorbar": {
             "outlinewidth": 0,
             "ticks": ""
            },
            "type": "choropleth"
           }
          ],
          "contour": [
           {
            "colorbar": {
             "outlinewidth": 0,
             "ticks": ""
            },
            "colorscale": [
             [
              0,
              "#0d0887"
             ],
             [
              0.1111111111111111,
              "#46039f"
             ],
             [
              0.2222222222222222,
              "#7201a8"
             ],
             [
              0.3333333333333333,
              "#9c179e"
             ],
             [
              0.4444444444444444,
              "#bd3786"
             ],
             [
              0.5555555555555556,
              "#d8576b"
             ],
             [
              0.6666666666666666,
              "#ed7953"
             ],
             [
              0.7777777777777778,
              "#fb9f3a"
             ],
             [
              0.8888888888888888,
              "#fdca26"
             ],
             [
              1,
              "#f0f921"
             ]
            ],
            "type": "contour"
           }
          ],
          "contourcarpet": [
           {
            "colorbar": {
             "outlinewidth": 0,
             "ticks": ""
            },
            "type": "contourcarpet"
           }
          ],
          "heatmap": [
           {
            "colorbar": {
             "outlinewidth": 0,
             "ticks": ""
            },
            "colorscale": [
             [
              0,
              "#0d0887"
             ],
             [
              0.1111111111111111,
              "#46039f"
             ],
             [
              0.2222222222222222,
              "#7201a8"
             ],
             [
              0.3333333333333333,
              "#9c179e"
             ],
             [
              0.4444444444444444,
              "#bd3786"
             ],
             [
              0.5555555555555556,
              "#d8576b"
             ],
             [
              0.6666666666666666,
              "#ed7953"
             ],
             [
              0.7777777777777778,
              "#fb9f3a"
             ],
             [
              0.8888888888888888,
              "#fdca26"
             ],
             [
              1,
              "#f0f921"
             ]
            ],
            "type": "heatmap"
           }
          ],
          "heatmapgl": [
           {
            "colorbar": {
             "outlinewidth": 0,
             "ticks": ""
            },
            "colorscale": [
             [
              0,
              "#0d0887"
             ],
             [
              0.1111111111111111,
              "#46039f"
             ],
             [
              0.2222222222222222,
              "#7201a8"
             ],
             [
              0.3333333333333333,
              "#9c179e"
             ],
             [
              0.4444444444444444,
              "#bd3786"
             ],
             [
              0.5555555555555556,
              "#d8576b"
             ],
             [
              0.6666666666666666,
              "#ed7953"
             ],
             [
              0.7777777777777778,
              "#fb9f3a"
             ],
             [
              0.8888888888888888,
              "#fdca26"
             ],
             [
              1,
              "#f0f921"
             ]
            ],
            "type": "heatmapgl"
           }
          ],
          "histogram": [
           {
            "marker": {
             "pattern": {
              "fillmode": "overlay",
              "size": 10,
              "solidity": 0.2
             }
            },
            "type": "histogram"
           }
          ],
          "histogram2d": [
           {
            "colorbar": {
             "outlinewidth": 0,
             "ticks": ""
            },
            "colorscale": [
             [
              0,
              "#0d0887"
             ],
             [
              0.1111111111111111,
              "#46039f"
             ],
             [
              0.2222222222222222,
              "#7201a8"
             ],
             [
              0.3333333333333333,
              "#9c179e"
             ],
             [
              0.4444444444444444,
              "#bd3786"
             ],
             [
              0.5555555555555556,
              "#d8576b"
             ],
             [
              0.6666666666666666,
              "#ed7953"
             ],
             [
              0.7777777777777778,
              "#fb9f3a"
             ],
             [
              0.8888888888888888,
              "#fdca26"
             ],
             [
              1,
              "#f0f921"
             ]
            ],
            "type": "histogram2d"
           }
          ],
          "histogram2dcontour": [
           {
            "colorbar": {
             "outlinewidth": 0,
             "ticks": ""
            },
            "colorscale": [
             [
              0,
              "#0d0887"
             ],
             [
              0.1111111111111111,
              "#46039f"
             ],
             [
              0.2222222222222222,
              "#7201a8"
             ],
             [
              0.3333333333333333,
              "#9c179e"
             ],
             [
              0.4444444444444444,
              "#bd3786"
             ],
             [
              0.5555555555555556,
              "#d8576b"
             ],
             [
              0.6666666666666666,
              "#ed7953"
             ],
             [
              0.7777777777777778,
              "#fb9f3a"
             ],
             [
              0.8888888888888888,
              "#fdca26"
             ],
             [
              1,
              "#f0f921"
             ]
            ],
            "type": "histogram2dcontour"
           }
          ],
          "mesh3d": [
           {
            "colorbar": {
             "outlinewidth": 0,
             "ticks": ""
            },
            "type": "mesh3d"
           }
          ],
          "parcoords": [
           {
            "line": {
             "colorbar": {
              "outlinewidth": 0,
              "ticks": ""
             }
            },
            "type": "parcoords"
           }
          ],
          "pie": [
           {
            "automargin": true,
            "type": "pie"
           }
          ],
          "scatter": [
           {
            "marker": {
             "colorbar": {
              "outlinewidth": 0,
              "ticks": ""
             }
            },
            "type": "scatter"
           }
          ],
          "scatter3d": [
           {
            "line": {
             "colorbar": {
              "outlinewidth": 0,
              "ticks": ""
             }
            },
            "marker": {
             "colorbar": {
              "outlinewidth": 0,
              "ticks": ""
             }
            },
            "type": "scatter3d"
           }
          ],
          "scattercarpet": [
           {
            "marker": {
             "colorbar": {
              "outlinewidth": 0,
              "ticks": ""
             }
            },
            "type": "scattercarpet"
           }
          ],
          "scattergeo": [
           {
            "marker": {
             "colorbar": {
              "outlinewidth": 0,
              "ticks": ""
             }
            },
            "type": "scattergeo"
           }
          ],
          "scattergl": [
           {
            "marker": {
             "colorbar": {
              "outlinewidth": 0,
              "ticks": ""
             }
            },
            "type": "scattergl"
           }
          ],
          "scattermapbox": [
           {
            "marker": {
             "colorbar": {
              "outlinewidth": 0,
              "ticks": ""
             }
            },
            "type": "scattermapbox"
           }
          ],
          "scatterpolar": [
           {
            "marker": {
             "colorbar": {
              "outlinewidth": 0,
              "ticks": ""
             }
            },
            "type": "scatterpolar"
           }
          ],
          "scatterpolargl": [
           {
            "marker": {
             "colorbar": {
              "outlinewidth": 0,
              "ticks": ""
             }
            },
            "type": "scatterpolargl"
           }
          ],
          "scatterternary": [
           {
            "marker": {
             "colorbar": {
              "outlinewidth": 0,
              "ticks": ""
             }
            },
            "type": "scatterternary"
           }
          ],
          "surface": [
           {
            "colorbar": {
             "outlinewidth": 0,
             "ticks": ""
            },
            "colorscale": [
             [
              0,
              "#0d0887"
             ],
             [
              0.1111111111111111,
              "#46039f"
             ],
             [
              0.2222222222222222,
              "#7201a8"
             ],
             [
              0.3333333333333333,
              "#9c179e"
             ],
             [
              0.4444444444444444,
              "#bd3786"
             ],
             [
              0.5555555555555556,
              "#d8576b"
             ],
             [
              0.6666666666666666,
              "#ed7953"
             ],
             [
              0.7777777777777778,
              "#fb9f3a"
             ],
             [
              0.8888888888888888,
              "#fdca26"
             ],
             [
              1,
              "#f0f921"
             ]
            ],
            "type": "surface"
           }
          ],
          "table": [
           {
            "cells": {
             "fill": {
              "color": "#EBF0F8"
             },
             "line": {
              "color": "white"
             }
            },
            "header": {
             "fill": {
              "color": "#C8D4E3"
             },
             "line": {
              "color": "white"
             }
            },
            "type": "table"
           }
          ]
         },
         "layout": {
          "annotationdefaults": {
           "arrowcolor": "#2a3f5f",
           "arrowhead": 0,
           "arrowwidth": 1
          },
          "autotypenumbers": "strict",
          "coloraxis": {
           "colorbar": {
            "outlinewidth": 0,
            "ticks": ""
           }
          },
          "colorscale": {
           "diverging": [
            [
             0,
             "#8e0152"
            ],
            [
             0.1,
             "#c51b7d"
            ],
            [
             0.2,
             "#de77ae"
            ],
            [
             0.3,
             "#f1b6da"
            ],
            [
             0.4,
             "#fde0ef"
            ],
            [
             0.5,
             "#f7f7f7"
            ],
            [
             0.6,
             "#e6f5d0"
            ],
            [
             0.7,
             "#b8e186"
            ],
            [
             0.8,
             "#7fbc41"
            ],
            [
             0.9,
             "#4d9221"
            ],
            [
             1,
             "#276419"
            ]
           ],
           "sequential": [
            [
             0,
             "#0d0887"
            ],
            [
             0.1111111111111111,
             "#46039f"
            ],
            [
             0.2222222222222222,
             "#7201a8"
            ],
            [
             0.3333333333333333,
             "#9c179e"
            ],
            [
             0.4444444444444444,
             "#bd3786"
            ],
            [
             0.5555555555555556,
             "#d8576b"
            ],
            [
             0.6666666666666666,
             "#ed7953"
            ],
            [
             0.7777777777777778,
             "#fb9f3a"
            ],
            [
             0.8888888888888888,
             "#fdca26"
            ],
            [
             1,
             "#f0f921"
            ]
           ],
           "sequentialminus": [
            [
             0,
             "#0d0887"
            ],
            [
             0.1111111111111111,
             "#46039f"
            ],
            [
             0.2222222222222222,
             "#7201a8"
            ],
            [
             0.3333333333333333,
             "#9c179e"
            ],
            [
             0.4444444444444444,
             "#bd3786"
            ],
            [
             0.5555555555555556,
             "#d8576b"
            ],
            [
             0.6666666666666666,
             "#ed7953"
            ],
            [
             0.7777777777777778,
             "#fb9f3a"
            ],
            [
             0.8888888888888888,
             "#fdca26"
            ],
            [
             1,
             "#f0f921"
            ]
           ]
          },
          "colorway": [
           "#636efa",
           "#EF553B",
           "#00cc96",
           "#ab63fa",
           "#FFA15A",
           "#19d3f3",
           "#FF6692",
           "#B6E880",
           "#FF97FF",
           "#FECB52"
          ],
          "font": {
           "color": "#2a3f5f"
          },
          "geo": {
           "bgcolor": "white",
           "lakecolor": "white",
           "landcolor": "#E5ECF6",
           "showlakes": true,
           "showland": true,
           "subunitcolor": "white"
          },
          "hoverlabel": {
           "align": "left"
          },
          "hovermode": "closest",
          "mapbox": {
           "style": "light"
          },
          "paper_bgcolor": "white",
          "plot_bgcolor": "#E5ECF6",
          "polar": {
           "angularaxis": {
            "gridcolor": "white",
            "linecolor": "white",
            "ticks": ""
           },
           "bgcolor": "#E5ECF6",
           "radialaxis": {
            "gridcolor": "white",
            "linecolor": "white",
            "ticks": ""
           }
          },
          "scene": {
           "xaxis": {
            "backgroundcolor": "#E5ECF6",
            "gridcolor": "white",
            "gridwidth": 2,
            "linecolor": "white",
            "showbackground": true,
            "ticks": "",
            "zerolinecolor": "white"
           },
           "yaxis": {
            "backgroundcolor": "#E5ECF6",
            "gridcolor": "white",
            "gridwidth": 2,
            "linecolor": "white",
            "showbackground": true,
            "ticks": "",
            "zerolinecolor": "white"
           },
           "zaxis": {
            "backgroundcolor": "#E5ECF6",
            "gridcolor": "white",
            "gridwidth": 2,
            "linecolor": "white",
            "showbackground": true,
            "ticks": "",
            "zerolinecolor": "white"
           }
          },
          "shapedefaults": {
           "line": {
            "color": "#2a3f5f"
           }
          },
          "ternary": {
           "aaxis": {
            "gridcolor": "white",
            "linecolor": "white",
            "ticks": ""
           },
           "baxis": {
            "gridcolor": "white",
            "linecolor": "white",
            "ticks": ""
           },
           "bgcolor": "#E5ECF6",
           "caxis": {
            "gridcolor": "white",
            "linecolor": "white",
            "ticks": ""
           }
          },
          "title": {
           "x": 0.05
          },
          "xaxis": {
           "automargin": true,
           "gridcolor": "white",
           "linecolor": "white",
           "ticks": "",
           "title": {
            "standoff": 15
           },
           "zerolinecolor": "white",
           "zerolinewidth": 2
          },
          "yaxis": {
           "automargin": true,
           "gridcolor": "white",
           "linecolor": "white",
           "ticks": "",
           "title": {
            "standoff": 15
           },
           "zerolinecolor": "white",
           "zerolinewidth": 2
          }
         }
        },
        "xaxis": {
         "anchor": "y",
         "autorange": true,
         "domain": [
          0,
          1
         ],
         "range": [
          -0.5,
          2.5
         ],
         "title": {
          "text": "Models"
         },
         "type": "category"
        },
        "yaxis": {
         "anchor": "x",
         "autorange": true,
         "domain": [
          0,
          1
         ],
         "range": [
          0,
          97.89473684210526
         ],
         "title": {
          "text": "scores"
         },
         "type": "linear"
        }
       }
      },
      "image/png": "[encoded data removed]",
      "text/html": [
       "<div>                            <div id=\"55d9ce1f-5f3b-4191-b0df-376e19fb6ef6\" class=\"plotly-graph-div\" style=\"height:525px; width:100%;\"></div>            <script type=\"text/javascript\">                require([\"plotly\"], function(Plotly) {                    window.PLOTLYENV=window.PLOTLYENV || {};                                    if (document.getElementById(\"55d9ce1f-5f3b-4191-b0df-376e19fb6ef6\")) {                    Plotly.newPlot(                        \"55d9ce1f-5f3b-4191-b0df-376e19fb6ef6\",                        [{\"alignmentgroup\":\"True\",\"hovertemplate\":\"Models=%{x}<br>scores=%{marker.color}<extra></extra>\",\"legendgroup\":\"\",\"marker\":{\"color\":[93,91,69],\"coloraxis\":\"coloraxis\",\"pattern\":{\"shape\":\"\"}},\"name\":\"\",\"offsetgroup\":\"\",\"orientation\":\"v\",\"showlegend\":false,\"text\":[93.0,91.0,69.0],\"textposition\":\"auto\",\"x\":[\"Random Forest\",\"Decision Tree\",\"Logistic Regression\"],\"xaxis\":\"x\",\"y\":[93,91,69],\"yaxis\":\"y\",\"type\":\"bar\"}],                        {\"template\":{\"data\":{\"bar\":[{\"error_x\":{\"color\":\"#2a3f5f\"},\"error_y\":{\"color\":\"#2a3f5f\"},\"marker\":{\"line\":{\"color\":\"#E5ECF6\",\"width\":0.5},\"pattern\":{\"fillmode\":\"overlay\",\"size\":10,\"solidity\":0.2}},\"type\":\"bar\"}],\"barpolar\":[{\"marker\":{\"line\":{\"color\":\"#E5ECF6\",\"width\":0.5},\"pattern\":{\"fillmode\":\"overlay\",\"size\":10,\"solidity\":0.2}},\"type\":\"barpolar\"}],\"carpet\":[{\"aaxis\":{\"endlinecolor\":\"#2a3f5f\",\"gridcolor\":\"white\",\"linecolor\":\"white\",\"minorgridcolor\":\"white\",\"startlinecolor\":\"#2a3f5f\"},\"baxis\":{\"endlinecolor\":\"#2a3f5f\",\"gridcolor\":\"white\",\"linecolor\":\"white\",\"minorgridcolor\":\"white\",\"startlinecolor\":\"#2a3f5f\"},\"type\":\"carpet\"}],\"choropleth\":[{\"colorbar\":{\"outlinewidth\":0,\"ticks\":\"\"},\"type\":\"choropleth\"}],\"contour\":[{\"colorbar\":{\"outlinewidth\":0,\"ticks\":\"\"},\"colorscale\":[[0.0,\"#0d0887\"],[0.1111111111111111,\"#46039f\"],[0.2222222222222222,\"#7201a8\"],[0.3333333333333333,\"#9c179e\"],[0.4444444444444444,\"#bd3786\"],[0.5555555555555556,\"#d8576b\"],[0.6666666666666666,\"#ed7953\"],[0.7777777777777778,\"#fb9f3a\"],[0.8888888888888888,\"#fdca26\"],[1.0,\"#f0f921\"]],\"type\":\"contour\"}],\"contourcarpet\":[{\"colorbar\":{\"outlinewidth\":0,\"ticks\":\"\"},\"type\":\"contourcarpet\"}],\"heatmap\":[{\"colorbar\":{\"outlinewidth\":0,\"ticks\":\"\"},\"colorscale\":[[0.0,\"#0d0887\"],[0.1111111111111111,\"#46039f\"],[0.2222222222222222,\"#7201a8\"],[0.3333333333333333,\"#9c179e\"],[0.4444444444444444,\"#bd3786\"],[0.5555555555555556,\"#d8576b\"],[0.6666666666666666,\"#ed7953\"],[0.7777777777777778,\"#fb9f3a\"],[0.8888888888888888,\"#fdca26\"],[1.0,\"#f0f921\"]],\"type\":\"heatmap\"}],\"heatmapgl\":[{\"colorbar\":{\"outlinewidth\":0,\"ticks\":\"\"},\"colorscale\":[[0.0,\"#0d0887\"],[0.1111111111111111,\"#46039f\"],[0.2222222222222222,\"#7201a8\"],[0.3333333333333333,\"#9c179e\"],[0.4444444444444444,\"#bd3786\"],[0.5555555555555556,\"#d8576b\"],[0.6666666666666666,\"#ed7953\"],[0.7777777777777778,\"#fb9f3a\"],[0.8888888888888888,\"#fdca26\"],[1.0,\"#f0f921\"]],\"type\":\"heatmapgl\"}],\"histogram\":[{\"marker\":{\"pattern\":{\"fillmode\":\"overlay\",\"size\":10,\"solidity\":0.2}},\"type\":\"histogram\"}],\"histogram2d\":[{\"colorbar\":{\"outlinewidth\":0,\"ticks\":\"\"},\"colorscale\":[[0.0,\"#0d0887\"],[0.1111111111111111,\"#46039f\"],[0.2222222222222222,\"#7201a8\"],[0.3333333333333333,\"#9c179e\"],[0.4444444444444444,\"#bd3786\"],[0.5555555555555556,\"#d8576b\"],[0.6666666666666666,\"#ed7953\"],[0.7777777777777778,\"#fb9f3a\"],[0.8888888888888888,\"#fdca26\"],[1.0,\"#f0f921\"]],\"type\":\"histogram2d\"}],\"histogram2dcontour\":[{\"colorbar\":{\"outlinewidth\":0,\"ticks\":\"\"},\"colorscale\":[[0.0,\"#0d0887\"],[0.1111111111111111,\"#46039f\"],[0.2222222222222222,\"#7201a8\"],[0.3333333333333333,\"#9c179e\"],[0.4444444444444444,\"#bd3786\"],[0.5555555555555556,\"#d8576b\"],[0.6666666666666666,\"#ed7953\"],[0.7777777777777778,\"#fb9f3a\"],[0.8888888888888888,\"#fdca26\"],[1.0,\"#f0f921\"]],\"type\":\"histogram2dcontour\"}],\"mesh3d\":[{\"colorbar\":{\"outlinewidth\":0,\"ticks\":\"\"},\"type\":\"mesh3d\"}],\"parcoords\":[{\"line\":{\"colorbar\":{\"outlinewidth\":0,\"ticks\":\"\"}},\"type\":\"parcoords\"}],\"pie\":[{\"automargin\":true,\"type\":\"pie\"}],\"scatter\":[{\"marker\":{\"colorbar\":{\"outlinewidth\":0,\"ticks\":\"\"}},\"type\":\"scatter\"}],\"scatter3d\":[{\"line\":{\"colorbar\":{\"outlinewidth\":0,\"ticks\":\"\"}},\"marker\":{\"colorbar\":{\"outlinewidth\":0,\"ticks\":\"\"}},\"type\":\"scatter3d\"}],\"scattercarpet\":[{\"marker\":{\"colorbar\":{\"outlinewidth\":0,\"ticks\":\"\"}},\"type\":\"scattercarpet\"}],\"scattergeo\":[{\"marker\":{\"colorbar\":{\"outlinewidth\":0,\"ticks\":\"\"}},\"type\":\"scattergeo\"}],\"scattergl\":[{\"marker\":{\"colorbar\":{\"outlinewidth\":0,\"ticks\":\"\"}},\"type\":\"scattergl\"}],\"scattermapbox\":[{\"marker\":{\"colorbar\":{\"outlinewidth\":0,\"ticks\":\"\"}},\"type\":\"scattermapbox\"}],\"scatterpolar\":[{\"marker\":{\"colorbar\":{\"outlinewidth\":0,\"ticks\":\"\"}},\"type\":\"scatterpolar\"}],\"scatterpolargl\":[{\"marker\":{\"colorbar\":{\"outlinewidth\":0,\"ticks\":\"\"}},\"type\":\"scatterpolargl\"}],\"scatterternary\":[{\"marker\":{\"colorbar\":{\"outlinewidth\":0,\"ticks\":\"\"}},\"type\":\"scatterternary\"}],\"surface\":[{\"colorbar\":{\"outlinewidth\":0,\"ticks\":\"\"},\"colorscale\":[[0.0,\"#0d0887\"],[0.1111111111111111,\"#46039f\"],[0.2222222222222222,\"#7201a8\"],[0.3333333333333333,\"#9c179e\"],[0.4444444444444444,\"#bd3786\"],[0.5555555555555556,\"#d8576b\"],[0.6666666666666666,\"#ed7953\"],[0.7777777777777778,\"#fb9f3a\"],[0.8888888888888888,\"#fdca26\"],[1.0,\"#f0f921\"]],\"type\":\"surface\"}],\"table\":[{\"cells\":{\"fill\":{\"color\":\"#EBF0F8\"},\"line\":{\"color\":\"white\"}},\"header\":{\"fill\":{\"color\":\"#C8D4E3\"},\"line\":{\"color\":\"white\"}},\"type\":\"table\"}]},\"layout\":{\"annotationdefaults\":{\"arrowcolor\":\"#2a3f5f\",\"arrowhead\":0,\"arrowwidth\":1},\"autotypenumbers\":\"strict\",\"coloraxis\":{\"colorbar\":{\"outlinewidth\":0,\"ticks\":\"\"}},\"colorscale\":{\"diverging\":[[0,\"#8e0152\"],[0.1,\"#c51b7d\"],[0.2,\"#de77ae\"],[0.3,\"#f1b6da\"],[0.4,\"#fde0ef\"],[0.5,\"#f7f7f7\"],[0.6,\"#e6f5d0\"],[0.7,\"#b8e186\"],[0.8,\"#7fbc41\"],[0.9,\"#4d9221\"],[1,\"#276419\"]],\"sequential\":[[0.0,\"#0d0887\"],[0.1111111111111111,\"#46039f\"],[0.2222222222222222,\"#7201a8\"],[0.3333333333333333,\"#9c179e\"],[0.4444444444444444,\"#bd3786\"],[0.5555555555555556,\"#d8576b\"],[0.6666666666666666,\"#ed7953\"],[0.7777777777777778,\"#fb9f3a\"],[0.8888888888888888,\"#fdca26\"],[1.0,\"#f0f921\"]],\"sequentialminus\":[[0.0,\"#0d0887\"],[0.1111111111111111,\"#46039f\"],[0.2222222222222222,\"#7201a8\"],[0.3333333333333333,\"#9c179e\"],[0.4444444444444444,\"#bd3786\"],[0.5555555555555556,\"#d8576b\"],[0.6666666666666666,\"#ed7953\"],[0.7777777777777778,\"#fb9f3a\"],[0.8888888888888888,\"#fdca26\"],[1.0,\"#f0f921\"]]},\"colorway\":[\"#636efa\",\"#EF553B\",\"#00cc96\",\"#ab63fa\",\"#FFA15A\",\"#19d3f3\",\"#FF6692\",\"#B6E880\",\"#FF97FF\",\"#FECB52\"],\"font\":{\"color\":\"#2a3f5f\"},\"geo\":{\"bgcolor\":\"white\",\"lakecolor\":\"white\",\"landcolor\":\"#E5ECF6\",\"showlakes\":true,\"showland\":true,\"subunitcolor\":\"white\"},\"hoverlabel\":{\"align\":\"left\"},\"hovermode\":\"closest\",\"mapbox\":{\"style\":\"light\"},\"paper_bgcolor\":\"white\",\"plot_bgcolor\":\"#E5ECF6\",\"polar\":{\"angularaxis\":{\"gridcolor\":\"white\",\"linecolor\":\"white\",\"ticks\":\"\"},\"bgcolor\":\"#E5ECF6\",\"radialaxis\":{\"gridcolor\":\"white\",\"linecolor\":\"white\",\"ticks\":\"\"}},\"scene\":{\"xaxis\":{\"backgroundcolor\":\"#E5ECF6\",\"gridcolor\":\"white\",\"gridwidth\":2,\"linecolor\":\"white\",\"showbackground\":true,\"ticks\":\"\",\"zerolinecolor\":\"white\"},\"yaxis\":{\"backgroundcolor\":\"#E5ECF6\",\"gridcolor\":\"white\",\"gridwidth\":2,\"linecolor\":\"white\",\"showbackground\":true,\"ticks\":\"\",\"zerolinecolor\":\"white\"},\"zaxis\":{\"backgroundcolor\":\"#E5ECF6\",\"gridcolor\":\"white\",\"gridwidth\":2,\"linecolor\":\"white\",\"showbackground\":true,\"ticks\":\"\",\"zerolinecolor\":\"white\"}},\"shapedefaults\":{\"line\":{\"color\":\"#2a3f5f\"}},\"ternary\":{\"aaxis\":{\"gridcolor\":\"white\",\"linecolor\":\"white\",\"ticks\":\"\"},\"baxis\":{\"gridcolor\":\"white\",\"linecolor\":\"white\",\"ticks\":\"\"},\"bgcolor\":\"#E5ECF6\",\"caxis\":{\"gridcolor\":\"white\",\"linecolor\":\"white\",\"ticks\":\"\"}},\"title\":{\"x\":0.05},\"xaxis\":{\"automargin\":true,\"gridcolor\":\"white\",\"linecolor\":\"white\",\"ticks\":\"\",\"title\":{\"standoff\":15},\"zerolinecolor\":\"white\",\"zerolinewidth\":2},\"yaxis\":{\"automargin\":true,\"gridcolor\":\"white\",\"linecolor\":\"white\",\"ticks\":\"\",\"title\":{\"standoff\":15},\"zerolinecolor\":\"white\",\"zerolinewidth\":2}}},\"xaxis\":{\"anchor\":\"y\",\"domain\":[0.0,1.0],\"title\":{\"text\":\"Models\"}},\"yaxis\":{\"anchor\":\"x\",\"domain\":[0.0,1.0],\"title\":{\"text\":\"scores\"}},\"coloraxis\":{\"colorbar\":{\"title\":{\"text\":\"scores\"}},\"colorscale\":[[0.0,\"#0d0887\"],[0.1111111111111111,\"#46039f\"],[0.2222222222222222,\"#7201a8\"],[0.3333333333333333,\"#9c179e\"],[0.4444444444444444,\"#bd3786\"],[0.5555555555555556,\"#d8576b\"],[0.6666666666666666,\"#ed7953\"],[0.7777777777777778,\"#fb9f3a\"],[0.8888888888888888,\"#fdca26\"],[1.0,\"#f0f921\"]]},\"legend\":{\"tracegroupgap\":0},\"margin\":{\"t\":60},\"barmode\":\"relative\"},                        {\"responsive\": true}                    ).then(function(){\n",
       "                            \n",
       "var gd = document.getElementById('55d9ce1f-5f3b-4191-b0df-376e19fb6ef6');\n",
       "var x = new MutationObserver(function (mutations, observer) {{\n",
       "        var display = window.getComputedStyle(gd).display;\n",
       "        if (!display || display === 'none') {{\n",
       "            console.log([gd, 'removed!']);\n",
       "            Plotly.purge(gd);\n",
       "            observer.disconnect();\n",
       "        }}\n",
       "}});\n",
       "\n",
       "// Listen for the removal of the full notebook cells\n",
       "var notebookContainer = gd.closest('#notebook-container');\n",
       "if (notebookContainer) {{\n",
       "    x.observe(notebookContainer, {childList: true});\n",
       "}}\n",
       "\n",
       "// Listen for the clearing of the current output cell\n",
       "var outputEl = gd.closest('.output');\n",
       "if (outputEl) {{\n",
       "    x.observe(outputEl, {childList: true});\n",
       "}}\n",
       "\n",
       "                        })                };                });            </script>        </div>"
      ]
     },
     "metadata": {},
     "output_type": "display_data"
    }
   ],
   "source": [
    "px.bar(score_df,x='Models',y='scores',color='scores',text='scores')"
   ]
  },
  {
   "cell_type": "markdown",
   "id": "d20e523d-21b5-4da4-9115-fbe181aae734",
   "metadata": {},
   "source": [
    "`Observation`\n",
    "* From the plot above the RandomForest Has the highest accuracy on validation followed by the Decision tree and Logistic regression"
   ]
  },
  {
   "cell_type": "markdown",
   "id": "5109cffa-ce3b-446e-a7a7-4d3c1f4fdb6a",
   "metadata": {},
   "source": [
    "### `Cross validation`\n",
    "* We going to do a cross validation to different between the Random Forest and the Decision Tree\n",
    "* for scoring parameter we use the F1-score:\n",
    "    * Since Promoting an incompetent employee(False Negative) and not promoting a deserving candidate(False Positive) can both be equally risky for the company.\n",
    "    * Since both are equally important for our problem , so we need the trade-off between precision and recall that is (F1-score)"
   ]
  },
  {
   "cell_type": "code",
   "execution_count": 152,
   "id": "2a7bdf24-756a-439a-99c5-c67e36574f38",
   "metadata": {},
   "outputs": [],
   "source": [
    "## function cross val scores for models\n",
    "cross_val_Score= {}\n",
    "def cross_Val(model,name):\n",
    "    y_pred = model.predict(X_valid)\n",
    "    scores = cross_val_score(rf,X_valid,y_pred,scoring='f1',cv=10,verbose=True)\n",
    "    cross_val_Score[name]=scores.mean()*100"
   ]
  },
  {
   "cell_type": "code",
   "execution_count": 153,
   "id": "fb89d071-8e84-48ff-9ea8-4371b4419e92",
   "metadata": {},
   "outputs": [
    {
     "name": "stderr",
     "output_type": "stream",
     "text": [
      "[Parallel(n_jobs=1)]: Using backend SequentialBackend with 1 concurrent workers.\n",
      "[Parallel(n_jobs=1)]: Done  10 out of  10 | elapsed:   40.8s finished\n",
      "[Parallel(n_jobs=1)]: Using backend SequentialBackend with 1 concurrent workers.\n",
      "[Parallel(n_jobs=1)]: Done  10 out of  10 | elapsed:   40.5s finished\n"
     ]
    }
   ],
   "source": [
    "#cross val score for Random Forest \n",
    "cross_Val(rf,'Random Forest')\n",
    "\n",
    "#cross val sccore for Decision Tree\n",
    "cross_Val(dt,'Decision Tree')"
   ]
  },
  {
   "cell_type": "code",
   "execution_count": 154,
   "id": "bfbfdeb6-e9ec-4f4b-b736-a0feb6732b82",
   "metadata": {},
   "outputs": [],
   "source": [
    "cross_val_models=pd.melt(pd.DataFrame(cross_val_Score,index=[0]),var_name='models',value_name='cross_val_score')"
   ]
  },
  {
   "cell_type": "code",
   "execution_count": 157,
   "id": "105b2b34-e741-480e-bf54-335a9e216936",
   "metadata": {},
   "outputs": [],
   "source": [
    "cross_val_models['cross_val_score'] = np.round(cross_val_models['cross_val_score'],decimals=0)"
   ]
  },
  {
   "cell_type": "code",
   "execution_count": 160,
   "id": "50d26931-b7fb-4a81-b3ad-8fb3591e7179",
   "metadata": {},
   "outputs": [
    {
     "data": {
      "text/html": [
       "<div>\n",
       "<style scoped>\n",
       "    .dataframe tbody tr th:only-of-type {\n",
       "        vertical-align: middle;\n",
       "    }\n",
       "\n",
       "    .dataframe tbody tr th {\n",
       "        vertical-align: top;\n",
       "    }\n",
       "\n",
       "    .dataframe thead th {\n",
       "        text-align: right;\n",
       "    }\n",
       "</style>\n",
       "<table border=\"1\" class=\"dataframe\">\n",
       "  <thead>\n",
       "    <tr style=\"text-align: right;\">\n",
       "      <th></th>\n",
       "      <th>models</th>\n",
       "      <th>cross_val_score</th>\n",
       "    </tr>\n",
       "  </thead>\n",
       "  <tbody>\n",
       "    <tr>\n",
       "      <th>0</th>\n",
       "      <td>Random Forest</td>\n",
       "      <td>94.0</td>\n",
       "    </tr>\n",
       "    <tr>\n",
       "      <th>1</th>\n",
       "      <td>Decision Tree</td>\n",
       "      <td>92.0</td>\n",
       "    </tr>\n",
       "  </tbody>\n",
       "</table>\n",
       "</div>"
      ],
      "text/plain": [
       "          models  cross_val_score\n",
       "0  Random Forest             94.0\n",
       "1  Decision Tree             92.0"
      ]
     },
     "execution_count": 160,
     "metadata": {},
     "output_type": "execute_result"
    }
   ],
   "source": [
    "crossDecisionTreeClassifierl_models.sort_values(by='cross_val_score',ascending=False)"
   ]
  },
  {
   "cell_type": "code",
   "execution_count": 162,
   "id": "f032dee0-5fc8-45f2-a59c-dbf6336de0c5",
   "metadata": {},
   "outputs": [
    {
     "data": {
      "application/vnd.plotly.v1+json": {
       "config": {
        "plotlyServerURL": "https://plot.ly"
       },
       "data": [
        {
         "alignmentgroup": "True",
         "hovertemplate": "models=%{x}<br>cross_val_score=%{marker.color}<extra></extra>",
         "legendgroup": "",
         "marker": {
          "color": [
           94,
           92
          ],
          "coloraxis": "coloraxis",
          "pattern": {
           "shape": ""
          }
         },
         "name": "",
         "offsetgroup": "",
         "orientation": "v",
         "showlegend": false,
         "text": [
          94,
          92
         ],
         "textposition": "auto",
         "type": "bar",
         "x": [
          "Random Forest",
          "Decision Tree"
         ],
         "xaxis": "x",
         "y": [
          94,
          92
         ],
         "yaxis": "y"
        }
       ],
       "layout": {
        "autosize": true,
        "barmode": "relative",
        "coloraxis": {
         "colorbar": {
          "title": {
           "text": "cross_val_score"
          }
         },
         "colorscale": [
          [
           0,
           "#0d0887"
          ],
          [
           0.1111111111111111,
           "#46039f"
          ],
          [
           0.2222222222222222,
           "#7201a8"
          ],
          [
           0.3333333333333333,
           "#9c179e"
          ],
          [
           0.4444444444444444,
           "#bd3786"
          ],
          [
           0.5555555555555556,
           "#d8576b"
          ],
          [
           0.6666666666666666,
           "#ed7953"
          ],
          [
           0.7777777777777778,
           "#fb9f3a"
          ],
          [
           0.8888888888888888,
           "#fdca26"
          ],
          [
           1,
           "#f0f921"
          ]
         ]
        },
        "legend": {
         "tracegroupgap": 0
        },
        "margin": {
         "t": 60
        },
        "template": {
         "data": {
          "bar": [
           {
            "error_x": {
             "color": "#2a3f5f"
            },
            "error_y": {
             "color": "#2a3f5f"
            },
            "marker": {
             "line": {
              "color": "#E5ECF6",
              "width": 0.5
             },
             "pattern": {
              "fillmode": "overlay",
              "size": 10,
              "solidity": 0.2
             }
            },
            "type": "bar"
           }
          ],
          "barpolar": [
           {
            "marker": {
             "line": {
              "color": "#E5ECF6",
              "width": 0.5
             },
             "pattern": {
              "fillmode": "overlay",
              "size": 10,
              "solidity": 0.2
             }
            },
            "type": "barpolar"
           }
          ],
          "carpet": [
           {
            "aaxis": {
             "endlinecolor": "#2a3f5f",
             "gridcolor": "white",
             "linecolor": "white",
             "minorgridcolor": "white",
             "startlinecolor": "#2a3f5f"
            },
            "baxis": {
             "endlinecolor": "#2a3f5f",
             "gridcolor": "white",
             "linecolor": "white",
             "minorgridcolor": "white",
             "startlinecolor": "#2a3f5f"
            },
            "type": "carpet"
           }
          ],
          "choropleth": [
           {
            "colorbar": {
             "outlinewidth": 0,
             "ticks": ""
            },
            "type": "choropleth"
           }
          ],
          "contour": [
           {
            "colorbar": {
             "outlinewidth": 0,
             "ticks": ""
            },
            "colorscale": [
             [
              0,
              "#0d0887"
             ],
             [
              0.1111111111111111,
              "#46039f"
             ],
             [
              0.2222222222222222,
              "#7201a8"
             ],
             [
              0.3333333333333333,
              "#9c179e"
             ],
             [
              0.4444444444444444,
              "#bd3786"
             ],
             [
              0.5555555555555556,
              "#d8576b"
             ],
             [
              0.6666666666666666,
              "#ed7953"
             ],
             [
              0.7777777777777778,
              "#fb9f3a"
             ],
             [
              0.8888888888888888,
              "#fdca26"
             ],
             [
              1,
              "#f0f921"
             ]
            ],
            "type": "contour"
           }
          ],
          "contourcarpet": [
           {
            "colorbar": {
             "outlinewidth": 0,
             "ticks": ""
            },
            "type": "contourcarpet"
           }
          ],
          "heatmap": [
           {
            "colorbar": {
             "outlinewidth": 0,
             "ticks": ""
            },
            "colorscale": [
             [
              0,
              "#0d0887"
             ],
             [
              0.1111111111111111,
              "#46039f"
             ],
             [
              0.2222222222222222,
              "#7201a8"
             ],
             [
              0.3333333333333333,
              "#9c179e"
             ],
             [
              0.4444444444444444,
              "#bd3786"
             ],
             [
              0.5555555555555556,
              "#d8576b"
             ],
             [
              0.6666666666666666,
              "#ed7953"
             ],
             [
              0.7777777777777778,
              "#fb9f3a"
             ],
             [
              0.8888888888888888,
              "#fdca26"
             ],
             [
              1,
              "#f0f921"
             ]
            ],
            "type": "heatmap"
           }
          ],
          "heatmapgl": [
           {
            "colorbar": {
             "outlinewidth": 0,
             "ticks": ""
            },
            "colorscale": [
             [
              0,
              "#0d0887"
             ],
             [
              0.1111111111111111,
              "#46039f"
             ],
             [
              0.2222222222222222,
              "#7201a8"
             ],
             [
              0.3333333333333333,
              "#9c179e"
             ],
             [
              0.4444444444444444,
              "#bd3786"
             ],
             [
              0.5555555555555556,
              "#d8576b"
             ],
             [
              0.6666666666666666,
              "#ed7953"
             ],
             [
              0.7777777777777778,
              "#fb9f3a"
             ],
             [
              0.8888888888888888,
              "#fdca26"
             ],
             [
              1,
              "#f0f921"
             ]
            ],
            "type": "heatmapgl"
           }
          ],
          "histogram": [
           {
            "marker": {
             "pattern": {
              "fillmode": "overlay",
              "size": 10,
              "solidity": 0.2
             }
            },
            "type": "histogram"
           }
          ],
          "histogram2d": [
           {
            "colorbar": {
             "outlinewidth": 0,
             "ticks": ""
            },
            "colorscale": [
             [
              0,
              "#0d0887"
             ],
             [
              0.1111111111111111,
              "#46039f"
             ],
             [
              0.2222222222222222,
              "#7201a8"
             ],
             [
              0.3333333333333333,
              "#9c179e"
             ],
             [
              0.4444444444444444,
              "#bd3786"
             ],
             [
              0.5555555555555556,
              "#d8576b"
             ],
             [
              0.6666666666666666,
              "#ed7953"
             ],
             [
              0.7777777777777778,
              "#fb9f3a"
             ],
             [
              0.8888888888888888,
              "#fdca26"
             ],
             [
              1,
              "#f0f921"
             ]
            ],
            "type": "histogram2d"
           }
          ],
          "histogram2dcontour": [
           {
            "colorbar": {
             "outlinewidth": 0,
             "ticks": ""
            },
            "colorscale": [
             [
              0,
              "#0d0887"
             ],
             [
              0.1111111111111111,
              "#46039f"
             ],
             [
              0.2222222222222222,
              "#7201a8"
             ],
             [
              0.3333333333333333,
              "#9c179e"
             ],
             [
              0.4444444444444444,
              "#bd3786"
             ],
             [
              0.5555555555555556,
              "#d8576b"
             ],
             [
              0.6666666666666666,
              "#ed7953"
             ],
             [
              0.7777777777777778,
              "#fb9f3a"
             ],
             [
              0.8888888888888888,
              "#fdca26"
             ],
             [
              1,
              "#f0f921"
             ]
            ],
            "type": "histogram2dcontour"
           }
          ],
          "mesh3d": [
           {
            "colorbar": {
             "outlinewidth": 0,
             "ticks": ""
            },
            "type": "mesh3d"
           }
          ],
          "parcoords": [
           {
            "line": {
             "colorbar": {
              "outlinewidth": 0,
              "ticks": ""
             }
            },
            "type": "parcoords"
           }
          ],
          "pie": [
           {
            "automargin": true,
            "type": "pie"
           }
          ],
          "scatter": [
           {
            "marker": {
             "colorbar": {
              "outlinewidth": 0,
              "ticks": ""
             }
            },
            "type": "scatter"
           }
          ],
          "scatter3d": [
           {
            "line": {
             "colorbar": {
              "outlinewidth": 0,
              "ticks": ""
             }
            },
            "marker": {
             "colorbar": {
              "outlinewidth": 0,
              "ticks": ""
             }
            },
            "type": "scatter3d"
           }
          ],
          "scattercarpet": [
           {
            "marker": {
             "colorbar": {
              "outlinewidth": 0,
              "ticks": ""
             }
            },
            "type": "scattercarpet"
           }
          ],
          "scattergeo": [
           {
            "marker": {
             "colorbar": {
              "outlinewidth": 0,
              "ticks": ""
             }
            },
            "type": "scattergeo"
           }
          ],
          "scattergl": [
           {
            "marker": {
             "colorbar": {
              "outlinewidth": 0,
              "ticks": ""
             }
            },
            "type": "scattergl"
           }
          ],
          "scattermapbox": [
           {
            "marker": {
             "colorbar": {
              "outlinewidth": 0,
              "ticks": ""
             }
            },
            "type": "scattermapbox"
           }
          ],
          "scatterpolar": [
           {
            "marker": {
             "colorbar": {
              "outlinewidth": 0,
              "ticks": ""
             }
            },
            "type": "scatterpolar"
           }
          ],
          "scatterpolargl": [
           {
            "marker": {
             "colorbar": {
              "outlinewidth": 0,
              "ticks": ""
             }
            },
            "type": "scatterpolargl"
           }
          ],
          "scatterternary": [
           {
            "marker": {
             "colorbar": {
              "outlinewidth": 0,
              "ticks": ""
             }
            },
            "type": "scatterternary"
           }
          ],
          "surface": [
           {
            "colorbar": {
             "outlinewidth": 0,
             "ticks": ""
            },
            "colorscale": [
             [
              0,
              "#0d0887"
             ],
             [
              0.1111111111111111,
              "#46039f"
             ],
             [
              0.2222222222222222,
              "#7201a8"
             ],
             [
              0.3333333333333333,
              "#9c179e"
             ],
             [
              0.4444444444444444,
              "#bd3786"
             ],
             [
              0.5555555555555556,
              "#d8576b"
             ],
             [
              0.6666666666666666,
              "#ed7953"
             ],
             [
              0.7777777777777778,
              "#fb9f3a"
             ],
             [
              0.8888888888888888,
              "#fdca26"
             ],
             [
              1,
              "#f0f921"
             ]
            ],
            "type": "surface"
           }
          ],
          "table": [
           {
            "cells": {
             "fill": {
              "color": "#EBF0F8"
             },
             "line": {
              "color": "white"
             }
            },
            "header": {
             "fill": {
              "color": "#C8D4E3"
             },
             "line": {
              "color": "white"
             }
            },
            "type": "table"
           }
          ]
         },
         "layout": {
          "annotationdefaults": {
           "arrowcolor": "#2a3f5f",
           "arrowhead": 0,
           "arrowwidth": 1
          },
          "autotypenumbers": "strict",
          "coloraxis": {
           "colorbar": {
            "outlinewidth": 0,
            "ticks": ""
           }
          },
          "colorscale": {
           "diverging": [
            [
             0,
             "#8e0152"
            ],
            [
             0.1,
             "#c51b7d"
            ],
            [
             0.2,
             "#de77ae"
            ],
            [
             0.3,
             "#f1b6da"
            ],
            [
             0.4,
             "#fde0ef"
            ],
            [
             0.5,
             "#f7f7f7"
            ],
            [
             0.6,
             "#e6f5d0"
            ],
            [
             0.7,
             "#b8e186"
            ],
            [
             0.8,
             "#7fbc41"
            ],
            [
             0.9,
             "#4d9221"
            ],
            [
             1,
             "#276419"
            ]
           ],
           "sequential": [
            [
             0,
             "#0d0887"
            ],
            [
             0.1111111111111111,
             "#46039f"
            ],
            [
             0.2222222222222222,
             "#7201a8"
            ],
            [
             0.3333333333333333,
             "#9c179e"
            ],
            [
             0.4444444444444444,
             "#bd3786"
            ],
            [
             0.5555555555555556,
             "#d8576b"
            ],
            [
             0.6666666666666666,
             "#ed7953"
            ],
            [
             0.7777777777777778,
             "#fb9f3a"
            ],
            [
             0.8888888888888888,
             "#fdca26"
            ],
            [
             1,
             "#f0f921"
            ]
           ],
           "sequentialminus": [
            [
             0,
             "#0d0887"
            ],
            [
             0.1111111111111111,
             "#46039f"
            ],
            [
             0.2222222222222222,
             "#7201a8"
            ],
            [
             0.3333333333333333,
             "#9c179e"
            ],
            [
             0.4444444444444444,
             "#bd3786"
            ],
            [
             0.5555555555555556,
             "#d8576b"
            ],
            [
             0.6666666666666666,
             "#ed7953"
            ],
            [
             0.7777777777777778,
             "#fb9f3a"
            ],
            [
             0.8888888888888888,
             "#fdca26"
            ],
            [
             1,
             "#f0f921"
            ]
           ]
          },
          "colorway": [
           "#636efa",
           "#EF553B",
           "#00cc96",
           "#ab63fa",
           "#FFA15A",
           "#19d3f3",
           "#FF6692",
           "#B6E880",
           "#FF97FF",
           "#FECB52"
          ],
          "font": {
           "color": "#2a3f5f"
          },
          "geo": {
           "bgcolor": "white",
           "lakecolor": "white",
           "landcolor": "#E5ECF6",
           "showlakes": true,
           "showland": true,
           "subunitcolor": "white"
          },
          "hoverlabel": {
           "align": "left"
          },
          "hovermode": "closest",
          "mapbox": {
           "style": "light"
          },
          "paper_bgcolor": "white",
          "plot_bgcolor": "#E5ECF6",
          "polar": {
           "angularaxis": {
            "gridcolor": "white",
            "linecolor": "white",
            "ticks": ""
           },
           "bgcolor": "#E5ECF6",
           "radialaxis": {
            "gridcolor": "white",
            "linecolor": "white",
            "ticks": ""
           }
          },
          "scene": {
           "xaxis": {
            "backgroundcolor": "#E5ECF6",
            "gridcolor": "white",
            "gridwidth": 2,
            "linecolor": "white",
            "showbackground": true,
            "ticks": "",
            "zerolinecolor": "white"
           },
           "yaxis": {
            "backgroundcolor": "#E5ECF6",
            "gridcolor": "white",
            "gridwidth": 2,
            "linecolor": "white",
            "showbackground": true,
            "ticks": "",
            "zerolinecolor": "white"
           },
           "zaxis": {
            "backgroundcolor": "#E5ECF6",
            "gridcolor": "white",
            "gridwidth": 2,
            "linecolor": "white",
            "showbackground": true,
            "ticks": "",
            "zerolinecolor": "white"
           }
          },
          "shapedefaults": {
           "line": {
            "color": "#2a3f5f"
           }
          },
          "ternary": {
           "aaxis": {
            "gridcolor": "white",
            "linecolor": "white",
            "ticks": ""
           },
           "baxis": {
            "gridcolor": "white",
            "linecolor": "white",
            "ticks": ""
           },
           "bgcolor": "#E5ECF6",
           "caxis": {
            "gridcolor": "white",
            "linecolor": "white",
            "ticks": ""
           }
          },
          "title": {
           "x": 0.05
          },
          "xaxis": {
           "automargin": true,
           "gridcolor": "white",
           "linecolor": "white",
           "ticks": "",
           "title": {
            "standoff": 15
           },
           "zerolinecolor": "white",
           "zerolinewidth": 2
          },
          "yaxis": {
           "automargin": true,
           "gridcolor": "white",
           "linecolor": "white",
           "ticks": "",
           "title": {
            "standoff": 15
           },
           "zerolinecolor": "white",
           "zerolinewidth": 2
          }
         }
        },
        "xaxis": {
         "anchor": "y",
         "autorange": true,
         "domain": [
          0,
          1
         ],
         "range": [
          -0.5,
          1.5
         ],
         "title": {
          "text": "models"
         },
         "type": "category"
        },
        "yaxis": {
         "anchor": "x",
         "autorange": true,
         "domain": [
          0,
          1
         ],
         "range": [
          0,
          98.94736842105263
         ],
         "title": {
          "text": "cross_val_score"
         },
         "type": "linear"
        }
       }
      },
      "image/png": "[encoded data removed]",
      "text/html": [
       "<div>                            <div id=\"34039d15-ff25-44f4-99a4-dd12a2b330a9\" class=\"plotly-graph-div\" style=\"height:525px; width:100%;\"></div>            <script type=\"text/javascript\">                require([\"plotly\"], function(Plotly) {                    window.PLOTLYENV=window.PLOTLYENV || {};                                    if (document.getElementById(\"34039d15-ff25-44f4-99a4-dd12a2b330a9\")) {                    Plotly.newPlot(                        \"34039d15-ff25-44f4-99a4-dd12a2b330a9\",                        [{\"alignmentgroup\":\"True\",\"hovertemplate\":\"models=%{x}<br>cross_val_score=%{marker.color}<extra></extra>\",\"legendgroup\":\"\",\"marker\":{\"color\":[94.0,92.0],\"coloraxis\":\"coloraxis\",\"pattern\":{\"shape\":\"\"}},\"name\":\"\",\"offsetgroup\":\"\",\"orientation\":\"v\",\"showlegend\":false,\"text\":[94.0,92.0],\"textposition\":\"auto\",\"x\":[\"Random Forest\",\"Decision Tree\"],\"xaxis\":\"x\",\"y\":[94.0,92.0],\"yaxis\":\"y\",\"type\":\"bar\"}],                        {\"template\":{\"data\":{\"bar\":[{\"error_x\":{\"color\":\"#2a3f5f\"},\"error_y\":{\"color\":\"#2a3f5f\"},\"marker\":{\"line\":{\"color\":\"#E5ECF6\",\"width\":0.5},\"pattern\":{\"fillmode\":\"overlay\",\"size\":10,\"solidity\":0.2}},\"type\":\"bar\"}],\"barpolar\":[{\"marker\":{\"line\":{\"color\":\"#E5ECF6\",\"width\":0.5},\"pattern\":{\"fillmode\":\"overlay\",\"size\":10,\"solidity\":0.2}},\"type\":\"barpolar\"}],\"carpet\":[{\"aaxis\":{\"endlinecolor\":\"#2a3f5f\",\"gridcolor\":\"white\",\"linecolor\":\"white\",\"minorgridcolor\":\"white\",\"startlinecolor\":\"#2a3f5f\"},\"baxis\":{\"endlinecolor\":\"#2a3f5f\",\"gridcolor\":\"white\",\"linecolor\":\"white\",\"minorgridcolor\":\"white\",\"startlinecolor\":\"#2a3f5f\"},\"type\":\"carpet\"}],\"choropleth\":[{\"colorbar\":{\"outlinewidth\":0,\"ticks\":\"\"},\"type\":\"choropleth\"}],\"contour\":[{\"colorbar\":{\"outlinewidth\":0,\"ticks\":\"\"},\"colorscale\":[[0.0,\"#0d0887\"],[0.1111111111111111,\"#46039f\"],[0.2222222222222222,\"#7201a8\"],[0.3333333333333333,\"#9c179e\"],[0.4444444444444444,\"#bd3786\"],[0.5555555555555556,\"#d8576b\"],[0.6666666666666666,\"#ed7953\"],[0.7777777777777778,\"#fb9f3a\"],[0.8888888888888888,\"#fdca26\"],[1.0,\"#f0f921\"]],\"type\":\"contour\"}],\"contourcarpet\":[{\"colorbar\":{\"outlinewidth\":0,\"ticks\":\"\"},\"type\":\"contourcarpet\"}],\"heatmap\":[{\"colorbar\":{\"outlinewidth\":0,\"ticks\":\"\"},\"colorscale\":[[0.0,\"#0d0887\"],[0.1111111111111111,\"#46039f\"],[0.2222222222222222,\"#7201a8\"],[0.3333333333333333,\"#9c179e\"],[0.4444444444444444,\"#bd3786\"],[0.5555555555555556,\"#d8576b\"],[0.6666666666666666,\"#ed7953\"],[0.7777777777777778,\"#fb9f3a\"],[0.8888888888888888,\"#fdca26\"],[1.0,\"#f0f921\"]],\"type\":\"heatmap\"}],\"heatmapgl\":[{\"colorbar\":{\"outlinewidth\":0,\"ticks\":\"\"},\"colorscale\":[[0.0,\"#0d0887\"],[0.1111111111111111,\"#46039f\"],[0.2222222222222222,\"#7201a8\"],[0.3333333333333333,\"#9c179e\"],[0.4444444444444444,\"#bd3786\"],[0.5555555555555556,\"#d8576b\"],[0.6666666666666666,\"#ed7953\"],[0.7777777777777778,\"#fb9f3a\"],[0.8888888888888888,\"#fdca26\"],[1.0,\"#f0f921\"]],\"type\":\"heatmapgl\"}],\"histogram\":[{\"marker\":{\"pattern\":{\"fillmode\":\"overlay\",\"size\":10,\"solidity\":0.2}},\"type\":\"histogram\"}],\"histogram2d\":[{\"colorbar\":{\"outlinewidth\":0,\"ticks\":\"\"},\"colorscale\":[[0.0,\"#0d0887\"],[0.1111111111111111,\"#46039f\"],[0.2222222222222222,\"#7201a8\"],[0.3333333333333333,\"#9c179e\"],[0.4444444444444444,\"#bd3786\"],[0.5555555555555556,\"#d8576b\"],[0.6666666666666666,\"#ed7953\"],[0.7777777777777778,\"#fb9f3a\"],[0.8888888888888888,\"#fdca26\"],[1.0,\"#f0f921\"]],\"type\":\"histogram2d\"}],\"histogram2dcontour\":[{\"colorbar\":{\"outlinewidth\":0,\"ticks\":\"\"},\"colorscale\":[[0.0,\"#0d0887\"],[0.1111111111111111,\"#46039f\"],[0.2222222222222222,\"#7201a8\"],[0.3333333333333333,\"#9c179e\"],[0.4444444444444444,\"#bd3786\"],[0.5555555555555556,\"#d8576b\"],[0.6666666666666666,\"#ed7953\"],[0.7777777777777778,\"#fb9f3a\"],[0.8888888888888888,\"#fdca26\"],[1.0,\"#f0f921\"]],\"type\":\"histogram2dcontour\"}],\"mesh3d\":[{\"colorbar\":{\"outlinewidth\":0,\"ticks\":\"\"},\"type\":\"mesh3d\"}],\"parcoords\":[{\"line\":{\"colorbar\":{\"outlinewidth\":0,\"ticks\":\"\"}},\"type\":\"parcoords\"}],\"pie\":[{\"automargin\":true,\"type\":\"pie\"}],\"scatter\":[{\"marker\":{\"colorbar\":{\"outlinewidth\":0,\"ticks\":\"\"}},\"type\":\"scatter\"}],\"scatter3d\":[{\"line\":{\"colorbar\":{\"outlinewidth\":0,\"ticks\":\"\"}},\"marker\":{\"colorbar\":{\"outlinewidth\":0,\"ticks\":\"\"}},\"type\":\"scatter3d\"}],\"scattercarpet\":[{\"marker\":{\"colorbar\":{\"outlinewidth\":0,\"ticks\":\"\"}},\"type\":\"scattercarpet\"}],\"scattergeo\":[{\"marker\":{\"colorbar\":{\"outlinewidth\":0,\"ticks\":\"\"}},\"type\":\"scattergeo\"}],\"scattergl\":[{\"marker\":{\"colorbar\":{\"outlinewidth\":0,\"ticks\":\"\"}},\"type\":\"scattergl\"}],\"scattermapbox\":[{\"marker\":{\"colorbar\":{\"outlinewidth\":0,\"ticks\":\"\"}},\"type\":\"scattermapbox\"}],\"scatterpolar\":[{\"marker\":{\"colorbar\":{\"outlinewidth\":0,\"ticks\":\"\"}},\"type\":\"scatterpolar\"}],\"scatterpolargl\":[{\"marker\":{\"colorbar\":{\"outlinewidth\":0,\"ticks\":\"\"}},\"type\":\"scatterpolargl\"}],\"scatterternary\":[{\"marker\":{\"colorbar\":{\"outlinewidth\":0,\"ticks\":\"\"}},\"type\":\"scatterternary\"}],\"surface\":[{\"colorbar\":{\"outlinewidth\":0,\"ticks\":\"\"},\"colorscale\":[[0.0,\"#0d0887\"],[0.1111111111111111,\"#46039f\"],[0.2222222222222222,\"#7201a8\"],[0.3333333333333333,\"#9c179e\"],[0.4444444444444444,\"#bd3786\"],[0.5555555555555556,\"#d8576b\"],[0.6666666666666666,\"#ed7953\"],[0.7777777777777778,\"#fb9f3a\"],[0.8888888888888888,\"#fdca26\"],[1.0,\"#f0f921\"]],\"type\":\"surface\"}],\"table\":[{\"cells\":{\"fill\":{\"color\":\"#EBF0F8\"},\"line\":{\"color\":\"white\"}},\"header\":{\"fill\":{\"color\":\"#C8D4E3\"},\"line\":{\"color\":\"white\"}},\"type\":\"table\"}]},\"layout\":{\"annotationdefaults\":{\"arrowcolor\":\"#2a3f5f\",\"arrowhead\":0,\"arrowwidth\":1},\"autotypenumbers\":\"strict\",\"coloraxis\":{\"colorbar\":{\"outlinewidth\":0,\"ticks\":\"\"}},\"colorscale\":{\"diverging\":[[0,\"#8e0152\"],[0.1,\"#c51b7d\"],[0.2,\"#de77ae\"],[0.3,\"#f1b6da\"],[0.4,\"#fde0ef\"],[0.5,\"#f7f7f7\"],[0.6,\"#e6f5d0\"],[0.7,\"#b8e186\"],[0.8,\"#7fbc41\"],[0.9,\"#4d9221\"],[1,\"#276419\"]],\"sequential\":[[0.0,\"#0d0887\"],[0.1111111111111111,\"#46039f\"],[0.2222222222222222,\"#7201a8\"],[0.3333333333333333,\"#9c179e\"],[0.4444444444444444,\"#bd3786\"],[0.5555555555555556,\"#d8576b\"],[0.6666666666666666,\"#ed7953\"],[0.7777777777777778,\"#fb9f3a\"],[0.8888888888888888,\"#fdca26\"],[1.0,\"#f0f921\"]],\"sequentialminus\":[[0.0,\"#0d0887\"],[0.1111111111111111,\"#46039f\"],[0.2222222222222222,\"#7201a8\"],[0.3333333333333333,\"#9c179e\"],[0.4444444444444444,\"#bd3786\"],[0.5555555555555556,\"#d8576b\"],[0.6666666666666666,\"#ed7953\"],[0.7777777777777778,\"#fb9f3a\"],[0.8888888888888888,\"#fdca26\"],[1.0,\"#f0f921\"]]},\"colorway\":[\"#636efa\",\"#EF553B\",\"#00cc96\",\"#ab63fa\",\"#FFA15A\",\"#19d3f3\",\"#FF6692\",\"#B6E880\",\"#FF97FF\",\"#FECB52\"],\"font\":{\"color\":\"#2a3f5f\"},\"geo\":{\"bgcolor\":\"white\",\"lakecolor\":\"white\",\"landcolor\":\"#E5ECF6\",\"showlakes\":true,\"showland\":true,\"subunitcolor\":\"white\"},\"hoverlabel\":{\"align\":\"left\"},\"hovermode\":\"closest\",\"mapbox\":{\"style\":\"light\"},\"paper_bgcolor\":\"white\",\"plot_bgcolor\":\"#E5ECF6\",\"polar\":{\"angularaxis\":{\"gridcolor\":\"white\",\"linecolor\":\"white\",\"ticks\":\"\"},\"bgcolor\":\"#E5ECF6\",\"radialaxis\":{\"gridcolor\":\"white\",\"linecolor\":\"white\",\"ticks\":\"\"}},\"scene\":{\"xaxis\":{\"backgroundcolor\":\"#E5ECF6\",\"gridcolor\":\"white\",\"gridwidth\":2,\"linecolor\":\"white\",\"showbackground\":true,\"ticks\":\"\",\"zerolinecolor\":\"white\"},\"yaxis\":{\"backgroundcolor\":\"#E5ECF6\",\"gridcolor\":\"white\",\"gridwidth\":2,\"linecolor\":\"white\",\"showbackground\":true,\"ticks\":\"\",\"zerolinecolor\":\"white\"},\"zaxis\":{\"backgroundcolor\":\"#E5ECF6\",\"gridcolor\":\"white\",\"gridwidth\":2,\"linecolor\":\"white\",\"showbackground\":true,\"ticks\":\"\",\"zerolinecolor\":\"white\"}},\"shapedefaults\":{\"line\":{\"color\":\"#2a3f5f\"}},\"ternary\":{\"aaxis\":{\"gridcolor\":\"white\",\"linecolor\":\"white\",\"ticks\":\"\"},\"baxis\":{\"gridcolor\":\"white\",\"linecolor\":\"white\",\"ticks\":\"\"},\"bgcolor\":\"#E5ECF6\",\"caxis\":{\"gridcolor\":\"white\",\"linecolor\":\"white\",\"ticks\":\"\"}},\"title\":{\"x\":0.05},\"xaxis\":{\"automargin\":true,\"gridcolor\":\"white\",\"linecolor\":\"white\",\"ticks\":\"\",\"title\":{\"standoff\":15},\"zerolinecolor\":\"white\",\"zerolinewidth\":2},\"yaxis\":{\"automargin\":true,\"gridcolor\":\"white\",\"linecolor\":\"white\",\"ticks\":\"\",\"title\":{\"standoff\":15},\"zerolinecolor\":\"white\",\"zerolinewidth\":2}}},\"xaxis\":{\"anchor\":\"y\",\"domain\":[0.0,1.0],\"title\":{\"text\":\"models\"}},\"yaxis\":{\"anchor\":\"x\",\"domain\":[0.0,1.0],\"title\":{\"text\":\"cross_val_score\"}},\"coloraxis\":{\"colorbar\":{\"title\":{\"text\":\"cross_val_score\"}},\"colorscale\":[[0.0,\"#0d0887\"],[0.1111111111111111,\"#46039f\"],[0.2222222222222222,\"#7201a8\"],[0.3333333333333333,\"#9c179e\"],[0.4444444444444444,\"#bd3786\"],[0.5555555555555556,\"#d8576b\"],[0.6666666666666666,\"#ed7953\"],[0.7777777777777778,\"#fb9f3a\"],[0.8888888888888888,\"#fdca26\"],[1.0,\"#f0f921\"]]},\"legend\":{\"tracegroupgap\":0},\"margin\":{\"t\":60},\"barmode\":\"relative\"},                        {\"responsive\": true}                    ).then(function(){\n",
       "                            \n",
       "var gd = document.getElementById('34039d15-ff25-44f4-99a4-dd12a2b330a9');\n",
       "var x = new MutationObserver(function (mutations, observer) {{\n",
       "        var display = window.getComputedStyle(gd).display;\n",
       "        if (!display || display === 'none') {{\n",
       "            console.log([gd, 'removed!']);\n",
       "            Plotly.purge(gd);\n",
       "            observer.disconnect();\n",
       "        }}\n",
       "}});\n",
       "\n",
       "// Listen for the removal of the full notebook cells\n",
       "var notebookContainer = gd.closest('#notebook-container');\n",
       "if (notebookContainer) {{\n",
       "    x.observe(notebookContainer, {childList: true});\n",
       "}}\n",
       "\n",
       "// Listen for the clearing of the current output cell\n",
       "var outputEl = gd.closest('.output');\n",
       "if (outputEl) {{\n",
       "    x.observe(outputEl, {childList: true});\n",
       "}}\n",
       "\n",
       "                        })                };                });            </script>        </div>"
      ]
     },
     "metadata": {},
     "output_type": "display_data"
    }
   ],
   "source": [
    "px.bar(cross_val_models,x='models',y='cross_val_score',color='cross_val_score',text='cross_val_score')"
   ]
  },
  {
   "cell_type": "markdown",
   "id": "d5784014-84d4-45ae-9bd4-ba640a70915e",
   "metadata": {},
   "source": [
    "`Observation`\n",
    "* We can see that Random Forest performs better with a 94% f1-score."
   ]
  },
  {
   "cell_type": "markdown",
   "id": "b8979285-b8e6-460e-be0f-0e4ac830d64e",
   "metadata": {},
   "source": [
    "## Model Tuning \n",
    "* GridSearchCV\n",
    "* RandomSearchCV"
   ]
  },
  {
   "cell_type": "markdown",
   "id": "9f7075ea-d79a-41a4-ac1f-ffe3292670fa",
   "metadata": {},
   "source": [
    "### `GridSearchCV` - Random Forest"
   ]
  },
  {
   "cell_type": "code",
   "execution_count": 340,
   "id": "2efa97d8-e02f-4d40-b34e-30c6bb708e09",
   "metadata": {},
   "outputs": [
    {
     "data": {
      "text/plain": [
       "{'bootstrap': True,\n",
       " 'ccp_alpha': 0.0,\n",
       " 'class_weight': None,\n",
       " 'criterion': 'gini',\n",
       " 'max_depth': None,\n",
       " 'max_features': 'auto',\n",
       " 'max_leaf_nodes': None,\n",
       " 'max_samples': None,\n",
       " 'min_impurity_decrease': 0.0,\n",
       " 'min_impurity_split': None,\n",
       " 'min_samples_leaf': 1,\n",
       " 'min_samples_split': 2,\n",
       " 'min_weight_fraction_leaf': 0.0,\n",
       " 'n_estimators': 100,\n",
       " 'n_jobs': None,\n",
       " 'oob_score': False,\n",
       " 'random_state': None,\n",
       " 'verbose': 0,\n",
       " 'warm_start': False}"
      ]
     },
     "execution_count": 340,
     "metadata": {},
     "output_type": "execute_result"
    }
   ],
   "source": [
    "rf.get_params()"
   ]
  },
  {
   "cell_type": "code",
   "execution_count": 358,
   "id": "364d9a5b-e537-49d2-aa02-0362f25de408",
   "metadata": {},
   "outputs": [],
   "source": [
    "param_rf = [\n",
    "    {'n_estimators':[50], 'max_features':[6],\n",
    "    'bootstrap':[True,False],\n",
    "     'max_samples':[40,50],\n",
    "    'criterion':['entropy']}\n",
    "]"
   ]
  },
  {
   "cell_type": "code",
   "execution_count": null,
   "id": "2cbe8d98-7d28-4937-a940-1db58caa469a",
   "metadata": {},
   "outputs": [
    {
     "name": "stdout",
     "output_type": "stream",
     "text": [
      "Fitting 5 folds for each of 4 candidates, totalling 20 fits\n",
      "[CV 1/5] END bootstrap=True, criterion=entropy, max_features=6, max_samples=40, n_estimators=50; total time=   0.7s\n",
      "[CV 2/5] END bootstrap=True, criterion=entropy, max_features=6, max_samples=40, n_estimators=50; total time=   0.6s\n",
      "[CV 3/5] END bootstrap=True, criterion=entropy, max_features=6, max_samples=40, n_estimators=50; total time=   0.6s\n",
      "[CV 4/5] END bootstrap=True, criterion=entropy, max_features=6, max_samples=40, n_estimators=50; total time=   0.6s\n",
      "[CV 5/5] END bootstrap=True, criterion=entropy, max_features=6, max_samples=40, n_estimators=50; total time=   0.6s\n",
      "[CV 1/5] END bootstrap=True, criterion=entropy, max_features=6, max_samples=50, n_estimators=50; total time=   0.6s\n",
      "[CV 2/5] END bootstrap=True, criterion=entropy, max_features=6, max_samples=50, n_estimators=50; total time=   0.7s\n",
      "[CV 3/5] END bootstrap=True, criterion=entropy, max_features=6, max_samples=50, n_estimators=50; total time=   0.6s\n",
      "[CV 4/5] END bootstrap=True, criterion=entropy, max_features=6, max_samples=50, n_estimators=50; total time=   0.6s\n",
      "[CV 5/5] END bootstrap=True, criterion=entropy, max_features=6, max_samples=50, n_estimators=50; total time=   0.6s\n",
      "[CV 1/5] END bootstrap=False, criterion=entropy, max_features=6, max_samples=40, n_estimators=50; total time=  10.0s\n",
      "[CV 2/5] END bootstrap=False, criterion=entropy, max_features=6, max_samples=40, n_estimators=50; total time=   9.6s\n",
      "[CV 3/5] END bootstrap=False, criterion=entropy, max_features=6, max_samples=40, n_estimators=50; total time=   9.9s\n",
      "[CV 4/5] END bootstrap=False, criterion=entropy, max_features=6, max_samples=40, n_estimators=50; total time=   9.9s\n"
     ]
    }
   ],
   "source": [
    "randForest = RandomForestClassifier()\n",
    "grid_search_rF = GridSearchCV(randForest,param_rf,\n",
    "                             cv=5,\n",
    "                             scoring='f1',verbose=3)\n",
    "grid_search_rF.fit(X_train,y_train)"
   ]
  },
  {
   "cell_type": "code",
   "execution_count": 354,
   "id": "d9af9bb6-340f-41d8-8c31-9ba6ff1194e1",
   "metadata": {},
   "outputs": [
    {
     "data": {
      "text/plain": [
       "{'bootstrap': False,\n",
       " 'criterion': 'entropy',\n",
       " 'max_features': 6,\n",
       " 'max_samples': 40,\n",
       " 'n_estimators': 50}"
      ]
     },
     "execution_count": 354,
     "metadata": {},
     "output_type": "execute_result"
    }
   ],
   "source": [
    "grid_search_rF.best_params_"
   ]
  },
  {
   "cell_type": "code",
   "execution_count": 355,
   "id": "2bb2f3fa-a2cc-4fa1-b5fa-99e2b32fd0cc",
   "metadata": {},
   "outputs": [
    {
     "data": {
      "text/plain": [
       "0.9134659011774211"
      ]
     },
     "execution_count": 355,
     "metadata": {},
     "output_type": "execute_result"
    }
   ],
   "source": [
    "grid_search_rF.best_score_"
   ]
  },
  {
   "cell_type": "code",
   "execution_count": null,
   "id": "3804da12-af90-48a1-9d9b-64e9d111da02",
   "metadata": {},
   "outputs": [],
   "source": []
  }
 ],
 "metadata": {
  "kernelspec": {
   "display_name": "Python 3",
   "language": "python",
   "name": "python3"
  },
  "language_info": {
   "codemirror_mode": {
    "name": "ipython",
    "version": 3
   },
   "file_extension": ".py",
   "mimetype": "text/x-python",
   "name": "python",
   "nbconvert_exporter": "python",
   "pygments_lexer": "ipython3",
   "version": "3.8.8"
  }
 },
 "nbformat": 4,
 "nbformat_minor": 5
}
