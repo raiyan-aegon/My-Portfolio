{
 "cells": [
  {
   "cell_type": "markdown",
   "id": "f821b431-a290-4138-8985-cf8dbe382606",
   "metadata": {},
   "source": [
    "# Exploratory Data Analysis - Palmer Archipelago (Antarctica) penguin data"
   ]
  },
  {
   "cell_type": "markdown",
   "id": "af3b574b-04a8-4c18-bd02-8c8aca7358da",
   "metadata": {},
   "source": [
    "## Title : Palmer Archipelago Penguin Data"
   ]
  },
  {
   "cell_type": "markdown",
   "id": "b411bbe9-7fb0-47cc-ac1f-70bc0c4e88d7",
   "metadata": {},
   "source": [
    "> Data were collected and made available by Dr. Kristen Gorman and the Palmer Station, Antarctica LTER, a member of the Long Term Ecological Research Network \n",
    "The data folder contains two CSV files\n",
    "1. penguins_size.csv: Simplified data from original penguin data. sets.Contains variables:\n",
    "2. penguins_lter.csv: Original combined data for 3 penguin species (aggregated from individual links below) :\n",
    "\n",
    "## Attribute Information:\n",
    "* studyName: Sampling expedition from which data were collected,generated, etc.\n",
    "* Sample Number - continuous numberng sequence for each sample\n",
    "* species: penguin species (Chinstrap, Adélie, or Gentoo)\n",
    "* Region - Nominal region of Palmer LTER sampling grid\n",
    "* Region - Nominal region of Palmer LTER sampling grid\n",
    "* Island - Island near Palmer Station where samples were collected.-(Dream, Torgersen, or Biscoe) in the Palmer Archipelago (Antarctica)\n",
    "* Stage -  Reproductive stage at sampling\n",
    "* Individual ID - A unique ID for each individual in dataset\n",
    "* Clutch Completion - Was the study nest observed with a full clutch, i.e., 2 eggs.\n",
    "* Date Egg - Date study nest observed with 1 egg (sampled)\n",
    "* culmen_length_mm: length of the dorsal ridge of a bird's bill - culmen length (mm)\n",
    "* culmen_depth_mm: depth of the dorsal ridge of a bird's bill-culmen depth (mm)\n",
    "* flipper_length_mm: Length of flipper - flipper length (mm)\n",
    "* body_mass_g: body mass (g) - Mass of body\n",
    "* sex: penguin sex - code for the sex of an animal\t\n",
    "* Delta 15N - a measure of the ratio of stable isotopes 15N:14N\n",
    "* Delta 13C - a measure of the ratio of stable isotopes 13C:12C\n",
    "* Comment - Text field to provide additional relevant information for data"
   ]
  },
  {
   "cell_type": "markdown",
   "id": "885ff90a-3dff-48dd-aae4-eadab2fae2ec",
   "metadata": {},
   "source": [
    "## Import Libraries and load Data"
   ]
  },
  {
   "cell_type": "code",
   "execution_count": 59,
   "id": "073b08de-8e82-41ad-baf9-33066a800630",
   "metadata": {},
   "outputs": [],
   "source": [
    "import pandas as pd \n",
    "import numpy as np\n",
    "import seaborn as sns\n",
    "import matplotlib.pyplot as plt\n",
    "from IPython import display\n",
    "\n",
    "%matplotlib inline"
   ]
  },
  {
   "cell_type": "code",
   "execution_count": 72,
   "id": "1edba1c0-5def-4dbe-ad16-3c660daf7a1d",
   "metadata": {},
   "outputs": [
    {
     "data": {
      "image/png": "[encoded data removed]",
      "text/plain": [
       "<IPython.core.display.Image object>"
      ]
     },
     "execution_count": 72,
     "metadata": {
      "image/png": {
       "height": 300,
       "width": 600
      }
     },
     "output_type": "execute_result"
    }
   ],
   "source": [
    "display.Image('download.png',width=600,height=300)"
   ]
  },
  {
   "cell_type": "code",
   "execution_count": 56,
   "id": "838ee2ba-0f49-4aa9-b812-ac185f357d97",
   "metadata": {},
   "outputs": [],
   "source": [
    "## reading data \n",
    "penguins_iter = pd.read_csv('penguins_lter.csv')"
   ]
  },
  {
   "cell_type": "code",
   "execution_count": 57,
   "id": "ce9fbdea-98f0-490a-89cd-f2363b2e9b47",
   "metadata": {},
   "outputs": [
    {
     "data": {
      "text/html": [
       "<div>\n",
       "<style scoped>\n",
       "    .dataframe tbody tr th:only-of-type {\n",
       "        vertical-align: middle;\n",
       "    }\n",
       "\n",
       "    .dataframe tbody tr th {\n",
       "        vertical-align: top;\n",
       "    }\n",
       "\n",
       "    .dataframe thead th {\n",
       "        text-align: right;\n",
       "    }\n",
       "</style>\n",
       "<table border=\"1\" class=\"dataframe\">\n",
       "  <thead>\n",
       "    <tr style=\"text-align: right;\">\n",
       "      <th></th>\n",
       "      <th>studyName</th>\n",
       "      <th>Sample Number</th>\n",
       "      <th>Species</th>\n",
       "      <th>Region</th>\n",
       "      <th>Island</th>\n",
       "      <th>Stage</th>\n",
       "      <th>Individual ID</th>\n",
       "      <th>Clutch Completion</th>\n",
       "      <th>Date Egg</th>\n",
       "      <th>Culmen Length (mm)</th>\n",
       "      <th>Culmen Depth (mm)</th>\n",
       "      <th>Flipper Length (mm)</th>\n",
       "      <th>Body Mass (g)</th>\n",
       "      <th>Sex</th>\n",
       "      <th>Delta 15 N (o/oo)</th>\n",
       "      <th>Delta 13 C (o/oo)</th>\n",
       "      <th>Comments</th>\n",
       "    </tr>\n",
       "  </thead>\n",
       "  <tbody>\n",
       "    <tr>\n",
       "      <th>0</th>\n",
       "      <td>PAL0708</td>\n",
       "      <td>1</td>\n",
       "      <td>Adelie Penguin (Pygoscelis adeliae)</td>\n",
       "      <td>Anvers</td>\n",
       "      <td>Torgersen</td>\n",
       "      <td>Adult, 1 Egg Stage</td>\n",
       "      <td>N1A1</td>\n",
       "      <td>Yes</td>\n",
       "      <td>11/11/07</td>\n",
       "      <td>39.1</td>\n",
       "      <td>18.7</td>\n",
       "      <td>181.0</td>\n",
       "      <td>3750.0</td>\n",
       "      <td>MALE</td>\n",
       "      <td>NaN</td>\n",
       "      <td>NaN</td>\n",
       "      <td>Not enough blood for isotopes.</td>\n",
       "    </tr>\n",
       "    <tr>\n",
       "      <th>1</th>\n",
       "      <td>PAL0708</td>\n",
       "      <td>2</td>\n",
       "      <td>Adelie Penguin (Pygoscelis adeliae)</td>\n",
       "      <td>Anvers</td>\n",
       "      <td>Torgersen</td>\n",
       "      <td>Adult, 1 Egg Stage</td>\n",
       "      <td>N1A2</td>\n",
       "      <td>Yes</td>\n",
       "      <td>11/11/07</td>\n",
       "      <td>39.5</td>\n",
       "      <td>17.4</td>\n",
       "      <td>186.0</td>\n",
       "      <td>3800.0</td>\n",
       "      <td>FEMALE</td>\n",
       "      <td>8.94956</td>\n",
       "      <td>-24.69454</td>\n",
       "      <td>NaN</td>\n",
       "    </tr>\n",
       "    <tr>\n",
       "      <th>2</th>\n",
       "      <td>PAL0708</td>\n",
       "      <td>3</td>\n",
       "      <td>Adelie Penguin (Pygoscelis adeliae)</td>\n",
       "      <td>Anvers</td>\n",
       "      <td>Torgersen</td>\n",
       "      <td>Adult, 1 Egg Stage</td>\n",
       "      <td>N2A1</td>\n",
       "      <td>Yes</td>\n",
       "      <td>11/16/07</td>\n",
       "      <td>40.3</td>\n",
       "      <td>18.0</td>\n",
       "      <td>195.0</td>\n",
       "      <td>3250.0</td>\n",
       "      <td>FEMALE</td>\n",
       "      <td>8.36821</td>\n",
       "      <td>-25.33302</td>\n",
       "      <td>NaN</td>\n",
       "    </tr>\n",
       "    <tr>\n",
       "      <th>3</th>\n",
       "      <td>PAL0708</td>\n",
       "      <td>4</td>\n",
       "      <td>Adelie Penguin (Pygoscelis adeliae)</td>\n",
       "      <td>Anvers</td>\n",
       "      <td>Torgersen</td>\n",
       "      <td>Adult, 1 Egg Stage</td>\n",
       "      <td>N2A2</td>\n",
       "      <td>Yes</td>\n",
       "      <td>11/16/07</td>\n",
       "      <td>NaN</td>\n",
       "      <td>NaN</td>\n",
       "      <td>NaN</td>\n",
       "      <td>NaN</td>\n",
       "      <td>NaN</td>\n",
       "      <td>NaN</td>\n",
       "      <td>NaN</td>\n",
       "      <td>Adult not sampled.</td>\n",
       "    </tr>\n",
       "    <tr>\n",
       "      <th>4</th>\n",
       "      <td>PAL0708</td>\n",
       "      <td>5</td>\n",
       "      <td>Adelie Penguin (Pygoscelis adeliae)</td>\n",
       "      <td>Anvers</td>\n",
       "      <td>Torgersen</td>\n",
       "      <td>Adult, 1 Egg Stage</td>\n",
       "      <td>N3A1</td>\n",
       "      <td>Yes</td>\n",
       "      <td>11/16/07</td>\n",
       "      <td>36.7</td>\n",
       "      <td>19.3</td>\n",
       "      <td>193.0</td>\n",
       "      <td>3450.0</td>\n",
       "      <td>FEMALE</td>\n",
       "      <td>8.76651</td>\n",
       "      <td>-25.32426</td>\n",
       "      <td>NaN</td>\n",
       "    </tr>\n",
       "  </tbody>\n",
       "</table>\n",
       "</div>"
      ],
      "text/plain": [
       "  studyName  Sample Number                              Species  Region  \\\n",
       "0   PAL0708              1  Adelie Penguin (Pygoscelis adeliae)  Anvers   \n",
       "1   PAL0708              2  Adelie Penguin (Pygoscelis adeliae)  Anvers   \n",
       "2   PAL0708              3  Adelie Penguin (Pygoscelis adeliae)  Anvers   \n",
       "3   PAL0708              4  Adelie Penguin (Pygoscelis adeliae)  Anvers   \n",
       "4   PAL0708              5  Adelie Penguin (Pygoscelis adeliae)  Anvers   \n",
       "\n",
       "      Island               Stage Individual ID Clutch Completion  Date Egg  \\\n",
       "0  Torgersen  Adult, 1 Egg Stage          N1A1               Yes  11/11/07   \n",
       "1  Torgersen  Adult, 1 Egg Stage          N1A2               Yes  11/11/07   \n",
       "2  Torgersen  Adult, 1 Egg Stage          N2A1               Yes  11/16/07   \n",
       "3  Torgersen  Adult, 1 Egg Stage          N2A2               Yes  11/16/07   \n",
       "4  Torgersen  Adult, 1 Egg Stage          N3A1               Yes  11/16/07   \n",
       "\n",
       "   Culmen Length (mm)  Culmen Depth (mm)  Flipper Length (mm)  Body Mass (g)  \\\n",
       "0                39.1               18.7                181.0         3750.0   \n",
       "1                39.5               17.4                186.0         3800.0   \n",
       "2                40.3               18.0                195.0         3250.0   \n",
       "3                 NaN                NaN                  NaN            NaN   \n",
       "4                36.7               19.3                193.0         3450.0   \n",
       "\n",
       "      Sex  Delta 15 N (o/oo)  Delta 13 C (o/oo)  \\\n",
       "0    MALE                NaN                NaN   \n",
       "1  FEMALE            8.94956          -24.69454   \n",
       "2  FEMALE            8.36821          -25.33302   \n",
       "3     NaN                NaN                NaN   \n",
       "4  FEMALE            8.76651          -25.32426   \n",
       "\n",
       "                         Comments  \n",
       "0  Not enough blood for isotopes.  \n",
       "1                             NaN  \n",
       "2                             NaN  \n",
       "3              Adult not sampled.  \n",
       "4                             NaN  "
      ]
     },
     "execution_count": 57,
     "metadata": {},
     "output_type": "execute_result"
    }
   ],
   "source": [
    "# viewing the data in penguin iter\n",
    "penguins_iter.head()"
   ]
  },
  {
   "cell_type": "code",
   "execution_count": 107,
   "id": "9f44aa82-22ab-408d-8e80-079527bd4268",
   "metadata": {},
   "outputs": [],
   "source": [
    "## Truncate the Species column in order to merge both data frames on the Species column.\n",
    "penguins_iter['Species'] = penguins_iter['Species'].apply(lambda x:str(x).split()[0])"
   ]
  },
  {
   "cell_type": "code",
   "execution_count": 51,
   "id": "6bf33b2d-26f2-4a69-a737-41dea6619252",
   "metadata": {},
   "outputs": [
    {
     "data": {
      "text/html": [
       "<div>\n",
       "<style scoped>\n",
       "    .dataframe tbody tr th:only-of-type {\n",
       "        vertical-align: middle;\n",
       "    }\n",
       "\n",
       "    .dataframe tbody tr th {\n",
       "        vertical-align: top;\n",
       "    }\n",
       "\n",
       "    .dataframe thead th {\n",
       "        text-align: right;\n",
       "    }\n",
       "</style>\n",
       "<table border=\"1\" class=\"dataframe\">\n",
       "  <thead>\n",
       "    <tr style=\"text-align: right;\">\n",
       "      <th></th>\n",
       "      <th>studyName</th>\n",
       "      <th>Sample Number</th>\n",
       "      <th>Species</th>\n",
       "      <th>Region</th>\n",
       "      <th>Island</th>\n",
       "      <th>Stage</th>\n",
       "      <th>Individual ID</th>\n",
       "      <th>Clutch Completion</th>\n",
       "      <th>Date Egg</th>\n",
       "      <th>Culmen Length (mm)</th>\n",
       "      <th>Culmen Depth (mm)</th>\n",
       "      <th>Flipper Length (mm)</th>\n",
       "      <th>Body Mass (g)</th>\n",
       "      <th>Sex</th>\n",
       "      <th>Delta 15 N (o/oo)</th>\n",
       "      <th>Delta 13 C (o/oo)</th>\n",
       "      <th>Comments</th>\n",
       "    </tr>\n",
       "  </thead>\n",
       "  <tbody>\n",
       "    <tr>\n",
       "      <th>88</th>\n",
       "      <td>PAL0809</td>\n",
       "      <td>89</td>\n",
       "      <td>Adelie</td>\n",
       "      <td>Anvers</td>\n",
       "      <td>Dream</td>\n",
       "      <td>Adult, 1 Egg Stage</td>\n",
       "      <td>N44A1</td>\n",
       "      <td>Yes</td>\n",
       "      <td>11/8/08</td>\n",
       "      <td>38.3</td>\n",
       "      <td>19.2</td>\n",
       "      <td>189.0</td>\n",
       "      <td>3950.0</td>\n",
       "      <td>MALE</td>\n",
       "      <td>9.07826</td>\n",
       "      <td>-26.12417</td>\n",
       "      <td>NaN</td>\n",
       "    </tr>\n",
       "    <tr>\n",
       "      <th>161</th>\n",
       "      <td>PAL0708</td>\n",
       "      <td>10</td>\n",
       "      <td>Chinstrap</td>\n",
       "      <td>Anvers</td>\n",
       "      <td>Dream</td>\n",
       "      <td>Adult, 1 Egg Stage</td>\n",
       "      <td>N67A2</td>\n",
       "      <td>Yes</td>\n",
       "      <td>11/21/07</td>\n",
       "      <td>51.3</td>\n",
       "      <td>19.9</td>\n",
       "      <td>198.0</td>\n",
       "      <td>3700.0</td>\n",
       "      <td>MALE</td>\n",
       "      <td>8.79581</td>\n",
       "      <td>-24.36088</td>\n",
       "      <td>NaN</td>\n",
       "    </tr>\n",
       "    <tr>\n",
       "      <th>121</th>\n",
       "      <td>PAL0910</td>\n",
       "      <td>122</td>\n",
       "      <td>Adelie</td>\n",
       "      <td>Anvers</td>\n",
       "      <td>Torgersen</td>\n",
       "      <td>Adult, 1 Egg Stage</td>\n",
       "      <td>N66A2</td>\n",
       "      <td>No</td>\n",
       "      <td>11/17/09</td>\n",
       "      <td>37.7</td>\n",
       "      <td>19.8</td>\n",
       "      <td>198.0</td>\n",
       "      <td>3500.0</td>\n",
       "      <td>MALE</td>\n",
       "      <td>9.11066</td>\n",
       "      <td>-26.42563</td>\n",
       "      <td>Nest never observed with full clutch.</td>\n",
       "    </tr>\n",
       "    <tr>\n",
       "      <th>37</th>\n",
       "      <td>PAL0708</td>\n",
       "      <td>38</td>\n",
       "      <td>Adelie</td>\n",
       "      <td>Anvers</td>\n",
       "      <td>Dream</td>\n",
       "      <td>Adult, 1 Egg Stage</td>\n",
       "      <td>N24A2</td>\n",
       "      <td>Yes</td>\n",
       "      <td>11/16/07</td>\n",
       "      <td>42.2</td>\n",
       "      <td>18.5</td>\n",
       "      <td>180.0</td>\n",
       "      <td>3550.0</td>\n",
       "      <td>FEMALE</td>\n",
       "      <td>8.04787</td>\n",
       "      <td>-25.49523</td>\n",
       "      <td>NaN</td>\n",
       "    </tr>\n",
       "    <tr>\n",
       "      <th>195</th>\n",
       "      <td>PAL0809</td>\n",
       "      <td>44</td>\n",
       "      <td>Chinstrap</td>\n",
       "      <td>Anvers</td>\n",
       "      <td>Dream</td>\n",
       "      <td>Adult, 1 Egg Stage</td>\n",
       "      <td>N75A2</td>\n",
       "      <td>Yes</td>\n",
       "      <td>11/14/08</td>\n",
       "      <td>45.5</td>\n",
       "      <td>17.0</td>\n",
       "      <td>196.0</td>\n",
       "      <td>3500.0</td>\n",
       "      <td>FEMALE</td>\n",
       "      <td>9.36493</td>\n",
       "      <td>-24.66259</td>\n",
       "      <td>NaN</td>\n",
       "    </tr>\n",
       "  </tbody>\n",
       "</table>\n",
       "</div>"
      ],
      "text/plain": [
       "    studyName  Sample Number    Species  Region     Island  \\\n",
       "88    PAL0809             89     Adelie  Anvers      Dream   \n",
       "161   PAL0708             10  Chinstrap  Anvers      Dream   \n",
       "121   PAL0910            122     Adelie  Anvers  Torgersen   \n",
       "37    PAL0708             38     Adelie  Anvers      Dream   \n",
       "195   PAL0809             44  Chinstrap  Anvers      Dream   \n",
       "\n",
       "                  Stage Individual ID Clutch Completion  Date Egg  \\\n",
       "88   Adult, 1 Egg Stage         N44A1               Yes   11/8/08   \n",
       "161  Adult, 1 Egg Stage         N67A2               Yes  11/21/07   \n",
       "121  Adult, 1 Egg Stage         N66A2                No  11/17/09   \n",
       "37   Adult, 1 Egg Stage         N24A2               Yes  11/16/07   \n",
       "195  Adult, 1 Egg Stage         N75A2               Yes  11/14/08   \n",
       "\n",
       "     Culmen Length (mm)  Culmen Depth (mm)  Flipper Length (mm)  \\\n",
       "88                 38.3               19.2                189.0   \n",
       "161                51.3               19.9                198.0   \n",
       "121                37.7               19.8                198.0   \n",
       "37                 42.2               18.5                180.0   \n",
       "195                45.5               17.0                196.0   \n",
       "\n",
       "     Body Mass (g)     Sex  Delta 15 N (o/oo)  Delta 13 C (o/oo)  \\\n",
       "88          3950.0    MALE            9.07826          -26.12417   \n",
       "161         3700.0    MALE            8.79581          -24.36088   \n",
       "121         3500.0    MALE            9.11066          -26.42563   \n",
       "37          3550.0  FEMALE            8.04787          -25.49523   \n",
       "195         3500.0  FEMALE            9.36493          -24.66259   \n",
       "\n",
       "                                  Comments  \n",
       "88                                     NaN  \n",
       "161                                    NaN  \n",
       "121  Nest never observed with full clutch.  \n",
       "37                                     NaN  \n",
       "195                                    NaN  "
      ]
     },
     "execution_count": 51,
     "metadata": {},
     "output_type": "execute_result"
    }
   ],
   "source": [
    "penguins_iter.sample(5)"
   ]
  },
  {
   "cell_type": "code",
   "execution_count": 29,
   "id": "07083550-47a3-4ae1-9c5b-6c0ac8075cd5",
   "metadata": {},
   "outputs": [
    {
     "data": {
      "text/plain": [
       "(344, 17)"
      ]
     },
     "execution_count": 29,
     "metadata": {},
     "output_type": "execute_result"
    }
   ],
   "source": [
    "penguins_iter.shape"
   ]
  },
  {
   "cell_type": "markdown",
   "id": "db72a3bb-7557-4e7c-8e5d-360ec9d691e5",
   "metadata": {},
   "source": [
    "> Observations :\n",
    "   1. The CSV file contains 344 rows and 17 columns"
   ]
  },
  {
   "cell_type": "code",
   "execution_count": 30,
   "id": "968d8bae-af39-49d6-9c18-533692de37d8",
   "metadata": {},
   "outputs": [
    {
     "name": "stdout",
     "output_type": "stream",
     "text": [
      "<class 'pandas.core.frame.DataFrame'>\n",
      "RangeIndex: 344 entries, 0 to 343\n",
      "Data columns (total 17 columns):\n",
      " #   Column               Non-Null Count  Dtype  \n",
      "---  ------               --------------  -----  \n",
      " 0   studyName            344 non-null    object \n",
      " 1   Sample Number        344 non-null    int64  \n",
      " 2   Species              344 non-null    object \n",
      " 3   Region               344 non-null    object \n",
      " 4   Island               344 non-null    object \n",
      " 5   Stage                344 non-null    object \n",
      " 6   Individual ID        344 non-null    object \n",
      " 7   Clutch Completion    344 non-null    object \n",
      " 8   Date Egg             344 non-null    object \n",
      " 9   Culmen Length (mm)   342 non-null    float64\n",
      " 10  Culmen Depth (mm)    342 non-null    float64\n",
      " 11  Flipper Length (mm)  342 non-null    float64\n",
      " 12  Body Mass (g)        342 non-null    float64\n",
      " 13  Sex                  334 non-null    object \n",
      " 14  Delta 15 N (o/oo)    330 non-null    float64\n",
      " 15  Delta 13 C (o/oo)    331 non-null    float64\n",
      " 16  Comments             26 non-null     object \n",
      "dtypes: float64(6), int64(1), object(10)\n",
      "memory usage: 45.8+ KB\n"
     ]
    }
   ],
   "source": [
    "penguins_iter.info()"
   ]
  },
  {
   "cell_type": "markdown",
   "id": "8474a82f-240d-45d0-8d37-3124cceb60e7",
   "metadata": {},
   "source": [
    "> Observations:\n",
    "   1. There are some missing values in (Culmen length,Culmen Depth,Filpper Length,Body mass,sex Delta 15N and Delta 13C)\n",
    "   2. There are 6 float values , one integer and 10 objects/strings"
   ]
  },
  {
   "cell_type": "code",
   "execution_count": 31,
   "id": "c245d3a3-540c-42a7-a1d7-23d6517874f7",
   "metadata": {},
   "outputs": [
    {
     "data": {
      "text/html": [
       "<div>\n",
       "<style scoped>\n",
       "    .dataframe tbody tr th:only-of-type {\n",
       "        vertical-align: middle;\n",
       "    }\n",
       "\n",
       "    .dataframe tbody tr th {\n",
       "        vertical-align: top;\n",
       "    }\n",
       "\n",
       "    .dataframe thead th {\n",
       "        text-align: right;\n",
       "    }\n",
       "</style>\n",
       "<table border=\"1\" class=\"dataframe\">\n",
       "  <thead>\n",
       "    <tr style=\"text-align: right;\">\n",
       "      <th></th>\n",
       "      <th>Sample Number</th>\n",
       "      <th>Culmen Length (mm)</th>\n",
       "      <th>Culmen Depth (mm)</th>\n",
       "      <th>Flipper Length (mm)</th>\n",
       "      <th>Body Mass (g)</th>\n",
       "      <th>Delta 15 N (o/oo)</th>\n",
       "      <th>Delta 13 C (o/oo)</th>\n",
       "    </tr>\n",
       "  </thead>\n",
       "  <tbody>\n",
       "    <tr>\n",
       "      <th>count</th>\n",
       "      <td>344.000000</td>\n",
       "      <td>342.000000</td>\n",
       "      <td>342.000000</td>\n",
       "      <td>342.000000</td>\n",
       "      <td>342.000000</td>\n",
       "      <td>330.000000</td>\n",
       "      <td>331.000000</td>\n",
       "    </tr>\n",
       "    <tr>\n",
       "      <th>mean</th>\n",
       "      <td>63.151163</td>\n",
       "      <td>43.921930</td>\n",
       "      <td>17.151170</td>\n",
       "      <td>200.915205</td>\n",
       "      <td>4201.754386</td>\n",
       "      <td>8.733382</td>\n",
       "      <td>-25.686292</td>\n",
       "    </tr>\n",
       "    <tr>\n",
       "      <th>std</th>\n",
       "      <td>40.430199</td>\n",
       "      <td>5.459584</td>\n",
       "      <td>1.974793</td>\n",
       "      <td>14.061714</td>\n",
       "      <td>801.954536</td>\n",
       "      <td>0.551770</td>\n",
       "      <td>0.793961</td>\n",
       "    </tr>\n",
       "    <tr>\n",
       "      <th>min</th>\n",
       "      <td>1.000000</td>\n",
       "      <td>32.100000</td>\n",
       "      <td>13.100000</td>\n",
       "      <td>172.000000</td>\n",
       "      <td>2700.000000</td>\n",
       "      <td>7.632200</td>\n",
       "      <td>-27.018540</td>\n",
       "    </tr>\n",
       "    <tr>\n",
       "      <th>25%</th>\n",
       "      <td>29.000000</td>\n",
       "      <td>39.225000</td>\n",
       "      <td>15.600000</td>\n",
       "      <td>190.000000</td>\n",
       "      <td>3550.000000</td>\n",
       "      <td>8.299890</td>\n",
       "      <td>-26.320305</td>\n",
       "    </tr>\n",
       "    <tr>\n",
       "      <th>50%</th>\n",
       "      <td>58.000000</td>\n",
       "      <td>44.450000</td>\n",
       "      <td>17.300000</td>\n",
       "      <td>197.000000</td>\n",
       "      <td>4050.000000</td>\n",
       "      <td>8.652405</td>\n",
       "      <td>-25.833520</td>\n",
       "    </tr>\n",
       "    <tr>\n",
       "      <th>75%</th>\n",
       "      <td>95.250000</td>\n",
       "      <td>48.500000</td>\n",
       "      <td>18.700000</td>\n",
       "      <td>213.000000</td>\n",
       "      <td>4750.000000</td>\n",
       "      <td>9.172123</td>\n",
       "      <td>-25.062050</td>\n",
       "    </tr>\n",
       "    <tr>\n",
       "      <th>max</th>\n",
       "      <td>152.000000</td>\n",
       "      <td>59.600000</td>\n",
       "      <td>21.500000</td>\n",
       "      <td>231.000000</td>\n",
       "      <td>6300.000000</td>\n",
       "      <td>10.025440</td>\n",
       "      <td>-23.787670</td>\n",
       "    </tr>\n",
       "  </tbody>\n",
       "</table>\n",
       "</div>"
      ],
      "text/plain": [
       "       Sample Number  Culmen Length (mm)  Culmen Depth (mm)  \\\n",
       "count     344.000000          342.000000         342.000000   \n",
       "mean       63.151163           43.921930          17.151170   \n",
       "std        40.430199            5.459584           1.974793   \n",
       "min         1.000000           32.100000          13.100000   \n",
       "25%        29.000000           39.225000          15.600000   \n",
       "50%        58.000000           44.450000          17.300000   \n",
       "75%        95.250000           48.500000          18.700000   \n",
       "max       152.000000           59.600000          21.500000   \n",
       "\n",
       "       Flipper Length (mm)  Body Mass (g)  Delta 15 N (o/oo)  \\\n",
       "count           342.000000     342.000000         330.000000   \n",
       "mean            200.915205    4201.754386           8.733382   \n",
       "std              14.061714     801.954536           0.551770   \n",
       "min             172.000000    2700.000000           7.632200   \n",
       "25%             190.000000    3550.000000           8.299890   \n",
       "50%             197.000000    4050.000000           8.652405   \n",
       "75%             213.000000    4750.000000           9.172123   \n",
       "max             231.000000    6300.000000          10.025440   \n",
       "\n",
       "       Delta 13 C (o/oo)  \n",
       "count         331.000000  \n",
       "mean          -25.686292  \n",
       "std             0.793961  \n",
       "min           -27.018540  \n",
       "25%           -26.320305  \n",
       "50%           -25.833520  \n",
       "75%           -25.062050  \n",
       "max           -23.787670  "
      ]
     },
     "execution_count": 31,
     "metadata": {},
     "output_type": "execute_result"
    }
   ],
   "source": [
    "penguins_iter.describe()"
   ]
  },
  {
   "cell_type": "markdown",
   "id": "2ed553a6-9221-497a-800d-0dc5f2fe2815",
   "metadata": {},
   "source": [
    "> Observations :\n",
    "  There are 344 samples in this data set"
   ]
  },
  {
   "cell_type": "code",
   "execution_count": 33,
   "id": "a3fbc478-0d2a-457f-b1fa-a70b717a313f",
   "metadata": {},
   "outputs": [
    {
     "data": {
      "text/plain": [
       "Adelie       152\n",
       "Gentoo       124\n",
       "Chinstrap     68\n",
       "Name: Species, dtype: int64"
      ]
     },
     "execution_count": 33,
     "metadata": {},
     "output_type": "execute_result"
    }
   ],
   "source": [
    "penguins_iter['Species'].value_counts()"
   ]
  },
  {
   "cell_type": "markdown",
   "id": "3407cfda-3d66-4d1e-acd9-e31954a96eed",
   "metadata": {},
   "source": [
    "> Observations:\n",
    "   1. Out of 344 penguins , 152 penguins are Adelie,124 are Gentoo and 68 Chinstrap.\n",
    "   2. The data is Balanced"
   ]
  },
  {
   "cell_type": "code",
   "execution_count": 34,
   "id": "a0ccef60-2a45-4531-852f-5feebe677484",
   "metadata": {},
   "outputs": [
    {
     "data": {
      "text/html": [
       "<div>\n",
       "<style scoped>\n",
       "    .dataframe tbody tr th:only-of-type {\n",
       "        vertical-align: middle;\n",
       "    }\n",
       "\n",
       "    .dataframe tbody tr th {\n",
       "        vertical-align: top;\n",
       "    }\n",
       "\n",
       "    .dataframe thead th {\n",
       "        text-align: right;\n",
       "    }\n",
       "</style>\n",
       "<table border=\"1\" class=\"dataframe\">\n",
       "  <thead>\n",
       "    <tr style=\"text-align: right;\">\n",
       "      <th></th>\n",
       "      <th>Sample Number</th>\n",
       "      <th>Culmen Length (mm)</th>\n",
       "      <th>Culmen Depth (mm)</th>\n",
       "      <th>Flipper Length (mm)</th>\n",
       "      <th>Body Mass (g)</th>\n",
       "      <th>Delta 15 N (o/oo)</th>\n",
       "      <th>Delta 13 C (o/oo)</th>\n",
       "    </tr>\n",
       "  </thead>\n",
       "  <tbody>\n",
       "    <tr>\n",
       "      <th>count</th>\n",
       "      <td>152.000000</td>\n",
       "      <td>151.000000</td>\n",
       "      <td>151.000000</td>\n",
       "      <td>151.000000</td>\n",
       "      <td>151.000000</td>\n",
       "      <td>141.000000</td>\n",
       "      <td>141.000000</td>\n",
       "    </tr>\n",
       "    <tr>\n",
       "      <th>mean</th>\n",
       "      <td>76.500000</td>\n",
       "      <td>38.791391</td>\n",
       "      <td>18.346358</td>\n",
       "      <td>189.953642</td>\n",
       "      <td>3700.662252</td>\n",
       "      <td>8.859733</td>\n",
       "      <td>-25.804194</td>\n",
       "    </tr>\n",
       "    <tr>\n",
       "      <th>std</th>\n",
       "      <td>44.022721</td>\n",
       "      <td>2.663405</td>\n",
       "      <td>1.216650</td>\n",
       "      <td>6.539457</td>\n",
       "      <td>458.566126</td>\n",
       "      <td>0.426217</td>\n",
       "      <td>0.588186</td>\n",
       "    </tr>\n",
       "    <tr>\n",
       "      <th>min</th>\n",
       "      <td>1.000000</td>\n",
       "      <td>32.100000</td>\n",
       "      <td>15.500000</td>\n",
       "      <td>172.000000</td>\n",
       "      <td>2850.000000</td>\n",
       "      <td>7.697780</td>\n",
       "      <td>-26.789580</td>\n",
       "    </tr>\n",
       "    <tr>\n",
       "      <th>25%</th>\n",
       "      <td>38.750000</td>\n",
       "      <td>36.750000</td>\n",
       "      <td>17.500000</td>\n",
       "      <td>186.000000</td>\n",
       "      <td>3350.000000</td>\n",
       "      <td>8.567080</td>\n",
       "      <td>-26.230270</td>\n",
       "    </tr>\n",
       "    <tr>\n",
       "      <th>50%</th>\n",
       "      <td>76.500000</td>\n",
       "      <td>38.800000</td>\n",
       "      <td>18.400000</td>\n",
       "      <td>190.000000</td>\n",
       "      <td>3700.000000</td>\n",
       "      <td>8.880980</td>\n",
       "      <td>-25.976960</td>\n",
       "    </tr>\n",
       "    <tr>\n",
       "      <th>75%</th>\n",
       "      <td>114.250000</td>\n",
       "      <td>40.750000</td>\n",
       "      <td>19.000000</td>\n",
       "      <td>195.000000</td>\n",
       "      <td>4000.000000</td>\n",
       "      <td>9.153080</td>\n",
       "      <td>-25.298050</td>\n",
       "    </tr>\n",
       "    <tr>\n",
       "      <th>max</th>\n",
       "      <td>152.000000</td>\n",
       "      <td>46.000000</td>\n",
       "      <td>21.500000</td>\n",
       "      <td>210.000000</td>\n",
       "      <td>4775.000000</td>\n",
       "      <td>9.795320</td>\n",
       "      <td>-23.903090</td>\n",
       "    </tr>\n",
       "  </tbody>\n",
       "</table>\n",
       "</div>"
      ],
      "text/plain": [
       "       Sample Number  Culmen Length (mm)  Culmen Depth (mm)  \\\n",
       "count     152.000000          151.000000         151.000000   \n",
       "mean       76.500000           38.791391          18.346358   \n",
       "std        44.022721            2.663405           1.216650   \n",
       "min         1.000000           32.100000          15.500000   \n",
       "25%        38.750000           36.750000          17.500000   \n",
       "50%        76.500000           38.800000          18.400000   \n",
       "75%       114.250000           40.750000          19.000000   \n",
       "max       152.000000           46.000000          21.500000   \n",
       "\n",
       "       Flipper Length (mm)  Body Mass (g)  Delta 15 N (o/oo)  \\\n",
       "count           151.000000     151.000000         141.000000   \n",
       "mean            189.953642    3700.662252           8.859733   \n",
       "std               6.539457     458.566126           0.426217   \n",
       "min             172.000000    2850.000000           7.697780   \n",
       "25%             186.000000    3350.000000           8.567080   \n",
       "50%             190.000000    3700.000000           8.880980   \n",
       "75%             195.000000    4000.000000           9.153080   \n",
       "max             210.000000    4775.000000           9.795320   \n",
       "\n",
       "       Delta 13 C (o/oo)  \n",
       "count         141.000000  \n",
       "mean          -25.804194  \n",
       "std             0.588186  \n",
       "min           -26.789580  \n",
       "25%           -26.230270  \n",
       "50%           -25.976960  \n",
       "75%           -25.298050  \n",
       "max           -23.903090  "
      ]
     },
     "execution_count": 34,
     "metadata": {},
     "output_type": "execute_result"
    }
   ],
   "source": [
    "adelie_sp =  penguins_iter[penguins_iter['Species']=='Adelie']\n",
    "adelie_sp.describe()"
   ]
  },
  {
   "cell_type": "code",
   "execution_count": 35,
   "id": "570fb086-43eb-4fe5-83c7-40996b8f05d1",
   "metadata": {},
   "outputs": [
    {
     "data": {
      "text/html": [
       "<div>\n",
       "<style scoped>\n",
       "    .dataframe tbody tr th:only-of-type {\n",
       "        vertical-align: middle;\n",
       "    }\n",
       "\n",
       "    .dataframe tbody tr th {\n",
       "        vertical-align: top;\n",
       "    }\n",
       "\n",
       "    .dataframe thead th {\n",
       "        text-align: right;\n",
       "    }\n",
       "</style>\n",
       "<table border=\"1\" class=\"dataframe\">\n",
       "  <thead>\n",
       "    <tr style=\"text-align: right;\">\n",
       "      <th></th>\n",
       "      <th>Sample Number</th>\n",
       "      <th>Culmen Length (mm)</th>\n",
       "      <th>Culmen Depth (mm)</th>\n",
       "      <th>Flipper Length (mm)</th>\n",
       "      <th>Body Mass (g)</th>\n",
       "      <th>Delta 15 N (o/oo)</th>\n",
       "      <th>Delta 13 C (o/oo)</th>\n",
       "    </tr>\n",
       "  </thead>\n",
       "  <tbody>\n",
       "    <tr>\n",
       "      <th>count</th>\n",
       "      <td>124.000000</td>\n",
       "      <td>123.000000</td>\n",
       "      <td>123.000000</td>\n",
       "      <td>123.000000</td>\n",
       "      <td>123.000000</td>\n",
       "      <td>122.000000</td>\n",
       "      <td>122.000000</td>\n",
       "    </tr>\n",
       "    <tr>\n",
       "      <th>mean</th>\n",
       "      <td>62.500000</td>\n",
       "      <td>47.504878</td>\n",
       "      <td>14.982114</td>\n",
       "      <td>217.186992</td>\n",
       "      <td>5076.016260</td>\n",
       "      <td>8.245338</td>\n",
       "      <td>-26.185298</td>\n",
       "    </tr>\n",
       "    <tr>\n",
       "      <th>std</th>\n",
       "      <td>35.939764</td>\n",
       "      <td>3.081857</td>\n",
       "      <td>0.981220</td>\n",
       "      <td>6.484976</td>\n",
       "      <td>504.116237</td>\n",
       "      <td>0.264470</td>\n",
       "      <td>0.538554</td>\n",
       "    </tr>\n",
       "    <tr>\n",
       "      <th>min</th>\n",
       "      <td>1.000000</td>\n",
       "      <td>40.900000</td>\n",
       "      <td>13.100000</td>\n",
       "      <td>203.000000</td>\n",
       "      <td>3950.000000</td>\n",
       "      <td>7.632200</td>\n",
       "      <td>-27.018540</td>\n",
       "    </tr>\n",
       "    <tr>\n",
       "      <th>25%</th>\n",
       "      <td>31.750000</td>\n",
       "      <td>45.300000</td>\n",
       "      <td>14.200000</td>\n",
       "      <td>212.000000</td>\n",
       "      <td>4700.000000</td>\n",
       "      <td>8.102775</td>\n",
       "      <td>-26.690912</td>\n",
       "    </tr>\n",
       "    <tr>\n",
       "      <th>50%</th>\n",
       "      <td>62.500000</td>\n",
       "      <td>47.300000</td>\n",
       "      <td>15.000000</td>\n",
       "      <td>216.000000</td>\n",
       "      <td>5000.000000</td>\n",
       "      <td>8.251170</td>\n",
       "      <td>-26.221575</td>\n",
       "    </tr>\n",
       "    <tr>\n",
       "      <th>75%</th>\n",
       "      <td>93.250000</td>\n",
       "      <td>49.550000</td>\n",
       "      <td>15.700000</td>\n",
       "      <td>221.000000</td>\n",
       "      <td>5500.000000</td>\n",
       "      <td>8.418402</td>\n",
       "      <td>-25.640160</td>\n",
       "    </tr>\n",
       "    <tr>\n",
       "      <th>max</th>\n",
       "      <td>124.000000</td>\n",
       "      <td>59.600000</td>\n",
       "      <td>17.300000</td>\n",
       "      <td>231.000000</td>\n",
       "      <td>6300.000000</td>\n",
       "      <td>8.833520</td>\n",
       "      <td>-25.001690</td>\n",
       "    </tr>\n",
       "  </tbody>\n",
       "</table>\n",
       "</div>"
      ],
      "text/plain": [
       "       Sample Number  Culmen Length (mm)  Culmen Depth (mm)  \\\n",
       "count     124.000000          123.000000         123.000000   \n",
       "mean       62.500000           47.504878          14.982114   \n",
       "std        35.939764            3.081857           0.981220   \n",
       "min         1.000000           40.900000          13.100000   \n",
       "25%        31.750000           45.300000          14.200000   \n",
       "50%        62.500000           47.300000          15.000000   \n",
       "75%        93.250000           49.550000          15.700000   \n",
       "max       124.000000           59.600000          17.300000   \n",
       "\n",
       "       Flipper Length (mm)  Body Mass (g)  Delta 15 N (o/oo)  \\\n",
       "count           123.000000     123.000000         122.000000   \n",
       "mean            217.186992    5076.016260           8.245338   \n",
       "std               6.484976     504.116237           0.264470   \n",
       "min             203.000000    3950.000000           7.632200   \n",
       "25%             212.000000    4700.000000           8.102775   \n",
       "50%             216.000000    5000.000000           8.251170   \n",
       "75%             221.000000    5500.000000           8.418402   \n",
       "max             231.000000    6300.000000           8.833520   \n",
       "\n",
       "       Delta 13 C (o/oo)  \n",
       "count         122.000000  \n",
       "mean          -26.185298  \n",
       "std             0.538554  \n",
       "min           -27.018540  \n",
       "25%           -26.690912  \n",
       "50%           -26.221575  \n",
       "75%           -25.640160  \n",
       "max           -25.001690  "
      ]
     },
     "execution_count": 35,
     "metadata": {},
     "output_type": "execute_result"
    }
   ],
   "source": [
    "gentoo_sp =  penguins_iter[penguins_iter['Species']=='Gentoo']\n",
    "gentoo_sp.describe()"
   ]
  },
  {
   "cell_type": "code",
   "execution_count": 36,
   "id": "7adb6b6f-ee4b-4f87-b43a-6b394f39493d",
   "metadata": {},
   "outputs": [
    {
     "data": {
      "text/html": [
       "<div>\n",
       "<style scoped>\n",
       "    .dataframe tbody tr th:only-of-type {\n",
       "        vertical-align: middle;\n",
       "    }\n",
       "\n",
       "    .dataframe tbody tr th {\n",
       "        vertical-align: top;\n",
       "    }\n",
       "\n",
       "    .dataframe thead th {\n",
       "        text-align: right;\n",
       "    }\n",
       "</style>\n",
       "<table border=\"1\" class=\"dataframe\">\n",
       "  <thead>\n",
       "    <tr style=\"text-align: right;\">\n",
       "      <th></th>\n",
       "      <th>Sample Number</th>\n",
       "      <th>Culmen Length (mm)</th>\n",
       "      <th>Culmen Depth (mm)</th>\n",
       "      <th>Flipper Length (mm)</th>\n",
       "      <th>Body Mass (g)</th>\n",
       "      <th>Delta 15 N (o/oo)</th>\n",
       "      <th>Delta 13 C (o/oo)</th>\n",
       "    </tr>\n",
       "  </thead>\n",
       "  <tbody>\n",
       "    <tr>\n",
       "      <th>count</th>\n",
       "      <td>68.00000</td>\n",
       "      <td>68.000000</td>\n",
       "      <td>68.000000</td>\n",
       "      <td>68.000000</td>\n",
       "      <td>68.000000</td>\n",
       "      <td>67.000000</td>\n",
       "      <td>68.000000</td>\n",
       "    </tr>\n",
       "    <tr>\n",
       "      <th>mean</th>\n",
       "      <td>34.50000</td>\n",
       "      <td>48.833824</td>\n",
       "      <td>18.420588</td>\n",
       "      <td>195.823529</td>\n",
       "      <td>3733.088235</td>\n",
       "      <td>9.356155</td>\n",
       "      <td>-24.546542</td>\n",
       "    </tr>\n",
       "    <tr>\n",
       "      <th>std</th>\n",
       "      <td>19.77372</td>\n",
       "      <td>3.339256</td>\n",
       "      <td>1.135395</td>\n",
       "      <td>7.131894</td>\n",
       "      <td>384.335081</td>\n",
       "      <td>0.368720</td>\n",
       "      <td>0.238809</td>\n",
       "    </tr>\n",
       "    <tr>\n",
       "      <th>min</th>\n",
       "      <td>1.00000</td>\n",
       "      <td>40.900000</td>\n",
       "      <td>16.400000</td>\n",
       "      <td>178.000000</td>\n",
       "      <td>2700.000000</td>\n",
       "      <td>8.471730</td>\n",
       "      <td>-25.145500</td>\n",
       "    </tr>\n",
       "    <tr>\n",
       "      <th>25%</th>\n",
       "      <td>17.75000</td>\n",
       "      <td>46.350000</td>\n",
       "      <td>17.500000</td>\n",
       "      <td>191.000000</td>\n",
       "      <td>3487.500000</td>\n",
       "      <td>9.103675</td>\n",
       "      <td>-24.685153</td>\n",
       "    </tr>\n",
       "    <tr>\n",
       "      <th>50%</th>\n",
       "      <td>34.50000</td>\n",
       "      <td>49.550000</td>\n",
       "      <td>18.450000</td>\n",
       "      <td>196.000000</td>\n",
       "      <td>3700.000000</td>\n",
       "      <td>9.373690</td>\n",
       "      <td>-24.572375</td>\n",
       "    </tr>\n",
       "    <tr>\n",
       "      <th>75%</th>\n",
       "      <td>51.25000</td>\n",
       "      <td>51.075000</td>\n",
       "      <td>19.400000</td>\n",
       "      <td>201.000000</td>\n",
       "      <td>3950.000000</td>\n",
       "      <td>9.620455</td>\n",
       "      <td>-24.400333</td>\n",
       "    </tr>\n",
       "    <tr>\n",
       "      <th>max</th>\n",
       "      <td>68.00000</td>\n",
       "      <td>58.000000</td>\n",
       "      <td>20.800000</td>\n",
       "      <td>212.000000</td>\n",
       "      <td>4800.000000</td>\n",
       "      <td>10.025440</td>\n",
       "      <td>-23.787670</td>\n",
       "    </tr>\n",
       "  </tbody>\n",
       "</table>\n",
       "</div>"
      ],
      "text/plain": [
       "       Sample Number  Culmen Length (mm)  Culmen Depth (mm)  \\\n",
       "count       68.00000           68.000000          68.000000   \n",
       "mean        34.50000           48.833824          18.420588   \n",
       "std         19.77372            3.339256           1.135395   \n",
       "min          1.00000           40.900000          16.400000   \n",
       "25%         17.75000           46.350000          17.500000   \n",
       "50%         34.50000           49.550000          18.450000   \n",
       "75%         51.25000           51.075000          19.400000   \n",
       "max         68.00000           58.000000          20.800000   \n",
       "\n",
       "       Flipper Length (mm)  Body Mass (g)  Delta 15 N (o/oo)  \\\n",
       "count            68.000000      68.000000          67.000000   \n",
       "mean            195.823529    3733.088235           9.356155   \n",
       "std               7.131894     384.335081           0.368720   \n",
       "min             178.000000    2700.000000           8.471730   \n",
       "25%             191.000000    3487.500000           9.103675   \n",
       "50%             196.000000    3700.000000           9.373690   \n",
       "75%             201.000000    3950.000000           9.620455   \n",
       "max             212.000000    4800.000000          10.025440   \n",
       "\n",
       "       Delta 13 C (o/oo)  \n",
       "count          68.000000  \n",
       "mean          -24.546542  \n",
       "std             0.238809  \n",
       "min           -25.145500  \n",
       "25%           -24.685153  \n",
       "50%           -24.572375  \n",
       "75%           -24.400333  \n",
       "max           -23.787670  "
      ]
     },
     "execution_count": 36,
     "metadata": {},
     "output_type": "execute_result"
    }
   ],
   "source": [
    "chinstrap_sp =  penguins_iter[penguins_iter['Species']=='Chinstrap']\n",
    "chinstrap_sp.describe()"
   ]
  },
  {
   "cell_type": "markdown",
   "id": "fafa4bbd-cf77-4cfc-b60f-d71846f3375c",
   "metadata": {},
   "source": [
    "> ### Observations :\n",
    "   1. An average Gentoo species is heavier(5076g) than both Adelie and Chistrap which are 3700g and 3733g respectively.\n",
    "   > Gentoo > Chinstrap > Adelie\n",
    "   2. According to the data Gentoo's have a longer Flipper Length of 217mm, whiles Adelie and Chinstrap have 189mm and 195mm. \n",
    "   > Gentoo > Chinstrap > Adelie\n",
    "   3. An Average Chinstrap has a longer Bill/Beak of 48mm (Culmen Length) and the other species who have 47mm for Gentoo and 38mm for Adelie\n",
    "   > Chinstrap > Gentoo > Adelie\n",
    "   4. An Average Chinstrap and Adele both have wider Bill ridge of 18mm (Culmen depth) than a Gentoo which is 14mm\n",
    "   > Chinstrap == Gentoo > Adelie"
   ]
  },
  {
   "cell_type": "code",
   "execution_count": 75,
   "id": "651a571a-cb2f-4d52-be26-6fe17f92fb09",
   "metadata": {},
   "outputs": [
    {
     "data": {
      "text/plain": [
       "Yes    308\n",
       "No      36\n",
       "Name: Clutch Completion, dtype: int64"
      ]
     },
     "execution_count": 75,
     "metadata": {},
     "output_type": "execute_result"
    }
   ],
   "source": [
    "penguins_iter['Clutch Completion'].value_counts()"
   ]
  },
  {
   "cell_type": "markdown",
   "id": "4ff5560a-dade-41a9-a3e3-1d5e52664e9d",
   "metadata": {},
   "source": [
    "## `Flipper Length`"
   ]
  },
  {
   "cell_type": "code",
   "execution_count": 76,
   "id": "53ca1008-800b-4fd5-b99b-f41d12212a2f",
   "metadata": {},
   "outputs": [
    {
     "data": {
      "image/jpeg": "[encoded data removed]",
      "text/plain": [
       "<IPython.core.display.Image object>"
      ]
     },
     "execution_count": 76,
     "metadata": {},
     "output_type": "execute_result"
    }
   ],
   "source": [
    "display.Image('flipper.jpg')"
   ]
  },
  {
   "cell_type": "code",
   "execution_count": 142,
   "id": "150a7ecc-a05a-4c9c-836d-1664a6657379",
   "metadata": {},
   "outputs": [
    {
     "data": {
      "image/png": "[encoded data removed]",
      "text/plain": [
       "<Figure size 432x288 with 1 Axes>"
      ]
     },
     "metadata": {
      "needs_background": "light"
     },
     "output_type": "display_data"
    }
   ],
   "source": [
    "sns.histplot(penguins_iter,x='Flipper Length (mm)',hue='Species',alpha=.7).set(title='Flipper Length in all species');"
   ]
  },
  {
   "cell_type": "code",
   "execution_count": 166,
   "id": "1be37bb6-09fd-4b4d-bcc7-a2ff915d8533",
   "metadata": {},
   "outputs": [
    {
     "data": {
      "image/png": "[encoded data removed]",
      "text/plain": [
       "<Figure size 432x288 with 1 Axes>"
      ]
     },
     "metadata": {
      "needs_background": "light"
     },
     "output_type": "display_data"
    }
   ],
   "source": [
    "# voilin plot is basically gives you the hisplot and extra details about the data.\n",
    "sns.violinplot(y=penguins_iter['Species'],x=penguins_iter['Flipper Length (mm)']).set(title='Flipper Length in all species');"
   ]
  },
  {
   "cell_type": "markdown",
   "id": "b651fd13-6f90-462f-b23a-acfe99bfba4c",
   "metadata": {},
   "source": [
    "> Observation :\n",
    "   1. if a penguin's flipper length is between 210 - 230 mm then its more likely a Gentoo.\n",
    "   2. When a penguins flipper lenght is between 200 - 215 mm it could be a Chinstrap specie.\n",
    "   3. if a penguins flipper length is between 172 to 200 then its likely Adelie"
   ]
  },
  {
   "cell_type": "markdown",
   "id": "3e865d48-3b1c-43a2-887e-c708b5349d8e",
   "metadata": {},
   "source": [
    "## `Culmen Length and depth`"
   ]
  },
  {
   "cell_type": "code",
   "execution_count": 109,
   "id": "30a6949d-c6ab-477a-ae50-21c8b317526e",
   "metadata": {},
   "outputs": [
    {
     "data": {
      "image/png": "[encoded data removed]",
      "text/plain": [
       "<IPython.core.display.Image object>"
      ]
     },
     "execution_count": 109,
     "metadata": {
      "image/png": {
       "height": 350,
       "width": 500
      }
     },
     "output_type": "execute_result"
    }
   ],
   "source": [
    "display.Image('bill.png',width=500,height=350)"
   ]
  },
  {
   "cell_type": "code",
   "execution_count": 168,
   "id": "b0737fd7-1e39-4cbc-9572-3e6f02b6224f",
   "metadata": {},
   "outputs": [
    {
     "data": {
      "image/png": "[encoded data removed]",
      "text/plain": [
       "<Figure size 1080x360 with 2 Axes>"
      ]
     },
     "metadata": {
      "needs_background": "light"
     },
     "output_type": "display_data"
    }
   ],
   "source": [
    "fig, (ax1,ax2) = plt.subplots(nrows=1,ncols=2,figsize=(15,5))\n",
    "\n",
    "ax1.set(title='Bill length in Culmen (mm)')\n",
    "sns.histplot(penguins_iter,x='Culmen Length (mm)',ax=ax1,hue='Species',alpha=.6);\n",
    "\n",
    "ax2.set(title='Bill Depth in Culmen (mm)')\n",
    "sns.histplot(penguins_iter,x='Culmen Depth (mm)',ax=ax2,hue='Species',alpha=.7);"
   ]
  },
  {
   "cell_type": "code",
   "execution_count": 171,
   "id": "4de676a3-faf2-470e-9dd5-bb4d5904310d",
   "metadata": {},
   "outputs": [
    {
     "data": {
      "image/png": "[encoded data removed]",
      "text/plain": [
       "<Figure size 1080x360 with 2 Axes>"
      ]
     },
     "metadata": {
      "needs_background": "light"
     },
     "output_type": "display_data"
    }
   ],
   "source": [
    "# Voilin Plots \n",
    "fig, (ax1,ax2) = plt.subplots(nrows=1,ncols=2,figsize=(15,5))\n",
    "ax1.set(title='Bill length in Culmen (mm)')\n",
    "sns.violinplot(y=penguins_iter['Species'],x=penguins_iter['Culmen Length (mm)'],ax=ax1);\n",
    "\n",
    "ax2.set(title='Bill Depth in Culmen (mm)')\n",
    "sns.violinplot(y=penguins_iter['Species'],x=penguins_iter['Culmen Depth (mm)'],ax=ax2);\n"
   ]
  },
  {
   "cell_type": "markdown",
   "id": "dd3317d4-8020-49fb-90af-4fc3301bd6d1",
   "metadata": {},
   "source": [
    "> Observations : \n",
    "  * A penguin is more likely to be a Adelie if its culmen length is between 32-38mm and also a penguins culmen length between 40-55 has a 50/50 chance of been a Gentoo or an Chinstrap.\n",
    "  * Also a penguin is more likely a gentoo when when its culment depth is between 13-15mm and from 15-16 is more likely a Adelie and also 50/50 change of it been a Chistrap or adelie when its between 16-21mm"
   ]
  },
  {
   "cell_type": "markdown",
   "id": "ba1508e5-2778-4390-af68-359d572c3593",
   "metadata": {},
   "source": [
    "## `Body Mass`"
   ]
  },
  {
   "cell_type": "code",
   "execution_count": 148,
   "id": "cea650bb-7c1c-4ad2-b0af-c4dfd9274b8a",
   "metadata": {},
   "outputs": [
    {
     "data": {
      "image/png": "[encoded data removed]",
      "text/plain": [
       "<IPython.core.display.Image object>"
      ]
     },
     "execution_count": 148,
     "metadata": {
      "image/png": {
       "height": 400,
       "width": 400
      }
     },
     "output_type": "execute_result"
    }
   ],
   "source": [
    "display.Image('mass.png',width=400,height=400)"
   ]
  },
  {
   "cell_type": "code",
   "execution_count": 145,
   "id": "0c2ed243-2b8e-4eba-a473-20e09e331e5f",
   "metadata": {},
   "outputs": [
    {
     "data": {
      "image/png": "[encoded data removed]",
      "text/plain": [
       "<Figure size 432x288 with 1 Axes>"
      ]
     },
     "metadata": {
      "needs_background": "light"
     },
     "output_type": "display_data"
    }
   ],
   "source": [
    "sns.histplot(penguins_iter,x='Body Mass (g)',hue='Species',alpha=.7).set(title='Body Mass in all species');"
   ]
  },
  {
   "cell_type": "code",
   "execution_count": 174,
   "id": "a9674a70-3f5c-4cf8-87d9-3ba04e62dbd1",
   "metadata": {},
   "outputs": [
    {
     "data": {
      "image/png": "[encoded data removed]",
      "text/plain": [
       "<Figure size 432x288 with 1 Axes>"
      ]
     },
     "metadata": {
      "needs_background": "light"
     },
     "output_type": "display_data"
    }
   ],
   "source": [
    "sns.violinplot(y=penguins_iter['Species'],x=penguins_iter['Body Mass (g)']).set(title='Body Mass in all species');"
   ]
  },
  {
   "cell_type": "markdown",
   "id": "16acc244-d7e2-4e88-933a-66e20d9d7486",
   "metadata": {},
   "source": [
    "> Observations:\n",
    "  * Theres a high chance a penguin with a body mass between 4600-6500g is Gentoo and theres a 50/50 chance of a penguin with body mass between 2500-4600g is been either an Adelie or a Chistrap."
   ]
  },
  {
   "cell_type": "code",
   "execution_count": null,
   "id": "e9e3f5f6-a9c9-4c40-9361-9d1d8e3b3616",
   "metadata": {},
   "outputs": [],
   "source": []
  }
 ],
 "metadata": {
  "kernelspec": {
   "display_name": "Python 3",
   "language": "python",
   "name": "python3"
  },
  "language_info": {
   "codemirror_mode": {
    "name": "ipython",
    "version": 3
   },
   "file_extension": ".py",
   "mimetype": "text/x-python",
   "name": "python",
   "nbconvert_exporter": "python",
   "pygments_lexer": "ipython3",
   "version": "3.8.8"
  }
 },
 "nbformat": 4,
 "nbformat_minor": 5
}
